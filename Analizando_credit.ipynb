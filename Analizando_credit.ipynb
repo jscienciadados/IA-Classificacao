{
  "nbformat": 4,
  "nbformat_minor": 0,
  "metadata": {
    "colab": {
      "name": "Analizando_credit.ipynb",
      "provenance": [],
      "collapsed_sections": [],
      "authorship_tag": "ABX9TyN8qi8Plu/HEPvJhRj7STyY",
      "include_colab_link": true
    },
    "kernelspec": {
      "name": "ir",
      "display_name": "R"
    },
    "language_info": {
      "name": "R"
    }
  },
  "cells": [
    {
      "cell_type": "markdown",
      "metadata": {
        "id": "view-in-github",
        "colab_type": "text"
      },
      "source": [
        "<a href=\"https://colab.research.google.com/github/jscienciadados/IA-Classificacao/blob/main/Analizando_credit.ipynb\" target=\"_parent\"><img src=\"https://colab.research.google.com/assets/colab-badge.svg\" alt=\"Open In Colab\"/></a>"
      ]
    },
    {
      "cell_type": "markdown",
      "metadata": {
        "id": "h_hx-U0oQvCk"
      },
      "source": [
        "# Como utilizar o R no Google Colab\n",
        "\n",
        "1 - Open your favorite browser.\n",
        "2 - Create a new notebook: https://colab.research.google.com/#create=true.\n",
        "\n",
        "ou\n",
        "https://colab.research.google.com/#create=true&language=r\n",
        "\n",
        "À primeira vista, não há diferença entre notebooks com tempos de execução Python e R. No entanto, se formos para as configurações de \"Runtime\" e selecionar \"Alterar tipo de tempo de execução\", obteremos uma caixa de diálogo confirmando que já estamos no tempo de execução R\n"
      ]
    },
    {
      "cell_type": "markdown",
      "metadata": {
        "id": "QpJyBbTNReE3"
      },
      "source": [
        "Porque usar o Google Colab com R? na minha opinião e bom para quem tem pouco recursos disponiveis na maquina e precisa criar uma solução para demonstrar para um potencial cliente. basta voce criar um repositorio no github e ter acesso a internet que voce podera fazer a sua demonstração.\n",
        "\n",
        "Lembrando que é necessário carregar a fonte de dados."
      ]
    },
    {
      "cell_type": "markdown",
      "metadata": {
        "id": "hEDB2co8QTdk"
      },
      "source": [
        "# Instalação das Bibliotecas\n",
        "\n",
        "Basta instala-las apenas uma vez e carrega-las sempre que for utilizá-las."
      ]
    },
    {
      "cell_type": "code",
      "metadata": {
        "id": "aRUrGOif4A_E"
      },
      "source": [
        "#install.packages(\"caret\")\n",
        "#install.packages(\"ROCR\")\n",
        "#install.packages(\"e1071\")"
      ],
      "execution_count": 45,
      "outputs": []
    },
    {
      "cell_type": "markdown",
      "metadata": {
        "id": "jeoWQzioQrCn"
      },
      "source": [
        "Carregas as Bibliotecas"
      ]
    },
    {
      "cell_type": "code",
      "metadata": {
        "colab": {
          "base_uri": "https://localhost:8080/"
        },
        "id": "7j-h5q7f5nfy",
        "outputId": "6e6436b5-da06-412d-e17c-7e43ffa94792"
      },
      "source": [
        "library(caret)\n",
        "library(ROCR)\n",
        "library(e1071)"
      ],
      "execution_count": 2,
      "outputs": [
        {
          "output_type": "stream",
          "text": [
            "Loading required package: lattice\n",
            "\n",
            "Loading required package: ggplot2\n",
            "\n",
            "Warning message in system(\"timedatectl\", intern = TRUE):\n",
            "“running command 'timedatectl' had status 1”\n"
          ],
          "name": "stderr"
        }
      ]
    },
    {
      "cell_type": "code",
      "metadata": {
        "id": "VOYI6-2k8fvF"
      },
      "source": [
        "# Cerregando o dataset\n",
        "cred = read.csv(\"data/credit_dataset_final.csv\", header = TRUE, sep = \",\")"
      ],
      "execution_count": 3,
      "outputs": []
    },
    {
      "cell_type": "code",
      "metadata": {
        "colab": {
          "base_uri": "https://localhost:8080/",
          "height": 303
        },
        "id": "T9MnRnXh9XkS",
        "outputId": "a0a15875-c6d5-417b-e4c9-d50f91dfb5a7"
      },
      "source": [
        "head(cred)"
      ],
      "execution_count": 4,
      "outputs": [
        {
          "output_type": "display_data",
          "data": {
            "text/plain": [
              "  credit.rating account.balance credit.duration.months\n",
              "1 1             1               18                    \n",
              "2 1             1                9                    \n",
              "3 1             2               12                    \n",
              "4 1             1               12                    \n",
              "5 1             1               12                    \n",
              "6 1             1               10                    \n",
              "  previous.credit.payment.status credit.purpose credit.amount savings\n",
              "1 3                              2              1049          1      \n",
              "2 3                              4              2799          1      \n",
              "3 2                              4               841          2      \n",
              "4 3                              4              2122          1      \n",
              "5 3                              4              2171          1      \n",
              "6 3                              4              2241          1      \n",
              "  employment.duration installment.rate marital.status ⋯ residence.duration\n",
              "1 1                   4                1              ⋯ 4                 \n",
              "2 2                   2                3              ⋯ 2                 \n",
              "3 3                   2                1              ⋯ 4                 \n",
              "4 2                   3                3              ⋯ 2                 \n",
              "5 2                   4                3              ⋯ 4                 \n",
              "6 1                   1                3              ⋯ 3                 \n",
              "  current.assets age other.credits apartment.type bank.credits occupation\n",
              "1 2              21  2             1              1            3         \n",
              "2 1              36  2             1              2            3         \n",
              "3 1              23  2             1              1            2         \n",
              "4 1              39  2             1              2            2         \n",
              "5 2              38  1             2              2            2         \n",
              "6 1              48  2             1              2            2         \n",
              "  dependents telephone foreign.worker\n",
              "1 1          1         1             \n",
              "2 2          1         1             \n",
              "3 1          1         1             \n",
              "4 2          1         2             \n",
              "5 1          1         2             \n",
              "6 2          1         2             "
            ],
            "text/latex": "A data.frame: 6 × 21\n\\begin{tabular}{r|lllllllllllllllllllll}\n  & credit.rating & account.balance & credit.duration.months & previous.credit.payment.status & credit.purpose & credit.amount & savings & employment.duration & installment.rate & marital.status & ⋯ & residence.duration & current.assets & age & other.credits & apartment.type & bank.credits & occupation & dependents & telephone & foreign.worker\\\\\n  & <int> & <int> & <int> & <int> & <int> & <int> & <int> & <int> & <int> & <int> & ⋯ & <int> & <int> & <int> & <int> & <int> & <int> & <int> & <int> & <int> & <int>\\\\\n\\hline\n\t1 & 1 & 1 & 18 & 3 & 2 & 1049 & 1 & 1 & 4 & 1 & ⋯ & 4 & 2 & 21 & 2 & 1 & 1 & 3 & 1 & 1 & 1\\\\\n\t2 & 1 & 1 &  9 & 3 & 4 & 2799 & 1 & 2 & 2 & 3 & ⋯ & 2 & 1 & 36 & 2 & 1 & 2 & 3 & 2 & 1 & 1\\\\\n\t3 & 1 & 2 & 12 & 2 & 4 &  841 & 2 & 3 & 2 & 1 & ⋯ & 4 & 1 & 23 & 2 & 1 & 1 & 2 & 1 & 1 & 1\\\\\n\t4 & 1 & 1 & 12 & 3 & 4 & 2122 & 1 & 2 & 3 & 3 & ⋯ & 2 & 1 & 39 & 2 & 1 & 2 & 2 & 2 & 1 & 2\\\\\n\t5 & 1 & 1 & 12 & 3 & 4 & 2171 & 1 & 2 & 4 & 3 & ⋯ & 4 & 2 & 38 & 1 & 2 & 2 & 2 & 1 & 1 & 2\\\\\n\t6 & 1 & 1 & 10 & 3 & 4 & 2241 & 1 & 1 & 1 & 3 & ⋯ & 3 & 1 & 48 & 2 & 1 & 2 & 2 & 2 & 1 & 2\\\\\n\\end{tabular}\n",
            "text/markdown": "\nA data.frame: 6 × 21\n\n| <!--/--> | credit.rating &lt;int&gt; | account.balance &lt;int&gt; | credit.duration.months &lt;int&gt; | previous.credit.payment.status &lt;int&gt; | credit.purpose &lt;int&gt; | credit.amount &lt;int&gt; | savings &lt;int&gt; | employment.duration &lt;int&gt; | installment.rate &lt;int&gt; | marital.status &lt;int&gt; | ⋯ ⋯ | residence.duration &lt;int&gt; | current.assets &lt;int&gt; | age &lt;int&gt; | other.credits &lt;int&gt; | apartment.type &lt;int&gt; | bank.credits &lt;int&gt; | occupation &lt;int&gt; | dependents &lt;int&gt; | telephone &lt;int&gt; | foreign.worker &lt;int&gt; |\n|---|---|---|---|---|---|---|---|---|---|---|---|---|---|---|---|---|---|---|---|---|---|\n| 1 | 1 | 1 | 18 | 3 | 2 | 1049 | 1 | 1 | 4 | 1 | ⋯ | 4 | 2 | 21 | 2 | 1 | 1 | 3 | 1 | 1 | 1 |\n| 2 | 1 | 1 |  9 | 3 | 4 | 2799 | 1 | 2 | 2 | 3 | ⋯ | 2 | 1 | 36 | 2 | 1 | 2 | 3 | 2 | 1 | 1 |\n| 3 | 1 | 2 | 12 | 2 | 4 |  841 | 2 | 3 | 2 | 1 | ⋯ | 4 | 1 | 23 | 2 | 1 | 1 | 2 | 1 | 1 | 1 |\n| 4 | 1 | 1 | 12 | 3 | 4 | 2122 | 1 | 2 | 3 | 3 | ⋯ | 2 | 1 | 39 | 2 | 1 | 2 | 2 | 2 | 1 | 2 |\n| 5 | 1 | 1 | 12 | 3 | 4 | 2171 | 1 | 2 | 4 | 3 | ⋯ | 4 | 2 | 38 | 1 | 2 | 2 | 2 | 1 | 1 | 2 |\n| 6 | 1 | 1 | 10 | 3 | 4 | 2241 | 1 | 1 | 1 | 3 | ⋯ | 3 | 1 | 48 | 2 | 1 | 2 | 2 | 2 | 1 | 2 |\n\n",
            "text/html": [
              "<table class=\"dataframe\">\n",
              "<caption>A data.frame: 6 × 21</caption>\n",
              "<thead>\n",
              "\t<tr><th></th><th scope=col>credit.rating</th><th scope=col>account.balance</th><th scope=col>credit.duration.months</th><th scope=col>previous.credit.payment.status</th><th scope=col>credit.purpose</th><th scope=col>credit.amount</th><th scope=col>savings</th><th scope=col>employment.duration</th><th scope=col>installment.rate</th><th scope=col>marital.status</th><th scope=col>⋯</th><th scope=col>residence.duration</th><th scope=col>current.assets</th><th scope=col>age</th><th scope=col>other.credits</th><th scope=col>apartment.type</th><th scope=col>bank.credits</th><th scope=col>occupation</th><th scope=col>dependents</th><th scope=col>telephone</th><th scope=col>foreign.worker</th></tr>\n",
              "\t<tr><th></th><th scope=col>&lt;int&gt;</th><th scope=col>&lt;int&gt;</th><th scope=col>&lt;int&gt;</th><th scope=col>&lt;int&gt;</th><th scope=col>&lt;int&gt;</th><th scope=col>&lt;int&gt;</th><th scope=col>&lt;int&gt;</th><th scope=col>&lt;int&gt;</th><th scope=col>&lt;int&gt;</th><th scope=col>&lt;int&gt;</th><th scope=col>⋯</th><th scope=col>&lt;int&gt;</th><th scope=col>&lt;int&gt;</th><th scope=col>&lt;int&gt;</th><th scope=col>&lt;int&gt;</th><th scope=col>&lt;int&gt;</th><th scope=col>&lt;int&gt;</th><th scope=col>&lt;int&gt;</th><th scope=col>&lt;int&gt;</th><th scope=col>&lt;int&gt;</th><th scope=col>&lt;int&gt;</th></tr>\n",
              "</thead>\n",
              "<tbody>\n",
              "\t<tr><th scope=row>1</th><td>1</td><td>1</td><td>18</td><td>3</td><td>2</td><td>1049</td><td>1</td><td>1</td><td>4</td><td>1</td><td>⋯</td><td>4</td><td>2</td><td>21</td><td>2</td><td>1</td><td>1</td><td>3</td><td>1</td><td>1</td><td>1</td></tr>\n",
              "\t<tr><th scope=row>2</th><td>1</td><td>1</td><td> 9</td><td>3</td><td>4</td><td>2799</td><td>1</td><td>2</td><td>2</td><td>3</td><td>⋯</td><td>2</td><td>1</td><td>36</td><td>2</td><td>1</td><td>2</td><td>3</td><td>2</td><td>1</td><td>1</td></tr>\n",
              "\t<tr><th scope=row>3</th><td>1</td><td>2</td><td>12</td><td>2</td><td>4</td><td> 841</td><td>2</td><td>3</td><td>2</td><td>1</td><td>⋯</td><td>4</td><td>1</td><td>23</td><td>2</td><td>1</td><td>1</td><td>2</td><td>1</td><td>1</td><td>1</td></tr>\n",
              "\t<tr><th scope=row>4</th><td>1</td><td>1</td><td>12</td><td>3</td><td>4</td><td>2122</td><td>1</td><td>2</td><td>3</td><td>3</td><td>⋯</td><td>2</td><td>1</td><td>39</td><td>2</td><td>1</td><td>2</td><td>2</td><td>2</td><td>1</td><td>2</td></tr>\n",
              "\t<tr><th scope=row>5</th><td>1</td><td>1</td><td>12</td><td>3</td><td>4</td><td>2171</td><td>1</td><td>2</td><td>4</td><td>3</td><td>⋯</td><td>4</td><td>2</td><td>38</td><td>1</td><td>2</td><td>2</td><td>2</td><td>1</td><td>1</td><td>2</td></tr>\n",
              "\t<tr><th scope=row>6</th><td>1</td><td>1</td><td>10</td><td>3</td><td>4</td><td>2241</td><td>1</td><td>1</td><td>1</td><td>3</td><td>⋯</td><td>3</td><td>1</td><td>48</td><td>2</td><td>1</td><td>2</td><td>2</td><td>2</td><td>1</td><td>2</td></tr>\n",
              "</tbody>\n",
              "</table>\n"
            ]
          },
          "metadata": {
            "tags": []
          }
        }
      ]
    },
    {
      "cell_type": "code",
      "metadata": {
        "colab": {
          "base_uri": "https://localhost:8080/",
          "height": 731
        },
        "id": "s70FtdHl9cHY",
        "outputId": "604ba323-a3bd-4d43-fff0-da2ca9abdb86"
      },
      "source": [
        "summary(cred)"
      ],
      "execution_count": 5,
      "outputs": [
        {
          "output_type": "display_data",
          "data": {
            "text/plain": [
              " credit.rating account.balance credit.duration.months\n",
              " Min.   :0.0   Min.   :1.000   Min.   : 4.0          \n",
              " 1st Qu.:0.0   1st Qu.:1.000   1st Qu.:12.0          \n",
              " Median :1.0   Median :2.000   Median :18.0          \n",
              " Mean   :0.7   Mean   :2.183   Mean   :20.9          \n",
              " 3rd Qu.:1.0   3rd Qu.:3.000   3rd Qu.:24.0          \n",
              " Max.   :1.0   Max.   :3.000   Max.   :72.0          \n",
              " previous.credit.payment.status credit.purpose  credit.amount      savings     \n",
              " Min.   :1.000                  Min.   :1.000   Min.   :  250   Min.   :1.000  \n",
              " 1st Qu.:2.000                  1st Qu.:2.000   1st Qu.: 1366   1st Qu.:1.000  \n",
              " Median :2.000                  Median :3.000   Median : 2320   Median :1.000  \n",
              " Mean   :2.292                  Mean   :2.965   Mean   : 3271   Mean   :1.874  \n",
              " 3rd Qu.:3.000                  3rd Qu.:4.000   3rd Qu.: 3972   3rd Qu.:3.000  \n",
              " Max.   :3.000                  Max.   :4.000   Max.   :18424   Max.   :4.000  \n",
              " employment.duration installment.rate marital.status    guarantor    \n",
              " Min.   :1.000       Min.   :1.000    Min.   :1.000   Min.   :1.000  \n",
              " 1st Qu.:2.000       1st Qu.:2.000    1st Qu.:1.000   1st Qu.:1.000  \n",
              " Median :2.000       Median :3.000    Median :3.000   Median :1.000  \n",
              " Mean   :2.446       Mean   :2.973    Mean   :2.372   Mean   :1.093  \n",
              " 3rd Qu.:4.000       3rd Qu.:4.000    3rd Qu.:3.000   3rd Qu.:1.000  \n",
              " Max.   :4.000       Max.   :4.000    Max.   :4.000   Max.   :2.000  \n",
              " residence.duration current.assets       age        other.credits  \n",
              " Min.   :1.000      Min.   :1.000   Min.   :19.00   Min.   :1.000  \n",
              " 1st Qu.:2.000      1st Qu.:1.000   1st Qu.:27.00   1st Qu.:2.000  \n",
              " Median :3.000      Median :2.000   Median :33.00   Median :2.000  \n",
              " Mean   :2.845      Mean   :2.358   Mean   :35.54   Mean   :1.814  \n",
              " 3rd Qu.:4.000      3rd Qu.:3.000   3rd Qu.:42.00   3rd Qu.:2.000  \n",
              " Max.   :4.000      Max.   :4.000   Max.   :75.00   Max.   :2.000  \n",
              " apartment.type   bank.credits     occupation      dependents   \n",
              " Min.   :1.000   Min.   :1.000   Min.   :1.000   Min.   :1.000  \n",
              " 1st Qu.:2.000   1st Qu.:1.000   1st Qu.:3.000   1st Qu.:1.000  \n",
              " Median :2.000   Median :1.000   Median :3.000   Median :1.000  \n",
              " Mean   :1.928   Mean   :1.367   Mean   :2.904   Mean   :1.155  \n",
              " 3rd Qu.:2.000   3rd Qu.:2.000   3rd Qu.:3.000   3rd Qu.:1.000  \n",
              " Max.   :3.000   Max.   :2.000   Max.   :4.000   Max.   :2.000  \n",
              "   telephone     foreign.worker \n",
              " Min.   :1.000   Min.   :1.000  \n",
              " 1st Qu.:1.000   1st Qu.:1.000  \n",
              " Median :1.000   Median :1.000  \n",
              " Mean   :1.404   Mean   :1.037  \n",
              " 3rd Qu.:2.000   3rd Qu.:1.000  \n",
              " Max.   :2.000   Max.   :2.000  "
            ]
          },
          "metadata": {
            "tags": []
          }
        }
      ]
    },
    {
      "cell_type": "code",
      "metadata": {
        "colab": {
          "base_uri": "https://localhost:8080/"
        },
        "id": "CqYisz6F9lnP",
        "outputId": "3e8ae6cc-2b22-4cc7-b11e-4acf55e9da77"
      },
      "source": [
        "# Tipos dos dados\n",
        "str(cred)"
      ],
      "execution_count": 6,
      "outputs": [
        {
          "output_type": "stream",
          "text": [
            "'data.frame':\t1000 obs. of  21 variables:\n",
            " $ credit.rating                 : int  1 1 1 1 1 1 1 1 1 1 ...\n",
            " $ account.balance               : int  1 1 2 1 1 1 1 1 3 2 ...\n",
            " $ credit.duration.months        : int  18 9 12 12 12 10 8 6 18 24 ...\n",
            " $ previous.credit.payment.status: int  3 3 2 3 3 3 3 3 3 2 ...\n",
            " $ credit.purpose                : int  2 4 4 4 4 4 4 4 3 3 ...\n",
            " $ credit.amount                 : int  1049 2799 841 2122 2171 2241 3398 1361 1098 3758 ...\n",
            " $ savings                       : int  1 1 2 1 1 1 1 1 1 3 ...\n",
            " $ employment.duration           : int  1 2 3 2 2 1 3 1 1 1 ...\n",
            " $ installment.rate              : int  4 2 2 3 4 1 1 2 4 1 ...\n",
            " $ marital.status                : int  1 3 1 3 3 3 3 3 1 1 ...\n",
            " $ guarantor                     : int  1 1 1 1 1 1 1 1 1 1 ...\n",
            " $ residence.duration            : int  4 2 4 2 4 3 4 4 4 4 ...\n",
            " $ current.assets                : int  2 1 1 1 2 1 1 1 3 4 ...\n",
            " $ age                           : int  21 36 23 39 38 48 39 40 65 23 ...\n",
            " $ other.credits                 : int  2 2 2 2 1 2 2 2 2 2 ...\n",
            " $ apartment.type                : int  1 1 1 1 2 1 2 2 2 1 ...\n",
            " $ bank.credits                  : int  1 2 1 2 2 2 2 1 2 1 ...\n",
            " $ occupation                    : int  3 3 2 2 2 2 2 2 1 1 ...\n",
            " $ dependents                    : int  1 2 1 2 1 2 1 2 1 1 ...\n",
            " $ telephone                     : int  1 1 1 1 1 1 1 1 1 1 ...\n",
            " $ foreign.worker                : int  1 1 1 2 2 2 2 2 1 1 ...\n"
          ],
          "name": "stdout"
        }
      ]
    },
    {
      "cell_type": "markdown",
      "metadata": {
        "id": "7pDEyj1V9_BW"
      },
      "source": [
        "Análise Exploratória de Dados"
      ]
    },
    {
      "cell_type": "code",
      "metadata": {
        "id": "9Kn_LUtA96jX"
      },
      "source": [
        "# Transformando variaveis em fatores\n",
        "to.factors <- function(df, variables) {\n",
        "  for (variable in variables) {\n",
        "    df[[variable]] <- as.factor(df[[variable]])\n",
        "  }\n",
        "  return(df)\n",
        "}"
      ],
      "execution_count": 7,
      "outputs": []
    },
    {
      "cell_type": "code",
      "metadata": {
        "id": "uin58OwN-tb3"
      },
      "source": [
        "# Normalização\n",
        "scale.features <- function(df, variables) {\n",
        "  for (variable in variables) {\n",
        "    df[[variable]] <- scale(df[[variable]], center = T, scale = T)\n",
        "  }\n",
        "  return(df)\n",
        "}"
      ],
      "execution_count": 8,
      "outputs": []
    },
    {
      "cell_type": "code",
      "metadata": {
        "id": "PVvOJ-KV_Ubz"
      },
      "source": [
        "# Normalizando as variáveis\n",
        "numeric.vars <- c(\"credit.duration.months\", \"age\", \"credit.amount\")\n",
        "cred_dataset_scaled <- scale.features(cred, numeric.vars)"
      ],
      "execution_count": 9,
      "outputs": []
    },
    {
      "cell_type": "code",
      "metadata": {
        "id": "Vf-h9JDE_2q4"
      },
      "source": [
        "# Variáveis do tipo fator\n",
        "categorical.vars <- c('credit.rating', 'account.balance', 'previous.credit.payment.status',\n",
        "                      'credit.purpose', 'savings', 'employment.duration', 'installment.rate',\n",
        "                      'marital.status', 'guarantor', 'residence.duration', 'current.assets',\n",
        "                      'other.credits', 'apartment.type', 'bank.credits', 'occupation',\n",
        "                      'dependents', 'telephone', 'foreign.worker')"
      ],
      "execution_count": 10,
      "outputs": []
    },
    {
      "cell_type": "code",
      "metadata": {
        "id": "7BZqbh1jAjrr"
      },
      "source": [
        "# Aplicando as conversões ao dataset\n",
        "cred_dataset_final <- to.factors(df = cred_dataset_scaled, variables = categorical.vars)"
      ],
      "execution_count": 11,
      "outputs": []
    },
    {
      "cell_type": "code",
      "metadata": {
        "colab": {
          "base_uri": "https://localhost:8080/",
          "height": 303
        },
        "id": "-mdtca3cBLMf",
        "outputId": "95cbe3b7-3521-43f6-f0e5-9b7928f9fd16"
      },
      "source": [
        "head(cred_dataset_final)"
      ],
      "execution_count": 12,
      "outputs": [
        {
          "output_type": "display_data",
          "data": {
            "text/plain": [
              "  credit.rating account.balance credit.duration.months\n",
              "1 1             1               -0.2407368            \n",
              "2 1             1               -0.9870788            \n",
              "3 1             2               -0.7382981            \n",
              "4 1             1               -0.7382981            \n",
              "5 1             1               -0.7382981            \n",
              "6 1             1               -0.9041519            \n",
              "  previous.credit.payment.status credit.purpose credit.amount savings\n",
              "1 3                              2              -0.7872630    1      \n",
              "2 3                              4              -0.1673006    1      \n",
              "3 2                              4              -0.8609500    2      \n",
              "4 3                              4              -0.4071375    1      \n",
              "5 3                              4              -0.3897785    1      \n",
              "6 3                              4              -0.3649800    1      \n",
              "  employment.duration installment.rate marital.status ⋯ residence.duration\n",
              "1 1                   4                1              ⋯ 4                 \n",
              "2 2                   2                3              ⋯ 2                 \n",
              "3 3                   2                1              ⋯ 4                 \n",
              "4 2                   3                3              ⋯ 2                 \n",
              "5 2                   4                3              ⋯ 4                 \n",
              "6 1                   1                3              ⋯ 3                 \n",
              "  current.assets age         other.credits apartment.type bank.credits\n",
              "1 2              -1.28093214 2             1              1           \n",
              "2 1               0.04034293 2             1              2           \n",
              "3 1              -1.10476213 2             1              1           \n",
              "4 1               0.30459795 2             1              2           \n",
              "5 2               0.21651294 1             2              2           \n",
              "6 1               1.09736299 2             1              2           \n",
              "  occupation dependents telephone foreign.worker\n",
              "1 3          1          1         1             \n",
              "2 3          2          1         1             \n",
              "3 2          1          1         1             \n",
              "4 2          2          1         2             \n",
              "5 2          1          1         2             \n",
              "6 2          2          1         2             "
            ],
            "text/latex": "A data.frame: 6 × 21\n\\begin{tabular}{r|lllllllllllllllllllll}\n  & credit.rating & account.balance & credit.duration.months & previous.credit.payment.status & credit.purpose & credit.amount & savings & employment.duration & installment.rate & marital.status & ⋯ & residence.duration & current.assets & age & other.credits & apartment.type & bank.credits & occupation & dependents & telephone & foreign.worker\\\\\n  & <fct> & <fct> & <dbl{[},1{]}> & <fct> & <fct> & <dbl{[},1{]}> & <fct> & <fct> & <fct> & <fct> & ⋯ & <fct> & <fct> & <dbl{[},1{]}> & <fct> & <fct> & <fct> & <fct> & <fct> & <fct> & <fct>\\\\\n\\hline\n\t1 & 1 & 1 & -0.2407368 & 3 & 2 & -0.7872630 & 1 & 1 & 4 & 1 & ⋯ & 4 & 2 & -1.28093214 & 2 & 1 & 1 & 3 & 1 & 1 & 1\\\\\n\t2 & 1 & 1 & -0.9870788 & 3 & 4 & -0.1673006 & 1 & 2 & 2 & 3 & ⋯ & 2 & 1 &  0.04034293 & 2 & 1 & 2 & 3 & 2 & 1 & 1\\\\\n\t3 & 1 & 2 & -0.7382981 & 2 & 4 & -0.8609500 & 2 & 3 & 2 & 1 & ⋯ & 4 & 1 & -1.10476213 & 2 & 1 & 1 & 2 & 1 & 1 & 1\\\\\n\t4 & 1 & 1 & -0.7382981 & 3 & 4 & -0.4071375 & 1 & 2 & 3 & 3 & ⋯ & 2 & 1 &  0.30459795 & 2 & 1 & 2 & 2 & 2 & 1 & 2\\\\\n\t5 & 1 & 1 & -0.7382981 & 3 & 4 & -0.3897785 & 1 & 2 & 4 & 3 & ⋯ & 4 & 2 &  0.21651294 & 1 & 2 & 2 & 2 & 1 & 1 & 2\\\\\n\t6 & 1 & 1 & -0.9041519 & 3 & 4 & -0.3649800 & 1 & 1 & 1 & 3 & ⋯ & 3 & 1 &  1.09736299 & 2 & 1 & 2 & 2 & 2 & 1 & 2\\\\\n\\end{tabular}\n",
            "text/markdown": "\nA data.frame: 6 × 21\n\n| <!--/--> | credit.rating &lt;fct&gt; | account.balance &lt;fct&gt; | credit.duration.months &lt;dbl[,1]&gt; | previous.credit.payment.status &lt;fct&gt; | credit.purpose &lt;fct&gt; | credit.amount &lt;dbl[,1]&gt; | savings &lt;fct&gt; | employment.duration &lt;fct&gt; | installment.rate &lt;fct&gt; | marital.status &lt;fct&gt; | ⋯ ⋯ | residence.duration &lt;fct&gt; | current.assets &lt;fct&gt; | age &lt;dbl[,1]&gt; | other.credits &lt;fct&gt; | apartment.type &lt;fct&gt; | bank.credits &lt;fct&gt; | occupation &lt;fct&gt; | dependents &lt;fct&gt; | telephone &lt;fct&gt; | foreign.worker &lt;fct&gt; |\n|---|---|---|---|---|---|---|---|---|---|---|---|---|---|---|---|---|---|---|---|---|---|\n| 1 | 1 | 1 | -0.2407368 | 3 | 2 | -0.7872630 | 1 | 1 | 4 | 1 | ⋯ | 4 | 2 | -1.28093214 | 2 | 1 | 1 | 3 | 1 | 1 | 1 |\n| 2 | 1 | 1 | -0.9870788 | 3 | 4 | -0.1673006 | 1 | 2 | 2 | 3 | ⋯ | 2 | 1 |  0.04034293 | 2 | 1 | 2 | 3 | 2 | 1 | 1 |\n| 3 | 1 | 2 | -0.7382981 | 2 | 4 | -0.8609500 | 2 | 3 | 2 | 1 | ⋯ | 4 | 1 | -1.10476213 | 2 | 1 | 1 | 2 | 1 | 1 | 1 |\n| 4 | 1 | 1 | -0.7382981 | 3 | 4 | -0.4071375 | 1 | 2 | 3 | 3 | ⋯ | 2 | 1 |  0.30459795 | 2 | 1 | 2 | 2 | 2 | 1 | 2 |\n| 5 | 1 | 1 | -0.7382981 | 3 | 4 | -0.3897785 | 1 | 2 | 4 | 3 | ⋯ | 4 | 2 |  0.21651294 | 1 | 2 | 2 | 2 | 1 | 1 | 2 |\n| 6 | 1 | 1 | -0.9041519 | 3 | 4 | -0.3649800 | 1 | 1 | 1 | 3 | ⋯ | 3 | 1 |  1.09736299 | 2 | 1 | 2 | 2 | 2 | 1 | 2 |\n\n",
            "text/html": [
              "<table class=\"dataframe\">\n",
              "<caption>A data.frame: 6 × 21</caption>\n",
              "<thead>\n",
              "\t<tr><th></th><th scope=col>credit.rating</th><th scope=col>account.balance</th><th scope=col>credit.duration.months</th><th scope=col>previous.credit.payment.status</th><th scope=col>credit.purpose</th><th scope=col>credit.amount</th><th scope=col>savings</th><th scope=col>employment.duration</th><th scope=col>installment.rate</th><th scope=col>marital.status</th><th scope=col>⋯</th><th scope=col>residence.duration</th><th scope=col>current.assets</th><th scope=col>age</th><th scope=col>other.credits</th><th scope=col>apartment.type</th><th scope=col>bank.credits</th><th scope=col>occupation</th><th scope=col>dependents</th><th scope=col>telephone</th><th scope=col>foreign.worker</th></tr>\n",
              "\t<tr><th></th><th scope=col>&lt;fct&gt;</th><th scope=col>&lt;fct&gt;</th><th scope=col>&lt;dbl[,1]&gt;</th><th scope=col>&lt;fct&gt;</th><th scope=col>&lt;fct&gt;</th><th scope=col>&lt;dbl[,1]&gt;</th><th scope=col>&lt;fct&gt;</th><th scope=col>&lt;fct&gt;</th><th scope=col>&lt;fct&gt;</th><th scope=col>&lt;fct&gt;</th><th scope=col>⋯</th><th scope=col>&lt;fct&gt;</th><th scope=col>&lt;fct&gt;</th><th scope=col>&lt;dbl[,1]&gt;</th><th scope=col>&lt;fct&gt;</th><th scope=col>&lt;fct&gt;</th><th scope=col>&lt;fct&gt;</th><th scope=col>&lt;fct&gt;</th><th scope=col>&lt;fct&gt;</th><th scope=col>&lt;fct&gt;</th><th scope=col>&lt;fct&gt;</th></tr>\n",
              "</thead>\n",
              "<tbody>\n",
              "\t<tr><th scope=row>1</th><td>1</td><td>1</td><td>-0.2407368</td><td>3</td><td>2</td><td>-0.7872630</td><td>1</td><td>1</td><td>4</td><td>1</td><td>⋯</td><td>4</td><td>2</td><td>-1.28093214</td><td>2</td><td>1</td><td>1</td><td>3</td><td>1</td><td>1</td><td>1</td></tr>\n",
              "\t<tr><th scope=row>2</th><td>1</td><td>1</td><td>-0.9870788</td><td>3</td><td>4</td><td>-0.1673006</td><td>1</td><td>2</td><td>2</td><td>3</td><td>⋯</td><td>2</td><td>1</td><td> 0.04034293</td><td>2</td><td>1</td><td>2</td><td>3</td><td>2</td><td>1</td><td>1</td></tr>\n",
              "\t<tr><th scope=row>3</th><td>1</td><td>2</td><td>-0.7382981</td><td>2</td><td>4</td><td>-0.8609500</td><td>2</td><td>3</td><td>2</td><td>1</td><td>⋯</td><td>4</td><td>1</td><td>-1.10476213</td><td>2</td><td>1</td><td>1</td><td>2</td><td>1</td><td>1</td><td>1</td></tr>\n",
              "\t<tr><th scope=row>4</th><td>1</td><td>1</td><td>-0.7382981</td><td>3</td><td>4</td><td>-0.4071375</td><td>1</td><td>2</td><td>3</td><td>3</td><td>⋯</td><td>2</td><td>1</td><td> 0.30459795</td><td>2</td><td>1</td><td>2</td><td>2</td><td>2</td><td>1</td><td>2</td></tr>\n",
              "\t<tr><th scope=row>5</th><td>1</td><td>1</td><td>-0.7382981</td><td>3</td><td>4</td><td>-0.3897785</td><td>1</td><td>2</td><td>4</td><td>3</td><td>⋯</td><td>4</td><td>2</td><td> 0.21651294</td><td>1</td><td>2</td><td>2</td><td>2</td><td>1</td><td>1</td><td>2</td></tr>\n",
              "\t<tr><th scope=row>6</th><td>1</td><td>1</td><td>-0.9041519</td><td>3</td><td>4</td><td>-0.3649800</td><td>1</td><td>1</td><td>1</td><td>3</td><td>⋯</td><td>3</td><td>1</td><td> 1.09736299</td><td>2</td><td>1</td><td>2</td><td>2</td><td>2</td><td>1</td><td>2</td></tr>\n",
              "</tbody>\n",
              "</table>\n"
            ]
          },
          "metadata": {
            "tags": []
          }
        }
      ]
    },
    {
      "cell_type": "code",
      "metadata": {
        "colab": {
          "base_uri": "https://localhost:8080/",
          "height": 612
        },
        "id": "lln-7XhLBRm8",
        "outputId": "867ed6a9-bcfb-4244-8871-aac199843995"
      },
      "source": [
        "summary(cred_dataset_final)"
      ],
      "execution_count": 13,
      "outputs": [
        {
          "output_type": "display_data",
          "data": {
            "text/plain": [
              " credit.rating account.balance credit.duration.months.V1\n",
              " 0:300         1:274           Min.   :-1.401713        \n",
              " 1:700         2:269           1st Qu.:-0.738298        \n",
              "               3:457           Median :-0.240737        \n",
              "                               Mean   : 0.000000        \n",
              "                               3rd Qu.: 0.256825        \n",
              "                               Max.   : 4.237315        \n",
              " previous.credit.payment.status credit.purpose  credit.amount.V1   savings\n",
              " 1: 89                          1:103          Min.   :-1.070320   1:603  \n",
              " 2:530                          2:181          1st Qu.:-0.675138   2:103  \n",
              " 3:381                          3:364          Median :-0.337170   3:111  \n",
              "                                4:352          Mean   : 0.000000   4:183  \n",
              "                                               3rd Qu.: 0.248340          \n",
              "                                               Max.   : 5.368078          \n",
              " employment.duration installment.rate marital.status guarantor\n",
              " 1:234               1:136            1:360          1:907    \n",
              " 2:339               2:231            3:548          2: 93    \n",
              " 3:174               3:157            4: 92                   \n",
              " 4:253               4:476                                    \n",
              "                                                              \n",
              "                                                              \n",
              " residence.duration current.assets       age.V1        other.credits\n",
              " 1:130              1:282          Min.   :-1.457102   1:186        \n",
              " 2:308              2:232          1st Qu.:-0.752422   2:814        \n",
              " 3:149              3:332          Median :-0.223912                \n",
              " 4:413              4:154          Mean   : 0.000000                \n",
              "                                   3rd Qu.: 0.568853                \n",
              "                                   Max.   : 3.475658                \n",
              " apartment.type bank.credits occupation dependents telephone foreign.worker\n",
              " 1:179          1:633        1: 22      1:845      1:596     1:963         \n",
              " 2:714          2:367        2:200      2:155      2:404     2: 37         \n",
              " 3:107                       3:630                                         \n",
              "                             4:148                                         \n",
              "                                                                           \n",
              "                                                                           "
            ]
          },
          "metadata": {
            "tags": []
          }
        }
      ]
    },
    {
      "cell_type": "code",
      "metadata": {
        "colab": {
          "base_uri": "https://localhost:8080/",
          "height": 51
        },
        "id": "Urmli367BYyv",
        "outputId": "82a75e94-78f7-463f-dc99-b53522d407be"
      },
      "source": [
        "# Preparando os dados de treino e de teste\n",
        "indexes <- sample(1:nrow(cred_dataset_final), size = 0.6 * nrow(cred_dataset_final))\n",
        "train.data <- cred_dataset_final[indexes, ]\n",
        "test.data <- cred_dataset_final[-indexes, ]\n",
        "class(train.data)\n",
        "class(test.data)"
      ],
      "execution_count": 14,
      "outputs": [
        {
          "output_type": "display_data",
          "data": {
            "text/plain": [
              "[1] \"data.frame\""
            ],
            "text/latex": "'data.frame'",
            "text/markdown": "'data.frame'",
            "text/html": [
              "'data.frame'"
            ]
          },
          "metadata": {
            "tags": []
          }
        },
        {
          "output_type": "display_data",
          "data": {
            "text/plain": [
              "[1] \"data.frame\""
            ],
            "text/latex": "'data.frame'",
            "text/markdown": "'data.frame'",
            "text/html": [
              "'data.frame'"
            ]
          },
          "metadata": {
            "tags": []
          }
        }
      ]
    },
    {
      "cell_type": "code",
      "metadata": {
        "colab": {
          "base_uri": "https://localhost:8080/",
          "height": 34
        },
        "id": "zfBbRegICP3-",
        "outputId": "933c0041-aebb-47d7-a9f4-eb397632143d"
      },
      "source": [
        "# Separando os atributos e as classes\n",
        "test.features.vars <- test.data[, -1]\n",
        "test.class.vars <- test.data[, 1]\n",
        "class(test.features.vars)"
      ],
      "execution_count": 15,
      "outputs": [
        {
          "output_type": "display_data",
          "data": {
            "text/plain": [
              "[1] \"data.frame\""
            ],
            "text/latex": "'data.frame'",
            "text/markdown": "'data.frame'",
            "text/html": [
              "'data.frame'"
            ]
          },
          "metadata": {
            "tags": []
          }
        }
      ]
    },
    {
      "cell_type": "code",
      "metadata": {
        "id": "Ev87w2awC4gc"
      },
      "source": [
        "# Construindo o modelo de regressão logistica\n",
        "formula.init <- \"credit.rating ~ .\"\n",
        "formula.init <- as.formula(formula.init)\n",
        "modelo_v1 <- glm(formula = formula.init, data = train.data, family = \"binomial\")"
      ],
      "execution_count": 16,
      "outputs": []
    },
    {
      "cell_type": "code",
      "metadata": {
        "colab": {
          "base_uri": "https://localhost:8080/",
          "height": 1000
        },
        "id": "kctOuNsHDnt4",
        "outputId": "f2d92d52-914e-4d57-caed-5505f5935cbf"
      },
      "source": [
        "# Visualizando os detalhes do modelo\n",
        "summary(modelo_v1)"
      ],
      "execution_count": 17,
      "outputs": [
        {
          "output_type": "display_data",
          "data": {
            "text/plain": [
              "\n",
              "Call:\n",
              "glm(formula = formula.init, family = \"binomial\", data = train.data)\n",
              "\n",
              "Deviance Residuals: \n",
              "    Min       1Q   Median       3Q      Max  \n",
              "-2.6523  -0.6154   0.3916   0.6952   2.3494  \n",
              "\n",
              "Coefficients:\n",
              "                                Estimate Std. Error z value Pr(>|z|)    \n",
              "(Intercept)                      -1.0319     1.1722  -0.880 0.378711    \n",
              "account.balance2                  0.4899     0.2846   1.721 0.085226 .  \n",
              "account.balance3                  1.6019     0.2844   5.632 1.78e-08 ***\n",
              "credit.duration.months           -0.3107     0.1451  -2.141 0.032312 *  \n",
              "previous.credit.payment.status2   0.8784     0.4220   2.081 0.037400 *  \n",
              "previous.credit.payment.status3   1.5348     0.4355   3.524 0.000425 ***\n",
              "credit.purpose2                  -1.6395     0.5125  -3.199 0.001378 ** \n",
              "credit.purpose3                  -1.5388     0.4968  -3.097 0.001953 ** \n",
              "credit.purpose4                  -1.9564     0.4756  -4.113 3.90e-05 ***\n",
              "credit.amount                    -0.3384     0.1758  -1.925 0.054251 .  \n",
              "savings2                          0.5528     0.4161   1.329 0.183934    \n",
              "savings3                          0.7094     0.4270   1.661 0.096632 .  \n",
              "savings4                          0.6431     0.3398   1.892 0.058425 .  \n",
              "employment.duration2              0.3528     0.2991   1.180 0.238195    \n",
              "employment.duration3              1.3512     0.3908   3.457 0.000545 ***\n",
              "employment.duration4              0.3392     0.3503   0.968 0.332880    \n",
              "installment.rate2                -0.1677     0.4011  -0.418 0.675824    \n",
              "installment.rate3                -0.7722     0.4487  -1.721 0.085279 .  \n",
              "installment.rate4                -0.9323     0.3903  -2.389 0.016903 *  \n",
              "marital.status3                   0.4576     0.2668   1.715 0.086339 .  \n",
              "marital.status4                   0.1007     0.3991   0.252 0.800876    \n",
              "guarantor2                        0.1781     0.3624   0.491 0.623166    \n",
              "residence.duration2              -0.6666     0.3996  -1.668 0.095252 .  \n",
              "residence.duration3              -0.8487     0.4391  -1.933 0.053221 .  \n",
              "residence.duration4              -0.4077     0.4119  -0.990 0.322256    \n",
              "current.assets2                  -0.1918     0.3363  -0.570 0.568470    \n",
              "current.assets3                  -0.2234     0.3136  -0.712 0.476287    \n",
              "current.assets4                  -0.8833     0.5417  -1.631 0.102958    \n",
              "age                               0.2203     0.1406   1.567 0.117199    \n",
              "other.credits2                    0.1024     0.2906   0.353 0.724442    \n",
              "apartment.type2                   0.8568     0.2985   2.870 0.004100 ** \n",
              "apartment.type3                   0.6088     0.6032   1.009 0.312862    \n",
              "bank.credits2                    -0.3046     0.2956  -1.030 0.302846    \n",
              "occupation2                       1.5934     1.0608   1.502 0.133080    \n",
              "occupation3                       1.5927     1.0415   1.529 0.126205    \n",
              "occupation4                       1.2710     1.0848   1.172 0.241352    \n",
              "dependents2                       0.2544     0.3409   0.746 0.455514    \n",
              "telephone2                        0.1666     0.2606   0.639 0.522606    \n",
              "foreign.worker2                   0.8090     0.7542   1.073 0.283401    \n",
              "---\n",
              "Signif. codes:  0 ‘***’ 0.001 ‘**’ 0.01 ‘*’ 0.05 ‘.’ 0.1 ‘ ’ 1\n",
              "\n",
              "(Dispersion parameter for binomial family taken to be 1)\n",
              "\n",
              "    Null deviance: 713.42  on 599  degrees of freedom\n",
              "Residual deviance: 529.20  on 561  degrees of freedom\n",
              "AIC: 607.2\n",
              "\n",
              "Number of Fisher Scoring iterations: 5\n"
            ]
          },
          "metadata": {
            "tags": []
          }
        }
      ]
    },
    {
      "cell_type": "code",
      "metadata": {
        "colab": {
          "base_uri": "https://localhost:8080/"
        },
        "id": "9tgZzHS6Dwwm",
        "outputId": "c801822c-e490-4a5c-eb44-bb3b7ccce5d7"
      },
      "source": [
        "# Gerando as previsoes\n",
        "previsoes <- predict(modelo_v1, test.data, type = \"response\")\n",
        "previsoes <- round(previsoes)\n",
        "print(previsoes)"
      ],
      "execution_count": 18,
      "outputs": [
        {
          "output_type": "stream",
          "text": [
            "  1   3   5   9  10  18  20  22  27  29  30  32  35  39  41  45  47  49  53  55 \n",
            "  0   1   1   1   0   1   1   1   0   1   1   1   1   1   1   1   1   1   1   1 \n",
            " 59  63  67  70  76  77  83  88  91  93  96 102 103 107 111 114 115 121 122 123 \n",
            "  1   1   1   1   1   1   1   1   1   0   1   0   1   1   0   1   1   0   1   0 \n",
            "128 130 132 134 135 136 137 140 141 143 148 149 151 158 159 160 162 163 169 172 \n",
            "  1   1   1   1   1   1   1   1   1   1   1   1   1   1   0   1   1   1   1   0 \n",
            "174 177 185 186 192 194 204 205 209 211 212 213 215 218 222 223 229 231 238 241 \n",
            "  1   1   1   1   1   1   1   1   0   1   0   0   0   1   1   1   1   1   0   1 \n",
            "242 243 247 248 249 250 257 258 261 262 266 268 270 272 274 276 277 278 279 281 \n",
            "  1   1   1   1   1   1   1   1   1   1   1   1   1   1   1   1   1   1   1   1 \n",
            "283 285 286 287 290 293 294 296 299 301 302 307 309 312 313 317 319 320 321 325 \n",
            "  1   0   1   1   1   1   1   1   1   0   1   1   0   1   1   1   1   1   1   1 \n",
            "327 328 330 332 334 336 338 339 340 341 342 343 346 347 349 351 352 356 360 363 \n",
            "  1   1   1   1   1   1   1   1   1   1   1   1   1   1   1   1   1   1   1   1 \n",
            "364 366 369 372 376 378 387 388 389 392 396 401 406 407 408 410 411 412 413 416 \n",
            "  1   1   0   1   0   1   1   1   1   1   1   1   0   1   1   1   1   1   1   1 \n",
            "417 418 419 423 425 426 427 428 435 437 440 443 445 448 449 451 452 455 457 460 \n",
            "  1   1   1   0   1   1   1   1   1   1   0   0   1   1   1   1   1   0   1   1 \n",
            "461 462 464 465 466 469 472 476 480 482 485 487 488 489 501 502 503 506 507 509 \n",
            "  1   0   0   0   1   1   1   0   1   1   1   1   1   1   1   1   1   1   1   1 \n",
            "510 511 512 514 517 522 525 526 527 529 531 534 538 548 553 555 556 557 559 562 \n",
            "  1   1   1   1   1   0   1   1   1   1   1   1   1   1   1   1   1   0   1   1 \n",
            "565 566 569 571 572 576 582 583 588 590 591 592 593 598 601 605 607 611 613 614 \n",
            "  1   1   1   1   1   0   1   1   1   0   1   1   0   1   1   1   1   0   1   0 \n",
            "617 618 625 627 628 630 631 633 634 636 637 638 645 648 650 657 658 662 665 673 \n",
            "  1   1   1   1   1   0   0   0   0   0   1   1   1   1   1   1   1   1   1   1 \n",
            "677 681 682 683 688 690 691 692 693 696 700 701 703 707 708 711 712 714 718 720 \n",
            "  1   1   1   1   0   1   1   0   1   1   1   1   0   1   1   1   0   1   1   0 \n",
            "722 723 727 728 730 734 735 742 743 748 755 759 760 761 763 764 765 766 767 771 \n",
            "  1   1   1   1   0   0   1   1   1   1   0   0   0   1   1   0   1   1   1   0 \n",
            "772 775 777 780 781 782 785 787 788 793 798 799 803 804 805 806 807 810 811 813 \n",
            "  0   1   0   1   1   1   0   1   1   0   1   0   0   1   0   0   0   0   0   1 \n",
            "815 816 817 818 821 823 824 826 827 828 830 831 834 835 837 843 844 846 847 848 \n",
            "  1   1   1   1   1   0   0   1   0   0   0   0   1   1   1   1   0   1   0   0 \n",
            "849 850 854 856 863 864 867 871 875 877 878 880 883 885 887 889 890 891 892 897 \n",
            "  0   1   1   0   1   1   0   0   0   0   0   0   0   1   0   0   0   0   1   1 \n",
            "898 899 902 905 906 908 913 916 918 919 921 922 925 926 928 929 930 932 934 938 \n",
            "  0   1   1   0   0   0   1   1   0   0   0   0   1   0   0   1   0   1   1   1 \n",
            "940 942 943 944 945 951 953 954 961 963 966 969 970 972 975 976 977 981 990 991 \n",
            "  1   1   1   0   1   0   1   1   1   0   0   0   0   0   0   0   0   1   0   0 \n"
          ],
          "name": "stdout"
        }
      ]
    },
    {
      "cell_type": "code",
      "metadata": {
        "colab": {
          "base_uri": "https://localhost:8080/",
          "height": 476
        },
        "id": "HcHYkardElx3",
        "outputId": "8c9059c2-5ee1-4b79-8295-23c723bcde00"
      },
      "source": [
        "# Confusion Matrix\n",
        "confusionMatrix(table(data = previsoes, reference = test.class.vars), positive = '1')"
      ],
      "execution_count": 19,
      "outputs": [
        {
          "output_type": "display_data",
          "data": {
            "text/plain": [
              "Confusion Matrix and Statistics\n",
              "\n",
              "    reference\n",
              "data   0   1\n",
              "   0  69  40\n",
              "   1  62 229\n",
              "                                         \n",
              "               Accuracy : 0.745          \n",
              "                 95% CI : (0.6993, 0.787)\n",
              "    No Information Rate : 0.6725         \n",
              "    P-Value [Acc > NIR] : 0.0009827      \n",
              "                                         \n",
              "                  Kappa : 0.395          \n",
              "                                         \n",
              " Mcnemar's Test P-Value : 0.0375889      \n",
              "                                         \n",
              "            Sensitivity : 0.8513         \n",
              "            Specificity : 0.5267         \n",
              "         Pos Pred Value : 0.7869         \n",
              "         Neg Pred Value : 0.6330         \n",
              "             Prevalence : 0.6725         \n",
              "         Detection Rate : 0.5725         \n",
              "   Detection Prevalence : 0.7275         \n",
              "      Balanced Accuracy : 0.6890         \n",
              "                                         \n",
              "       'Positive' Class : 1              \n",
              "                                         "
            ]
          },
          "metadata": {
            "tags": []
          }
        }
      ]
    },
    {
      "cell_type": "markdown",
      "metadata": {
        "id": "llW43uR3Fnbt"
      },
      "source": [
        "Selecionando as melhores features"
      ]
    },
    {
      "cell_type": "code",
      "metadata": {
        "id": "34knInSnFdOA"
      },
      "source": [
        "# Feature Selection\n",
        "formula <- \"credit.rating ~ .\"\n",
        "formula <- as.formula(formula)\n",
        "control <- trainControl(method = \"repeatedcv\", number = 10, repeats = 2)\n",
        "model <- train(formula, data = train.data, method = \"glm\", trControl = control)\n",
        "importance <- varImp(model, scale = FALSE)\n"
      ],
      "execution_count": 20,
      "outputs": []
    },
    {
      "cell_type": "code",
      "metadata": {
        "colab": {
          "base_uri": "https://localhost:8080/",
          "height": 437
        },
        "id": "SJP27GgfGq-n",
        "outputId": "d749adbf-b7b7-4334-cff4-19d3f8080855"
      },
      "source": [
        "# Plot\n",
        "plot(importance)"
      ],
      "execution_count": 21,
      "outputs": [
        {
          "output_type": "display_data",
          "data": {
            "image/png": "[encoded data removed]",
            "text/plain": [
              "plot without title"
            ]
          },
          "metadata": {
            "tags": [],
            "image/png": {
              "width": 420,
              "height": 420
            }
          }
        }
      ]
    },
    {
      "cell_type": "code",
      "metadata": {
        "id": "isDYwj-3HPOL"
      },
      "source": [
        "# Construindo um novo modelo com as variáveis selecionadas\n",
        "formula.new <- \"credit.rating ~ account.balance + credit.purpose + previous.credit.payment.status + savings + credit.duration.months\"\n",
        "formula.new <- as.formula(formula.new)\n",
        "modelo_v2 <- glm(formula = formula.new, data = train.data, family = \"binomial\")"
      ],
      "execution_count": 22,
      "outputs": []
    },
    {
      "cell_type": "code",
      "metadata": {
        "colab": {
          "base_uri": "https://localhost:8080/"
        },
        "id": "cp_MjUjZHnHv",
        "outputId": "b7a3bfa7-c228-418d-aadb-146ed091802c"
      },
      "source": [
        "# Visualizando o novo modelo\n",
        "print(summary(modelo_v2))"
      ],
      "execution_count": 23,
      "outputs": [
        {
          "output_type": "stream",
          "text": [
            "\n",
            "Call:\n",
            "glm(formula = formula.new, family = \"binomial\", data = train.data)\n",
            "\n",
            "Deviance Residuals: \n",
            "    Min       1Q   Median       3Q      Max  \n",
            "-2.4790  -0.8280   0.4995   0.7638   1.8504  \n",
            "\n",
            "Coefficients:\n",
            "                                Estimate Std. Error z value Pr(>|z|)    \n",
            "(Intercept)                      -0.0190     0.4986  -0.038 0.969609    \n",
            "account.balance2                  0.4890     0.2519   1.941 0.052211 .  \n",
            "account.balance3                  1.4805     0.2523   5.867 4.44e-09 ***\n",
            "credit.purpose2                  -1.1452     0.4391  -2.608 0.009098 ** \n",
            "credit.purpose3                  -0.8944     0.4122  -2.170 0.030036 *  \n",
            "credit.purpose4                  -1.2322     0.4076  -3.023 0.002500 ** \n",
            "previous.credit.payment.status2   0.9356     0.3584   2.611 0.009038 ** \n",
            "previous.credit.payment.status3   1.4311     0.3715   3.853 0.000117 ***\n",
            "savings2                          0.4660     0.3672   1.269 0.204484    \n",
            "savings3                          0.6856     0.3880   1.767 0.077240 .  \n",
            "savings4                          0.6510     0.3051   2.134 0.032867 *  \n",
            "credit.duration.months           -0.4623     0.1050  -4.406 1.05e-05 ***\n",
            "---\n",
            "Signif. codes:  0 ‘***’ 0.001 ‘**’ 0.01 ‘*’ 0.05 ‘.’ 0.1 ‘ ’ 1\n",
            "\n",
            "(Dispersion parameter for binomial family taken to be 1)\n",
            "\n",
            "    Null deviance: 713.42  on 599  degrees of freedom\n",
            "Residual deviance: 594.93  on 588  degrees of freedom\n",
            "AIC: 618.93\n",
            "\n",
            "Number of Fisher Scoring iterations: 4\n",
            "\n"
          ],
          "name": "stdout"
        }
      ]
    },
    {
      "cell_type": "code",
      "metadata": {
        "id": "gRT9t8ejH4Ii"
      },
      "source": [
        "# Prevendo e Avaliando o modelo\n",
        "previsoes_new <- predict(modelo_v2, test.data, type = \"response\")\n",
        "previsoes_new <- round(previsoes_new)"
      ],
      "execution_count": 24,
      "outputs": []
    },
    {
      "cell_type": "code",
      "metadata": {
        "colab": {
          "base_uri": "https://localhost:8080/",
          "height": 476
        },
        "id": "aXk4JWQHIQlH",
        "outputId": "268982eb-7600-4784-c86a-a18c4f58e3c0"
      },
      "source": [
        "# Confusion Matrix\n",
        "confusionMatrix(table(data = previsoes_new, test.class.vars), positive = '1')"
      ],
      "execution_count": 25,
      "outputs": [
        {
          "output_type": "display_data",
          "data": {
            "text/plain": [
              "Confusion Matrix and Statistics\n",
              "\n",
              "    test.class.vars\n",
              "data   0   1\n",
              "   0  50  31\n",
              "   1  81 238\n",
              "                                          \n",
              "               Accuracy : 0.72            \n",
              "                 95% CI : (0.6732, 0.7635)\n",
              "    No Information Rate : 0.6725          \n",
              "    P-Value [Acc > NIR] : 0.02326         \n",
              "                                          \n",
              "                  Kappa : 0.2954          \n",
              "                                          \n",
              " Mcnemar's Test P-Value : 3.656e-06       \n",
              "                                          \n",
              "            Sensitivity : 0.8848          \n",
              "            Specificity : 0.3817          \n",
              "         Pos Pred Value : 0.7461          \n",
              "         Neg Pred Value : 0.6173          \n",
              "             Prevalence : 0.6725          \n",
              "         Detection Rate : 0.5950          \n",
              "   Detection Prevalence : 0.7975          \n",
              "      Balanced Accuracy : 0.6332          \n",
              "                                          \n",
              "       'Positive' Class : 1               \n",
              "                                          "
            ]
          },
          "metadata": {
            "tags": []
          }
        }
      ]
    },
    {
      "cell_type": "markdown",
      "metadata": {
        "id": "T27P3FHDInja"
      },
      "source": [
        "Avaliando a performance do modelo"
      ]
    },
    {
      "cell_type": "code",
      "metadata": {
        "id": "e6PJwVYUIiUm"
      },
      "source": [
        "modelo_final <- modelo_v2\n",
        "previsoes <- predict(modelo_final, test.features.vars, type = \"response\")\n",
        "previsoes_finais <- prediction(previsoes, test.class.vars)\n"
      ],
      "execution_count": 26,
      "outputs": []
    },
    {
      "cell_type": "code",
      "metadata": {
        "id": "K90U2DJ9I-se"
      },
      "source": [
        "# Função para Plot ROC\n",
        "plot.roc.curve <- function(predictions, title.text){\n",
        "  perf <- performance(predictions, \"tpr\", \"fpr\")\n",
        "  plot(perf,col = \"black\",lty = 1, lwd = 2,\n",
        "       main = title.text, cex.main = 0.6, cex.lab = 0.8,xaxs = \"i\", yaxs = \"i\")\n",
        "  abline(0,1, col = \"red\")\n",
        "  auc <- performance(predictions,\"auc\")\n",
        "  auc <- unlist(slot(auc, \"y.values\"))\n",
        "  auc <- round(auc,2)\n",
        "  legend(0.4,0.4,legend = c(paste0(\"AUC: \",auc)), cex = 0.6, bty = \"n\", box.col = \"white\")\n",
        " \n",
        "}"
      ],
      "execution_count": 27,
      "outputs": []
    },
    {
      "cell_type": "code",
      "metadata": {
        "colab": {
          "base_uri": "https://localhost:8080/",
          "height": 437
        },
        "id": "ktxR0pduKCaO",
        "outputId": "48b9b8a2-d8e8-41ac-d8e2-58f1cc83be73"
      },
      "source": [
        "# Plot\n",
        "par(mfrow = c(1, 2))\n",
        "plot.roc.curve(previsoes_finais, title.text = \"Curva ROC\")"
      ],
      "execution_count": 28,
      "outputs": [
        {
          "output_type": "display_data",
          "data": {
            "image/png": "[encoded data removed]",
            "text/plain": [
              "Plot with title “Curva ROC”"
            ]
          },
          "metadata": {
            "tags": [],
            "image/png": {
              "width": 420,
              "height": 420
            }
          }
        }
      ]
    },
    {
      "cell_type": "markdown",
      "metadata": {
        "id": "hsV5LwxPKuPs"
      },
      "source": [
        "Fazendo Previsões em novos Dados"
      ]
    },
    {
      "cell_type": "code",
      "metadata": {
        "id": "v7p_S6B5KSsn"
      },
      "source": [
        "# Novos dados\n",
        "account.balance <- c(1, 4, 3)\n",
        "credit.purpose <- c(4, 2, 3)\n",
        "previous.credit.payment.status <- c(3, 3, 2)\n",
        "savings <- c(2, 3, 2)\n",
        "credit.duration.months <- c(15, 12, 8)"
      ],
      "execution_count": 29,
      "outputs": []
    },
    {
      "cell_type": "code",
      "metadata": {
        "id": "xFurK8RrKtef"
      },
      "source": [
        "# Cria um dataframe\n",
        "novo_dataset <- data.frame(account.balance,\n",
        "                           credit.purpose,\n",
        "                           previous.credit.payment.status,\n",
        "                           savings,\n",
        "                          credit.duration.months)"
      ],
      "execution_count": 30,
      "outputs": []
    },
    {
      "cell_type": "code",
      "metadata": {
        "colab": {
          "base_uri": "https://localhost:8080/",
          "height": 190
        },
        "id": "4X7qUHNLK9ZC",
        "outputId": "146f3710-5264-4566-ddc8-be503b6bf792"
      },
      "source": [
        "novo_dataset"
      ],
      "execution_count": 31,
      "outputs": [
        {
          "output_type": "display_data",
          "data": {
            "text/plain": [
              "  account.balance credit.purpose previous.credit.payment.status savings\n",
              "1 1               4              3                              2      \n",
              "2 4               2              3                              3      \n",
              "3 3               3              2                              2      \n",
              "  credit.duration.months\n",
              "1 15                    \n",
              "2 12                    \n",
              "3  8                    "
            ],
            "text/latex": "A data.frame: 3 × 5\n\\begin{tabular}{lllll}\n account.balance & credit.purpose & previous.credit.payment.status & savings & credit.duration.months\\\\\n <dbl> & <dbl> & <dbl> & <dbl> & <dbl>\\\\\n\\hline\n\t 1 & 4 & 3 & 2 & 15\\\\\n\t 4 & 2 & 3 & 3 & 12\\\\\n\t 3 & 3 & 2 & 2 &  8\\\\\n\\end{tabular}\n",
            "text/markdown": "\nA data.frame: 3 × 5\n\n| account.balance &lt;dbl&gt; | credit.purpose &lt;dbl&gt; | previous.credit.payment.status &lt;dbl&gt; | savings &lt;dbl&gt; | credit.duration.months &lt;dbl&gt; |\n|---|---|---|---|---|\n| 1 | 4 | 3 | 2 | 15 |\n| 4 | 2 | 3 | 3 | 12 |\n| 3 | 3 | 2 | 2 |  8 |\n\n",
            "text/html": [
              "<table class=\"dataframe\">\n",
              "<caption>A data.frame: 3 × 5</caption>\n",
              "<thead>\n",
              "\t<tr><th scope=col>account.balance</th><th scope=col>credit.purpose</th><th scope=col>previous.credit.payment.status</th><th scope=col>savings</th><th scope=col>credit.duration.months</th></tr>\n",
              "\t<tr><th scope=col>&lt;dbl&gt;</th><th scope=col>&lt;dbl&gt;</th><th scope=col>&lt;dbl&gt;</th><th scope=col>&lt;dbl&gt;</th><th scope=col>&lt;dbl&gt;</th></tr>\n",
              "</thead>\n",
              "<tbody>\n",
              "\t<tr><td>1</td><td>4</td><td>3</td><td>2</td><td>15</td></tr>\n",
              "\t<tr><td>4</td><td>2</td><td>3</td><td>3</td><td>12</td></tr>\n",
              "\t<tr><td>3</td><td>3</td><td>2</td><td>2</td><td> 8</td></tr>\n",
              "</tbody>\n",
              "</table>\n"
            ]
          },
          "metadata": {
            "tags": []
          }
        }
      ]
    },
    {
      "cell_type": "code",
      "metadata": {
        "id": "gQo3qOnnK_uH"
      },
      "source": [
        "# Separa variáveis explanatórias numéricas e categóricas\n",
        "new.numeric.vars <- c(\"credit.duration.months\")\n",
        "new.categorical.vars <- c('account.balance', 'previous.credit.payment.status',\n",
        "                          'credit.purpose', 'savings')\n"
      ],
      "execution_count": 32,
      "outputs": []
    },
    {
      "cell_type": "code",
      "metadata": {
        "colab": {
          "base_uri": "https://localhost:8080/"
        },
        "id": "--ZzxD-VMMg6",
        "outputId": "9b47be82-49fa-46c5-b680-d7234bf325ab"
      },
      "source": [
        "# Aplica as transformações\n",
        "novo_dataset_final <- to.factors(df = novo_dataset, variables = new.categorical.vars)\n",
        "str(novo_dataset_final)"
      ],
      "execution_count": 34,
      "outputs": [
        {
          "output_type": "stream",
          "text": [
            "'data.frame':\t3 obs. of  5 variables:\n",
            " $ account.balance               : Factor w/ 3 levels \"1\",\"3\",\"4\": 1 3 2\n",
            " $ credit.purpose                : Factor w/ 3 levels \"2\",\"3\",\"4\": 3 1 2\n",
            " $ previous.credit.payment.status: Factor w/ 2 levels \"2\",\"3\": 2 2 1\n",
            " $ savings                       : Factor w/ 2 levels \"2\",\"3\": 1 2 1\n",
            " $ credit.duration.months        : num  15 12 8\n"
          ],
          "name": "stdout"
        }
      ]
    },
    {
      "cell_type": "code",
      "metadata": {
        "colab": {
          "base_uri": "https://localhost:8080/"
        },
        "id": "r0vAvu6vNWZ5",
        "outputId": "7c64b218-123b-4bea-d435-cfe4885566d9"
      },
      "source": [
        "novo_dataset_final <- scale.features(novo_dataset_final, new.numeric.vars)\n",
        "str(novo_dataset_final)"
      ],
      "execution_count": 35,
      "outputs": [
        {
          "output_type": "stream",
          "text": [
            "'data.frame':\t3 obs. of  5 variables:\n",
            " $ account.balance               : Factor w/ 3 levels \"1\",\"3\",\"4\": 1 3 2\n",
            " $ credit.purpose                : Factor w/ 3 levels \"2\",\"3\",\"4\": 3 1 2\n",
            " $ previous.credit.payment.status: Factor w/ 2 levels \"2\",\"3\": 2 2 1\n",
            " $ savings                       : Factor w/ 2 levels \"2\",\"3\": 1 2 1\n",
            " $ credit.duration.months        : num [1:3, 1] 0.9492 0.0949 -1.0441\n",
            "  ..- attr(*, \"scaled:center\")= num 11.7\n",
            "  ..- attr(*, \"scaled:scale\")= num 3.51\n"
          ],
          "name": "stdout"
        }
      ]
    },
    {
      "cell_type": "code",
      "metadata": {
        "colab": {
          "base_uri": "https://localhost:8080/",
          "height": 190
        },
        "id": "LFErGpi8OAnt",
        "outputId": "91e98722-4bbe-4f07-a4ba-eb03e55210d9"
      },
      "source": [
        "novo_dataset_final"
      ],
      "execution_count": 37,
      "outputs": [
        {
          "output_type": "display_data",
          "data": {
            "text/plain": [
              "  account.balance credit.purpose previous.credit.payment.status savings\n",
              "1 1               4              3                              2      \n",
              "2 4               2              3                              3      \n",
              "3 3               3              2                              2      \n",
              "  credit.duration.months\n",
              "1  0.9491580            \n",
              "2  0.0949158            \n",
              "3 -1.0440738            "
            ],
            "text/latex": "A data.frame: 3 × 5\n\\begin{tabular}{lllll}\n account.balance & credit.purpose & previous.credit.payment.status & savings & credit.duration.months\\\\\n <fct> & <fct> & <fct> & <fct> & <dbl{[},1{]}>\\\\\n\\hline\n\t 1 & 4 & 3 & 2 &  0.9491580\\\\\n\t 4 & 2 & 3 & 3 &  0.0949158\\\\\n\t 3 & 3 & 2 & 2 & -1.0440738\\\\\n\\end{tabular}\n",
            "text/markdown": "\nA data.frame: 3 × 5\n\n| account.balance &lt;fct&gt; | credit.purpose &lt;fct&gt; | previous.credit.payment.status &lt;fct&gt; | savings &lt;fct&gt; | credit.duration.months &lt;dbl[,1]&gt; |\n|---|---|---|---|---|\n| 1 | 4 | 3 | 2 |  0.9491580 |\n| 4 | 2 | 3 | 3 |  0.0949158 |\n| 3 | 3 | 2 | 2 | -1.0440738 |\n\n",
            "text/html": [
              "<table class=\"dataframe\">\n",
              "<caption>A data.frame: 3 × 5</caption>\n",
              "<thead>\n",
              "\t<tr><th scope=col>account.balance</th><th scope=col>credit.purpose</th><th scope=col>previous.credit.payment.status</th><th scope=col>savings</th><th scope=col>credit.duration.months</th></tr>\n",
              "\t<tr><th scope=col>&lt;fct&gt;</th><th scope=col>&lt;fct&gt;</th><th scope=col>&lt;fct&gt;</th><th scope=col>&lt;fct&gt;</th><th scope=col>&lt;dbl[,1]&gt;</th></tr>\n",
              "</thead>\n",
              "<tbody>\n",
              "\t<tr><td>1</td><td>4</td><td>3</td><td>2</td><td> 0.9491580</td></tr>\n",
              "\t<tr><td>4</td><td>2</td><td>3</td><td>3</td><td> 0.0949158</td></tr>\n",
              "\t<tr><td>3</td><td>3</td><td>2</td><td>2</td><td>-1.0440738</td></tr>\n",
              "</tbody>\n",
              "</table>\n"
            ]
          },
          "metadata": {
            "tags": []
          }
        }
      ]
    },
    {
      "cell_type": "code",
      "metadata": {
        "colab": {
          "base_uri": "https://localhost:8080/",
          "height": 51
        },
        "id": "BnqkmHneOXs3",
        "outputId": "6b852079-82e4-45b2-bd92-b9051b13ab35"
      },
      "source": [
        "novo_dataset_final$account.balance"
      ],
      "execution_count": 38,
      "outputs": [
        {
          "output_type": "display_data",
          "data": {
            "text/plain": [
              "[1] 1 4 3\n",
              "Levels: 1 3 4"
            ],
            "text/latex": "\\begin{enumerate*}\n\\item 1\n\\item 4\n\\item 3\n\\end{enumerate*}\n\n\\emph{Levels}: \\begin{enumerate*}\n\\item '1'\n\\item '3'\n\\item '4'\n\\end{enumerate*}\n",
            "text/markdown": "1. 1\n2. 4\n3. 3\n\n\n\n**Levels**: 1. '1'\n2. '3'\n3. '4'\n\n\n",
            "text/html": [
              "<style>\n",
              ".list-inline {list-style: none; margin:0; padding: 0}\n",
              ".list-inline>li {display: inline-block}\n",
              ".list-inline>li:not(:last-child)::after {content: \"\\00b7\"; padding: 0 .5ex}\n",
              "</style>\n",
              "<ol class=list-inline><li>1</li><li>4</li><li>3</li></ol>\n",
              "\n",
              "<details>\n",
              "\t<summary style=display:list-item;cursor:pointer>\n",
              "\t\t<strong>Levels</strong>:\n",
              "\t</summary>\n",
              "\t<style>\n",
              "\t.list-inline {list-style: none; margin:0; padding: 0}\n",
              "\t.list-inline>li {display: inline-block}\n",
              "\t.list-inline>li:not(:last-child)::after {content: \"\\00b7\"; padding: 0 .5ex}\n",
              "\t</style>\n",
              "\t<ol class=list-inline><li>'1'</li><li>'3'</li><li>'4'</li></ol>\n",
              "</details>"
            ]
          },
          "metadata": {
            "tags": []
          }
        }
      ]
    },
    {
      "cell_type": "code",
      "metadata": {
        "colab": {
          "base_uri": "https://localhost:8080/",
          "height": 153
        },
        "id": "P_HYL1tKPX2J",
        "outputId": "fe756313-b9ac-4665-fd67-fb6d6d3b8300"
      },
      "source": [
        "#head(cred_dataset_final)\n",
        "cred_dataset_final$account.balance"
      ],
      "execution_count": 42,
      "outputs": [
        {
          "output_type": "display_data",
          "data": {
            "text/plain": [
              "   [1] 1 1 2 1 1 1 1 1 3 2 1 1 1 2 1 1 1 2 2 3 1 2 2 2 1 2 1 2 3 3 3 3 3 3 1 1 3\n",
              "  [38] 3 3 3 3 1 3 2 2 1 3 3 3 1 3 3 3 3 3 1 3 1 3 3 3 3 3 3 1 3 3 3 2 3 2 3 3 3\n",
              "  [75] 3 2 3 3 1 3 3 3 2 3 3 1 3 3 1 2 2 2 2 1 2 3 2 2 1 2 3 1 2 2 3 3 3 3 3 3 1\n",
              " [112] 1 2 3 2 2 2 3 3 3 2 3 2 3 3 3 3 3 3 3 3 3 3 3 3 3 2 1 2 3 3 3 2 3 3 3 1 1\n",
              " [149] 3 2 3 3 3 2 2 3 1 3 2 2 3 3 3 3 3 3 3 3 3 3 3 1 3 3 3 3 3 2 3 3 3 3 1 3 3\n",
              " [186] 3 3 3 2 3 3 2 2 3 3 3 3 3 3 3 3 3 3 1 1 2 1 2 2 3 3 1 1 3 2 3 3 3 1 3 1 3\n",
              " [223] 3 3 1 3 1 3 3 2 3 3 3 1 2 1 3 1 3 3 3 3 3 3 3 3 3 3 2 3 2 2 3 3 3 3 1 3 1\n",
              " [260] 3 3 3 3 3 3 3 2 3 3 3 3 3 3 3 3 3 3 2 1 3 3 3 3 2 1 3 1 3 3 3 3 3 3 2 3 3\n",
              " [297] 3 3 2 3 1 3 3 3 3 3 1 3 1 3 3 3 3 2 1 3 3 3 3 3 3 3 3 1 3 3 3 3 3 3 3 3 3\n",
              " [334] 3 3 1 1 1 3 3 3 1 3 3 3 3 3 3 1 3 3 3 3 1 3 3 1 3 3 3 3 1 3 3 3 3 3 2 1 1\n",
              " [371] 1 3 2 1 3 1 1 2 2 3 1 1 3 2 3 2 2 3 3 1 3 3 3 3 3 2 2 3 3 2 2 2 1 3 3 2 3\n",
              " [408] 2 2 3 3 3 3 3 3 3 3 3 3 1 3 2 2 3 3 3 2 2 1 2 3 3 2 2 3 3 3 3 1 2 3 3 1 3\n",
              " [445] 3 3 3 3 3 2 2 1 2 2 1 2 2 2 2 3 2 2 3 1 2 3 2 3 2 3 3 3 3 3 3 3 3 3 3 2 3\n",
              " [482] 2 3 3 3 3 3 2 3 3 3 3 1 3 1 3 3 3 3 1 3 3 3 3 3 3 3 3 3 1 3 3 2 2 3 2 2 3\n",
              " [519] 3 3 3 3 3 3 2 3 1 2 3 3 3 3 3 1 1 2 3 3 3 2 2 2 2 2 3 2 2 3 2 3 2 3 3 3 2\n",
              " [556] 3 2 3 3 2 3 3 2 3 3 2 2 3 3 3 3 3 2 2 2 2 1 1 1 1 1 1 3 1 1 1 1 1 1 2 1 1\n",
              " [593] 1 1 1 1 1 1 1 1 1 3 1 1 1 1 2 1 1 2 2 1 1 1 1 1 1 1 1 2 3 3 1 1 1 1 3 3 3\n",
              " [630] 1 1 1 1 1 1 1 1 1 1 1 1 3 1 1 3 1 3 3 2 2 2 2 2 3 2 2 2 2 2 2 2 2 2 2 1 2\n",
              " [667] 2 2 2 2 2 2 2 2 2 3 1 2 2 2 2 2 2 2 1 3 2 2 3 1 3 1 2 3 3 3 3 3 2 1 1 2 1\n",
              " [704] 1 1 3 3 2 1 3 3 1 3 3 3 3 1 3 2 2 2 3 3 3 1 2 3 3 3 2 2 3 3 1 1 3 2 3 2 2\n",
              " [741] 3 3 1 3 3 3 2 3 2 3 2 1 2 2 2 1 1 1 2 2 2 1 3 2 3 3 2 3 2 1 1 1 1 1 1 1 2\n",
              " [778] 1 2 3 2 1 2 2 1 3 2 2 2 2 2 3 1 1 3 2 3 3 1 3 1 1 1 2 1 1 2 1 1 1 2 1 3 1\n",
              " [815] 2 3 3 1 2 3 2 1 1 1 1 2 2 1 2 2 2 3 3 3 3 2 3 2 3 3 1 2 3 2 2 2 2 2 2 2 2\n",
              " [852] 1 2 3 3 1 1 1 1 1 3 1 2 3 1 3 2 2 2 2 1 3 3 3 2 2 2 1 1 1 1 3 1 2 2 2 1 1\n",
              " [889] 1 2 2 1 2 1 2 2 3 3 2 3 1 1 2 1 1 1 1 1 1 1 1 1 1 1 1 1 1 2 1 1 1 1 1 1 1\n",
              " [926] 1 1 1 1 2 2 1 2 1 1 1 2 2 2 2 3 2 3 2 1 2 3 3 1 3 2 3 2 3 3 1 2 2 2 2 3 2\n",
              " [963] 2 1 2 2 3 1 1 1 3 2 3 1 1 1 2 1 2 1 2 3 2 1 1 3 1 1 1 2 1 2 1 1 1 1 1 3 2\n",
              "[1000] 1\n",
              "Levels: 1 2 3"
            ],
            "text/latex": "\\begin{enumerate*}\n\\item 1\n\\item 1\n\\item 2\n\\item 1\n\\item 1\n\\item 1\n\\item 1\n\\item 1\n\\item 3\n\\item 2\n\\item 1\n\\item 1\n\\item 1\n\\item 2\n\\item 1\n\\item 1\n\\item 1\n\\item 2\n\\item 2\n\\item 3\n\\item 1\n\\item 2\n\\item 2\n\\item 2\n\\item 1\n\\item 2\n\\item 1\n\\item 2\n\\item 3\n\\item 3\n\\item 3\n\\item 3\n\\item 3\n\\item 3\n\\item 1\n\\item 1\n\\item 3\n\\item 3\n\\item 3\n\\item 3\n\\item 3\n\\item 1\n\\item 3\n\\item 2\n\\item 2\n\\item 1\n\\item 3\n\\item 3\n\\item 3\n\\item 1\n\\item 3\n\\item 3\n\\item 3\n\\item 3\n\\item 3\n\\item 1\n\\item 3\n\\item 1\n\\item 3\n\\item 3\n\\item 3\n\\item 3\n\\item 3\n\\item 3\n\\item 1\n\\item 3\n\\item 3\n\\item 3\n\\item 2\n\\item 3\n\\item 2\n\\item 3\n\\item 3\n\\item 3\n\\item 3\n\\item 2\n\\item 3\n\\item 3\n\\item 1\n\\item 3\n\\item 3\n\\item 3\n\\item 2\n\\item 3\n\\item 3\n\\item 1\n\\item 3\n\\item 3\n\\item 1\n\\item 2\n\\item 2\n\\item 2\n\\item 2\n\\item 1\n\\item 2\n\\item 3\n\\item 2\n\\item 2\n\\item 1\n\\item 2\n\\item 3\n\\item 1\n\\item 2\n\\item 2\n\\item 3\n\\item 3\n\\item 3\n\\item 3\n\\item 3\n\\item 3\n\\item 1\n\\item 1\n\\item 2\n\\item 3\n\\item 2\n\\item 2\n\\item 2\n\\item 3\n\\item 3\n\\item 3\n\\item 2\n\\item 3\n\\item 2\n\\item 3\n\\item 3\n\\item 3\n\\item 3\n\\item 3\n\\item 3\n\\item 3\n\\item 3\n\\item 3\n\\item 3\n\\item 3\n\\item 3\n\\item 3\n\\item 2\n\\item 1\n\\item 2\n\\item 3\n\\item 3\n\\item 3\n\\item 2\n\\item 3\n\\item 3\n\\item 3\n\\item 1\n\\item 1\n\\item 3\n\\item 2\n\\item 3\n\\item 3\n\\item 3\n\\item 2\n\\item 2\n\\item 3\n\\item 1\n\\item 3\n\\item 2\n\\item 2\n\\item 3\n\\item 3\n\\item 3\n\\item 3\n\\item 3\n\\item 3\n\\item 3\n\\item 3\n\\item 3\n\\item 3\n\\item 3\n\\item 1\n\\item 3\n\\item 3\n\\item 3\n\\item 3\n\\item 3\n\\item 2\n\\item 3\n\\item 3\n\\item 3\n\\item 3\n\\item 1\n\\item 3\n\\item 3\n\\item 3\n\\item 3\n\\item 3\n\\item 2\n\\item 3\n\\item 3\n\\item 2\n\\item 2\n\\item 3\n\\item 3\n\\item 3\n\\item 3\n\\item 3\n\\item 3\n\\item 3\n\\item ⋯\n\\item 1\n\\item 1\n\\item 1\n\\item 2\n\\item 1\n\\item 1\n\\item 2\n\\item 1\n\\item 1\n\\item 1\n\\item 2\n\\item 1\n\\item 3\n\\item 1\n\\item 2\n\\item 3\n\\item 3\n\\item 1\n\\item 2\n\\item 3\n\\item 2\n\\item 1\n\\item 1\n\\item 1\n\\item 1\n\\item 2\n\\item 2\n\\item 1\n\\item 2\n\\item 2\n\\item 2\n\\item 3\n\\item 3\n\\item 3\n\\item 3\n\\item 2\n\\item 3\n\\item 2\n\\item 3\n\\item 3\n\\item 1\n\\item 2\n\\item 3\n\\item 2\n\\item 2\n\\item 2\n\\item 2\n\\item 2\n\\item 2\n\\item 2\n\\item 2\n\\item 1\n\\item 2\n\\item 3\n\\item 3\n\\item 1\n\\item 1\n\\item 1\n\\item 1\n\\item 1\n\\item 3\n\\item 1\n\\item 2\n\\item 3\n\\item 1\n\\item 3\n\\item 2\n\\item 2\n\\item 2\n\\item 2\n\\item 1\n\\item 3\n\\item 3\n\\item 3\n\\item 2\n\\item 2\n\\item 2\n\\item 1\n\\item 1\n\\item 1\n\\item 1\n\\item 3\n\\item 1\n\\item 2\n\\item 2\n\\item 2\n\\item 1\n\\item 1\n\\item 1\n\\item 2\n\\item 2\n\\item 1\n\\item 2\n\\item 1\n\\item 2\n\\item 2\n\\item 3\n\\item 3\n\\item 2\n\\item 3\n\\item 1\n\\item 1\n\\item 2\n\\item 1\n\\item 1\n\\item 1\n\\item 1\n\\item 1\n\\item 1\n\\item 1\n\\item 1\n\\item 1\n\\item 1\n\\item 1\n\\item 1\n\\item 1\n\\item 1\n\\item 2\n\\item 1\n\\item 1\n\\item 1\n\\item 1\n\\item 1\n\\item 1\n\\item 1\n\\item 1\n\\item 1\n\\item 1\n\\item 1\n\\item 2\n\\item 2\n\\item 1\n\\item 2\n\\item 1\n\\item 1\n\\item 1\n\\item 2\n\\item 2\n\\item 2\n\\item 2\n\\item 3\n\\item 2\n\\item 3\n\\item 2\n\\item 1\n\\item 2\n\\item 3\n\\item 3\n\\item 1\n\\item 3\n\\item 2\n\\item 3\n\\item 2\n\\item 3\n\\item 3\n\\item 1\n\\item 2\n\\item 2\n\\item 2\n\\item 2\n\\item 3\n\\item 2\n\\item 2\n\\item 1\n\\item 2\n\\item 2\n\\item 3\n\\item 1\n\\item 1\n\\item 1\n\\item 3\n\\item 2\n\\item 3\n\\item 1\n\\item 1\n\\item 1\n\\item 2\n\\item 1\n\\item 2\n\\item 1\n\\item 2\n\\item 3\n\\item 2\n\\item 1\n\\item 1\n\\item 3\n\\item 1\n\\item 1\n\\item 1\n\\item 2\n\\item 1\n\\item 2\n\\item 1\n\\item 1\n\\item 1\n\\item 1\n\\item 1\n\\item 3\n\\item 2\n\\item 1\n\\end{enumerate*}\n\n\\emph{Levels}: \\begin{enumerate*}\n\\item '1'\n\\item '2'\n\\item '3'\n\\end{enumerate*}\n",
            "text/markdown": "1. 1\n2. 1\n3. 2\n4. 1\n5. 1\n6. 1\n7. 1\n8. 1\n9. 3\n10. 2\n11. 1\n12. 1\n13. 1\n14. 2\n15. 1\n16. 1\n17. 1\n18. 2\n19. 2\n20. 3\n21. 1\n22. 2\n23. 2\n24. 2\n25. 1\n26. 2\n27. 1\n28. 2\n29. 3\n30. 3\n31. 3\n32. 3\n33. 3\n34. 3\n35. 1\n36. 1\n37. 3\n38. 3\n39. 3\n40. 3\n41. 3\n42. 1\n43. 3\n44. 2\n45. 2\n46. 1\n47. 3\n48. 3\n49. 3\n50. 1\n51. 3\n52. 3\n53. 3\n54. 3\n55. 3\n56. 1\n57. 3\n58. 1\n59. 3\n60. 3\n61. 3\n62. 3\n63. 3\n64. 3\n65. 1\n66. 3\n67. 3\n68. 3\n69. 2\n70. 3\n71. 2\n72. 3\n73. 3\n74. 3\n75. 3\n76. 2\n77. 3\n78. 3\n79. 1\n80. 3\n81. 3\n82. 3\n83. 2\n84. 3\n85. 3\n86. 1\n87. 3\n88. 3\n89. 1\n90. 2\n91. 2\n92. 2\n93. 2\n94. 1\n95. 2\n96. 3\n97. 2\n98. 2\n99. 1\n100. 2\n101. 3\n102. 1\n103. 2\n104. 2\n105. 3\n106. 3\n107. 3\n108. 3\n109. 3\n110. 3\n111. 1\n112. 1\n113. 2\n114. 3\n115. 2\n116. 2\n117. 2\n118. 3\n119. 3\n120. 3\n121. 2\n122. 3\n123. 2\n124. 3\n125. 3\n126. 3\n127. 3\n128. 3\n129. 3\n130. 3\n131. 3\n132. 3\n133. 3\n134. 3\n135. 3\n136. 3\n137. 2\n138. 1\n139. 2\n140. 3\n141. 3\n142. 3\n143. 2\n144. 3\n145. 3\n146. 3\n147. 1\n148. 1\n149. 3\n150. 2\n151. 3\n152. 3\n153. 3\n154. 2\n155. 2\n156. 3\n157. 1\n158. 3\n159. 2\n160. 2\n161. 3\n162. 3\n163. 3\n164. 3\n165. 3\n166. 3\n167. 3\n168. 3\n169. 3\n170. 3\n171. 3\n172. 1\n173. 3\n174. 3\n175. 3\n176. 3\n177. 3\n178. 2\n179. 3\n180. 3\n181. 3\n182. 3\n183. 1\n184. 3\n185. 3\n186. 3\n187. 3\n188. 3\n189. 2\n190. 3\n191. 3\n192. 2\n193. 2\n194. 3\n195. 3\n196. 3\n197. 3\n198. 3\n199. 3\n200. 3\n201. ⋯\n202. 1\n203. 1\n204. 1\n205. 2\n206. 1\n207. 1\n208. 2\n209. 1\n210. 1\n211. 1\n212. 2\n213. 1\n214. 3\n215. 1\n216. 2\n217. 3\n218. 3\n219. 1\n220. 2\n221. 3\n222. 2\n223. 1\n224. 1\n225. 1\n226. 1\n227. 2\n228. 2\n229. 1\n230. 2\n231. 2\n232. 2\n233. 3\n234. 3\n235. 3\n236. 3\n237. 2\n238. 3\n239. 2\n240. 3\n241. 3\n242. 1\n243. 2\n244. 3\n245. 2\n246. 2\n247. 2\n248. 2\n249. 2\n250. 2\n251. 2\n252. 2\n253. 1\n254. 2\n255. 3\n256. 3\n257. 1\n258. 1\n259. 1\n260. 1\n261. 1\n262. 3\n263. 1\n264. 2\n265. 3\n266. 1\n267. 3\n268. 2\n269. 2\n270. 2\n271. 2\n272. 1\n273. 3\n274. 3\n275. 3\n276. 2\n277. 2\n278. 2\n279. 1\n280. 1\n281. 1\n282. 1\n283. 3\n284. 1\n285. 2\n286. 2\n287. 2\n288. 1\n289. 1\n290. 1\n291. 2\n292. 2\n293. 1\n294. 2\n295. 1\n296. 2\n297. 2\n298. 3\n299. 3\n300. 2\n301. 3\n302. 1\n303. 1\n304. 2\n305. 1\n306. 1\n307. 1\n308. 1\n309. 1\n310. 1\n311. 1\n312. 1\n313. 1\n314. 1\n315. 1\n316. 1\n317. 1\n318. 1\n319. 2\n320. 1\n321. 1\n322. 1\n323. 1\n324. 1\n325. 1\n326. 1\n327. 1\n328. 1\n329. 1\n330. 1\n331. 2\n332. 2\n333. 1\n334. 2\n335. 1\n336. 1\n337. 1\n338. 2\n339. 2\n340. 2\n341. 2\n342. 3\n343. 2\n344. 3\n345. 2\n346. 1\n347. 2\n348. 3\n349. 3\n350. 1\n351. 3\n352. 2\n353. 3\n354. 2\n355. 3\n356. 3\n357. 1\n358. 2\n359. 2\n360. 2\n361. 2\n362. 3\n363. 2\n364. 2\n365. 1\n366. 2\n367. 2\n368. 3\n369. 1\n370. 1\n371. 1\n372. 3\n373. 2\n374. 3\n375. 1\n376. 1\n377. 1\n378. 2\n379. 1\n380. 2\n381. 1\n382. 2\n383. 3\n384. 2\n385. 1\n386. 1\n387. 3\n388. 1\n389. 1\n390. 1\n391. 2\n392. 1\n393. 2\n394. 1\n395. 1\n396. 1\n397. 1\n398. 1\n399. 3\n400. 2\n401. 1\n\n\n\n**Levels**: 1. '1'\n2. '2'\n3. '3'\n\n\n",
            "text/html": [
              "<style>\n",
              ".list-inline {list-style: none; margin:0; padding: 0}\n",
              ".list-inline>li {display: inline-block}\n",
              ".list-inline>li:not(:last-child)::after {content: \"\\00b7\"; padding: 0 .5ex}\n",
              "</style>\n",
              "<ol class=list-inline><li>1</li><li>1</li><li>2</li><li>1</li><li>1</li><li>1</li><li>1</li><li>1</li><li>3</li><li>2</li><li>1</li><li>1</li><li>1</li><li>2</li><li>1</li><li>1</li><li>1</li><li>2</li><li>2</li><li>3</li><li>1</li><li>2</li><li>2</li><li>2</li><li>1</li><li>2</li><li>1</li><li>2</li><li>3</li><li>3</li><li>3</li><li>3</li><li>3</li><li>3</li><li>1</li><li>1</li><li>3</li><li>3</li><li>3</li><li>3</li><li>3</li><li>1</li><li>3</li><li>2</li><li>2</li><li>1</li><li>3</li><li>3</li><li>3</li><li>1</li><li>3</li><li>3</li><li>3</li><li>3</li><li>3</li><li>1</li><li>3</li><li>1</li><li>3</li><li>3</li><li>3</li><li>3</li><li>3</li><li>3</li><li>1</li><li>3</li><li>3</li><li>3</li><li>2</li><li>3</li><li>2</li><li>3</li><li>3</li><li>3</li><li>3</li><li>2</li><li>3</li><li>3</li><li>1</li><li>3</li><li>3</li><li>3</li><li>2</li><li>3</li><li>3</li><li>1</li><li>3</li><li>3</li><li>1</li><li>2</li><li>2</li><li>2</li><li>2</li><li>1</li><li>2</li><li>3</li><li>2</li><li>2</li><li>1</li><li>2</li><li>3</li><li>1</li><li>2</li><li>2</li><li>3</li><li>3</li><li>3</li><li>3</li><li>3</li><li>3</li><li>1</li><li>1</li><li>2</li><li>3</li><li>2</li><li>2</li><li>2</li><li>3</li><li>3</li><li>3</li><li>2</li><li>3</li><li>2</li><li>3</li><li>3</li><li>3</li><li>3</li><li>3</li><li>3</li><li>3</li><li>3</li><li>3</li><li>3</li><li>3</li><li>3</li><li>3</li><li>2</li><li>1</li><li>2</li><li>3</li><li>3</li><li>3</li><li>2</li><li>3</li><li>3</li><li>3</li><li>1</li><li>1</li><li>3</li><li>2</li><li>3</li><li>3</li><li>3</li><li>2</li><li>2</li><li>3</li><li>1</li><li>3</li><li>2</li><li>2</li><li>3</li><li>3</li><li>3</li><li>3</li><li>3</li><li>3</li><li>3</li><li>3</li><li>3</li><li>3</li><li>3</li><li>1</li><li>3</li><li>3</li><li>3</li><li>3</li><li>3</li><li>2</li><li>3</li><li>3</li><li>3</li><li>3</li><li>1</li><li>3</li><li>3</li><li>3</li><li>3</li><li>3</li><li>2</li><li>3</li><li>3</li><li>2</li><li>2</li><li>3</li><li>3</li><li>3</li><li>3</li><li>3</li><li>3</li><li>3</li><li>⋯</li><li>1</li><li>1</li><li>1</li><li>2</li><li>1</li><li>1</li><li>2</li><li>1</li><li>1</li><li>1</li><li>2</li><li>1</li><li>3</li><li>1</li><li>2</li><li>3</li><li>3</li><li>1</li><li>2</li><li>3</li><li>2</li><li>1</li><li>1</li><li>1</li><li>1</li><li>2</li><li>2</li><li>1</li><li>2</li><li>2</li><li>2</li><li>3</li><li>3</li><li>3</li><li>3</li><li>2</li><li>3</li><li>2</li><li>3</li><li>3</li><li>1</li><li>2</li><li>3</li><li>2</li><li>2</li><li>2</li><li>2</li><li>2</li><li>2</li><li>2</li><li>2</li><li>1</li><li>2</li><li>3</li><li>3</li><li>1</li><li>1</li><li>1</li><li>1</li><li>1</li><li>3</li><li>1</li><li>2</li><li>3</li><li>1</li><li>3</li><li>2</li><li>2</li><li>2</li><li>2</li><li>1</li><li>3</li><li>3</li><li>3</li><li>2</li><li>2</li><li>2</li><li>1</li><li>1</li><li>1</li><li>1</li><li>3</li><li>1</li><li>2</li><li>2</li><li>2</li><li>1</li><li>1</li><li>1</li><li>2</li><li>2</li><li>1</li><li>2</li><li>1</li><li>2</li><li>2</li><li>3</li><li>3</li><li>2</li><li>3</li><li>1</li><li>1</li><li>2</li><li>1</li><li>1</li><li>1</li><li>1</li><li>1</li><li>1</li><li>1</li><li>1</li><li>1</li><li>1</li><li>1</li><li>1</li><li>1</li><li>1</li><li>2</li><li>1</li><li>1</li><li>1</li><li>1</li><li>1</li><li>1</li><li>1</li><li>1</li><li>1</li><li>1</li><li>1</li><li>2</li><li>2</li><li>1</li><li>2</li><li>1</li><li>1</li><li>1</li><li>2</li><li>2</li><li>2</li><li>2</li><li>3</li><li>2</li><li>3</li><li>2</li><li>1</li><li>2</li><li>3</li><li>3</li><li>1</li><li>3</li><li>2</li><li>3</li><li>2</li><li>3</li><li>3</li><li>1</li><li>2</li><li>2</li><li>2</li><li>2</li><li>3</li><li>2</li><li>2</li><li>1</li><li>2</li><li>2</li><li>3</li><li>1</li><li>1</li><li>1</li><li>3</li><li>2</li><li>3</li><li>1</li><li>1</li><li>1</li><li>2</li><li>1</li><li>2</li><li>1</li><li>2</li><li>3</li><li>2</li><li>1</li><li>1</li><li>3</li><li>1</li><li>1</li><li>1</li><li>2</li><li>1</li><li>2</li><li>1</li><li>1</li><li>1</li><li>1</li><li>1</li><li>3</li><li>2</li><li>1</li></ol>\n",
              "\n",
              "<details>\n",
              "\t<summary style=display:list-item;cursor:pointer>\n",
              "\t\t<strong>Levels</strong>:\n",
              "\t</summary>\n",
              "\t<style>\n",
              "\t.list-inline {list-style: none; margin:0; padding: 0}\n",
              "\t.list-inline>li {display: inline-block}\n",
              "\t.list-inline>li:not(:last-child)::after {content: \"\\00b7\"; padding: 0 .5ex}\n",
              "\t</style>\n",
              "\t<ol class=list-inline><li>'1'</li><li>'2'</li><li>'3'</li></ol>\n",
              "</details>"
            ]
          },
          "metadata": {
            "tags": []
          }
        }
      ]
    },
    {
      "cell_type": "code",
      "metadata": {
        "colab": {
          "base_uri": "https://localhost:8080/",
          "height": 51
        },
        "id": "DLqzOxptP4yw",
        "outputId": "24b2dfb8-99ae-4801-eba8-f58d37ca0a99"
      },
      "source": [
        "novo_dataset_final$account.balance"
      ],
      "execution_count": 43,
      "outputs": [
        {
          "output_type": "display_data",
          "data": {
            "text/plain": [
              "[1] 1 4 3\n",
              "Levels: 1 3 4"
            ],
            "text/latex": "\\begin{enumerate*}\n\\item 1\n\\item 4\n\\item 3\n\\end{enumerate*}\n\n\\emph{Levels}: \\begin{enumerate*}\n\\item '1'\n\\item '3'\n\\item '4'\n\\end{enumerate*}\n",
            "text/markdown": "1. 1\n2. 4\n3. 3\n\n\n\n**Levels**: 1. '1'\n2. '3'\n3. '4'\n\n\n",
            "text/html": [
              "<style>\n",
              ".list-inline {list-style: none; margin:0; padding: 0}\n",
              ".list-inline>li {display: inline-block}\n",
              ".list-inline>li:not(:last-child)::after {content: \"\\00b7\"; padding: 0 .5ex}\n",
              "</style>\n",
              "<ol class=list-inline><li>1</li><li>4</li><li>3</li></ol>\n",
              "\n",
              "<details>\n",
              "\t<summary style=display:list-item;cursor:pointer>\n",
              "\t\t<strong>Levels</strong>:\n",
              "\t</summary>\n",
              "\t<style>\n",
              "\t.list-inline {list-style: none; margin:0; padding: 0}\n",
              "\t.list-inline>li {display: inline-block}\n",
              "\t.list-inline>li:not(:last-child)::after {content: \"\\00b7\"; padding: 0 .5ex}\n",
              "\t</style>\n",
              "\t<ol class=list-inline><li>'1'</li><li>'3'</li><li>'4'</li></ol>\n",
              "</details>"
            ]
          },
          "metadata": {
            "tags": []
          }
        }
      ]
    },
    {
      "cell_type": "code",
      "metadata": {
        "id": "kC45poZeNlSS"
      },
      "source": [
        "# Prevendo um novo cliente\n",
        "#previsao_novo_cliente <- predict(modelo_v2, newdata = novo_dataset_final, type = \"response\")"
      ],
      "execution_count": 44,
      "outputs": []
    },
    {
      "cell_type": "code",
      "metadata": {
        "id": "b2ONPEK-N2Z4"
      },
      "source": [
        "# tive um problema ao prever novo cliente, no level da variavel acount.balance, se algumem resolver pra mim agradeço\n",
        "# mas este jupyter foi mais para ter certeza de como executar o R no Google Colab\n",
        "# e como podem ver e muito facil e simples de executa-lo."
      ],
      "execution_count": null,
      "outputs": []
    }
  ]
}