{
  "nbformat": 4,
  "nbformat_minor": 0,
  "metadata": {
    "colab": {
      "name": "Majority-Learner.ipynb",
      "provenance": [],
      "authorship_tag": "ABX9TyOSfSeorHp5z9C/5i1Bxt+l",
      "include_colab_link": true
    },
    "kernelspec": {
      "name": "python3",
      "display_name": "Python 3"
    },
    "language_info": {
      "name": "python"
    }
  },
  "cells": [
    {
      "cell_type": "markdown",
      "metadata": {
        "id": "view-in-github",
        "colab_type": "text"
      },
      "source": [
        "<a href=\"https://colab.research.google.com/github/jscienciadados/IA-Classificacao/blob/main/Majority_Learner.ipynb\" target=\"_parent\"><img src=\"https://colab.research.google.com/assets/colab-badge.svg\" alt=\"Open In Colab\"/></a>"
      ]
    },
    {
      "cell_type": "markdown",
      "metadata": {
        "id": "cb4NDh9sNTBX"
      },
      "source": [
        "##Classificador Base - Majority Learner"
      ]
    },
    {
      "cell_type": "markdown",
      "metadata": {
        "id": "nAr3d7RyYAfL"
      },
      "source": [
        "Este algoritmo determina uma linha base para os outros algoritmos, ou seja algoritmos que ficarem abaixo da linha determinada pelo majority sera descartado para aquela base de dados especifica."
      ]
    },
    {
      "cell_type": "code",
      "metadata": {
        "id": "CnakIU5ENOF4"
      },
      "source": [
        "!pip install Orange3"
      ],
      "execution_count": null,
      "outputs": []
    },
    {
      "cell_type": "code",
      "metadata": {
        "id": "cSlOFCizPJYw"
      },
      "source": [
        "import Orange"
      ],
      "execution_count": 3,
      "outputs": []
    },
    {
      "cell_type": "markdown",
      "metadata": {
        "id": "U-z99KMBO7Np"
      },
      "source": [
        "# Carregando a base de dados"
      ]
    },
    {
      "cell_type": "code",
      "metadata": {
        "id": "x2wrM6OROmON"
      },
      "source": [
        "base_credit = Orange.data.Table('credit_data_regras.csv')"
      ],
      "execution_count": null,
      "outputs": []
    },
    {
      "cell_type": "code",
      "metadata": {
        "colab": {
          "base_uri": "https://localhost:8080/"
        },
        "id": "BjR_tGFhPVGc",
        "outputId": "bb9b482e-bf44-44f1-ee7f-f51a0946dab5"
      },
      "source": [
        "base_credit.domain"
      ],
      "execution_count": null,
      "outputs": [
        {
          "output_type": "execute_result",
          "data": {
            "text/plain": [
              "[income, age, loan | default]"
            ]
          },
          "metadata": {
            "tags": []
          },
          "execution_count": 4
        }
      ]
    },
    {
      "cell_type": "code",
      "metadata": {
        "colab": {
          "base_uri": "https://localhost:8080/"
        },
        "id": "tGVNnM6UPXTd",
        "outputId": "ae049a0c-64fd-4cd9-8604-9b5219b85cb5"
      },
      "source": [
        "base_credit"
      ],
      "execution_count": null,
      "outputs": [
        {
          "output_type": "execute_result",
          "data": {
            "text/plain": [
              "[[66155.9, 59.017, 8106.53 | 0],\n",
              " [34415.2, 48.1172, 6564.75 | 0],\n",
              " [57317.2, 63.108, 8020.95 | 0],\n",
              " [42709.5, 45.752, 6103.64 | 0],\n",
              " [66952.7, 18.5843, 8770.1 | 1],\n",
              " ...\n",
              "]"
            ]
          },
          "metadata": {
            "tags": []
          },
          "execution_count": 5
        }
      ]
    },
    {
      "cell_type": "markdown",
      "metadata": {
        "id": "BJknvIGYPioN"
      },
      "source": [
        "# Gerando as regras com o majority learner"
      ]
    },
    {
      "cell_type": "code",
      "metadata": {
        "id": "C65COtjSPZN8"
      },
      "source": [
        "majority = Orange.classification.MajorityLearner()"
      ],
      "execution_count": null,
      "outputs": []
    },
    {
      "cell_type": "markdown",
      "metadata": {
        "id": "CJcGIol9P68I"
      },
      "source": [
        "# Previsões"
      ]
    },
    {
      "cell_type": "code",
      "metadata": {
        "id": "2V33xS8yPuzc"
      },
      "source": [
        "previsoes = Orange.evaluation.testing.TestOnTestData(base_credit, base_credit, [majority])"
      ],
      "execution_count": null,
      "outputs": []
    },
    {
      "cell_type": "markdown",
      "metadata": {
        "id": "vhU3_fSUQR24"
      },
      "source": [
        "# Avaliação"
      ]
    },
    {
      "cell_type": "code",
      "metadata": {
        "colab": {
          "base_uri": "https://localhost:8080/"
        },
        "id": "bGXTrZspQKMH",
        "outputId": "bc7c5c0d-615d-4eb9-9963-bfca71f464f7"
      },
      "source": [
        "Orange.evaluation.CA(previsoes)"
      ],
      "execution_count": null,
      "outputs": [
        {
          "output_type": "execute_result",
          "data": {
            "text/plain": [
              "array([0.8585])"
            ]
          },
          "metadata": {
            "tags": []
          },
          "execution_count": 8
        }
      ]
    },
    {
      "cell_type": "code",
      "metadata": {
        "id": "DfC6vXW1QY6m"
      },
      "source": [
        "for registro in base_credit:\n",
        "  print(registro.get_class())"
      ],
      "execution_count": null,
      "outputs": []
    },
    {
      "cell_type": "code",
      "metadata": {
        "id": "XrwJF5yIRCSu"
      },
      "source": [
        "from collections import Counter"
      ],
      "execution_count": 9,
      "outputs": []
    },
    {
      "cell_type": "code",
      "metadata": {
        "colab": {
          "base_uri": "https://localhost:8080/"
        },
        "id": "yurOffXWRcNZ",
        "outputId": "81bdb61b-c108-448a-941f-aa00c1b501d5"
      },
      "source": [
        "Counter(str(registro.get_class()) for registro in base_credit)"
      ],
      "execution_count": null,
      "outputs": [
        {
          "output_type": "execute_result",
          "data": {
            "text/plain": [
              "Counter({'0': 1717, '1': 283})"
            ]
          },
          "metadata": {
            "tags": []
          },
          "execution_count": 12
        }
      ]
    },
    {
      "cell_type": "code",
      "metadata": {
        "id": "8nMK5LzJR2IS"
      },
      "source": [
        "base_census = Orange.data.Table('census_regras.csv')"
      ],
      "execution_count": 4,
      "outputs": []
    },
    {
      "cell_type": "code",
      "metadata": {
        "colab": {
          "base_uri": "https://localhost:8080/"
        },
        "id": "RDL2XJkQYjns",
        "outputId": "a952f424-e11a-489d-a4e4-e9c044703b09"
      },
      "source": [
        "base_census.domain"
      ],
      "execution_count": 5,
      "outputs": [
        {
          "output_type": "execute_result",
          "data": {
            "text/plain": [
              "[age, workclass, final-weight, education, education-num, marital-status, occupation, relationship, race, sex, capital-gain, capital-loos, hour-per-week, native-country | income]"
            ]
          },
          "metadata": {
            "tags": []
          },
          "execution_count": 5
        }
      ]
    },
    {
      "cell_type": "markdown",
      "metadata": {
        "id": "hkZW7mfAY8n0"
      },
      "source": [
        "# Gerando a linha base"
      ]
    },
    {
      "cell_type": "code",
      "metadata": {
        "id": "05UsuNElYmUH"
      },
      "source": [
        "majority = Orange.classification.MajorityLearner()\n",
        "previsoes = Orange.evaluation.testing.TestOnTestData(base_census, base_census, [majority])"
      ],
      "execution_count": 7,
      "outputs": []
    },
    {
      "cell_type": "markdown",
      "metadata": {
        "id": "SHDOvjAnZhkD"
      },
      "source": [
        "# Avaliação do desempenho"
      ]
    },
    {
      "cell_type": "code",
      "metadata": {
        "colab": {
          "base_uri": "https://localhost:8080/"
        },
        "id": "EmfYoZ6nZWCd",
        "outputId": "2b631f6b-fdeb-423f-8a48-8bd7bdf4368e"
      },
      "source": [
        "Orange.evaluation.CA(previsoes)"
      ],
      "execution_count": 8,
      "outputs": [
        {
          "output_type": "execute_result",
          "data": {
            "text/plain": [
              "array([0.75919044])"
            ]
          },
          "metadata": {
            "tags": []
          },
          "execution_count": 8
        }
      ]
    },
    {
      "cell_type": "markdown",
      "metadata": {
        "id": "v5bst7KbZ7BO"
      },
      "source": [
        "# Realizando a contagem das classes"
      ]
    },
    {
      "cell_type": "code",
      "metadata": {
        "colab": {
          "base_uri": "https://localhost:8080/"
        },
        "id": "AmWF72juZfvr",
        "outputId": "8d7fb063-e2a0-433c-e7f1-62e4370f53d4"
      },
      "source": [
        "Counter(str(registro.get_class()) for registro in base_census)"
      ],
      "execution_count": 10,
      "outputs": [
        {
          "output_type": "execute_result",
          "data": {
            "text/plain": [
              "Counter({'<=50K': 24720, '>50K': 7841})"
            ]
          },
          "metadata": {
            "tags": []
          },
          "execution_count": 10
        }
      ]
    },
    {
      "cell_type": "code",
      "metadata": {
        "colab": {
          "base_uri": "https://localhost:8080/"
        },
        "id": "IqrRnmWyaO_Q",
        "outputId": "f37277b3-db89-41bc-eb05-758a8c1945f4"
      },
      "source": [
        "24720 / (24720 + 7841)"
      ],
      "execution_count": 11,
      "outputs": [
        {
          "output_type": "execute_result",
          "data": {
            "text/plain": [
              "0.7591904425539756"
            ]
          },
          "metadata": {
            "tags": []
          },
          "execution_count": 11
        }
      ]
    },
    {
      "cell_type": "code",
      "metadata": {
        "id": "zIQNy2FZaeQg"
      },
      "source": [
        ""
      ],
      "execution_count": null,
      "outputs": []
    }
  ]
}