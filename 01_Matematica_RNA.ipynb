{
  "nbformat": 4,
  "nbformat_minor": 0,
  "metadata": {
    "kernelspec": {
      "display_name": "Python 3",
      "language": "python",
      "name": "python3"
    },
    "language_info": {
      "codemirror_mode": {
        "name": "ipython",
        "version": 3
      },
      "file_extension": ".py",
      "mimetype": "text/x-python",
      "name": "python",
      "nbconvert_exporter": "python",
      "pygments_lexer": "ipython3",
      "version": "3.7.3"
    },
    "colab": {
      "name": "01-Matematica-RNA.ipynb",
      "provenance": [],
      "include_colab_link": true
    }
  },
  "cells": [
    {
      "cell_type": "markdown",
      "metadata": {
        "id": "view-in-github",
        "colab_type": "text"
      },
      "source": [
        "<a href=\"https://colab.research.google.com/github/jscienciadados/IA-Classificacao/blob/main/01_Matematica_RNA.ipynb\" target=\"_parent\"><img src=\"https://colab.research.google.com/assets/colab-badge.svg\" alt=\"Open In Colab\"/></a>"
      ]
    },
    {
      "cell_type": "markdown",
      "metadata": {
        "id": "bbuJM-AdCtnG"
      },
      "source": [
        "\n",
        "\n",
        "# <font color='blue'>Machine Learning</font>\n",
        "\n",
        "#<font color=\"green\">Redes Neurais Artificiais</font>"
      ]
    },
    {
      "cell_type": "code",
      "metadata": {
        "colab": {
          "base_uri": "https://localhost:8080/"
        },
        "id": "FNHLMe7-CtnM",
        "outputId": "0e62d6d2-23e2-47b4-f6b0-de66616c0ee5"
      },
      "source": [
        "# Versão da Linguagem Python\n",
        "from platform import python_version\n",
        "print('Versão da Linguagem Python Usada Neste Jupyter Notebook:', python_version())"
      ],
      "execution_count": 1,
      "outputs": [
        {
          "output_type": "stream",
          "text": [
            "Versão da Linguagem Python Usada Neste Jupyter Notebook: 3.7.10\n"
          ],
          "name": "stdout"
        }
      ]
    },
    {
      "cell_type": "markdown",
      "metadata": {
        "id": "18MsOQ4_CtnQ"
      },
      "source": [
        "## A Matemática das Redes Neurais Artificiais\n",
        "\n",
        "### Construindo a Rede Neural com Programação e Matemática"
      ]
    },
    {
      "cell_type": "markdown",
      "metadata": {
        "id": "V9FBOXLBCtnS"
      },
      "source": [
        "Teremos 2 Partes:\n",
        "\n",
        "- Parte 1 - Vamos construir uma rede neural artificial somente com operações matemáticas\n",
        "- Parte 2 - Vamos treinar a rede para Prever a Ocorrência de Câncer"
      ]
    },
    {
      "cell_type": "markdown",
      "metadata": {
        "id": "PismFH6fCtnT"
      },
      "source": [
        "## A Arquitetura de Redes Neurais Artificiais"
      ]
    },
    {
      "cell_type": "markdown",
      "metadata": {
        "id": "q5WN9zkOCtnU"
      },
      "source": [
        "Uma rede neural típica é constituída por um conjunto de neurônios interligados, infuenciando uns aos outros formando um sistema maior, capaz de armazenar conhecimento adquirido por meio de exemplos apresentados e, assim, podendo realizar inferências sobre novos conjuntos de dados. Vejamos a arquitetura de redes neurais artificiais.\n",
        "\n",
        "As redes neurais são comumente apresentadas como um grafo orientado, onde os vértices são os neurônios e as arestas as sinapses. A direção das arestas informa o tipo de alimentação, ou seja, como os neurônios são alimentados (recebem sinais de entrada). As redes neurais derivam seu poder devido a sua estrutura massiva e paralela e a habilidade de aprender por experiência. Essa experiência é transmitida por meio de exemplos obtidos do mundo real, definidos como um conjunto de características formados por dados de entrada e de saída. Se apresentamos esses dados de entrada e saída à rede, estamos diante de aprendizagem supervsionada e caso apresentemos apenas os dados de entrada, estamos diante de aprendizagem não supervisionada!\n",
        "\n",
        "O conhecimento obtido pela rede através dos exemplos é armazenado na forma de pesos das conexões, os quais serão ajustados a fim de tomar decisões corretas a partir de novas entradas, ou seja, novas situações do mundo real não conhecidas pela rede. O processo de ajuste dos pesos sinapticos é realizado pelo algoritmo de aprendizagem, responsável em armazenar na rede o conhecimento do mundo real obtido atraves de exemplos. Existem vários algoritmos de aprendizagem, dentre eles o backpropagation que é o algoritmo mais utilizado.\n",
        "\n"
      ]
    },
    {
      "cell_type": "markdown",
      "metadata": {
        "id": "-X31ADFqCtnc"
      },
      "source": [
        "### Importando os Pacotes"
      ]
    },
    {
      "cell_type": "code",
      "metadata": {
        "id": "KVEbcMzjCtnd"
      },
      "source": [
        "# Para atualizar um pacote, execute o comando abaixo no terminal ou prompt de comando:\n",
        "# pip install -U nome_pacote\n",
        "\n",
        "# Para instalar a versão exata de um pacote, execute o comando abaixo no terminal ou prompt de comando:\n",
        "# pip install nome_pacote==versão_desejada\n",
        "\n",
        "# Depois de instalar ou atualizar o pacote, reinicie o jupyter notebook."
      ],
      "execution_count": 2,
      "outputs": []
    },
    {
      "cell_type": "code",
      "metadata": {
        "id": "Pn--_DQVCtne"
      },
      "source": [
        "# Instala o pacote watermark. \n",
        "# Esse pacote é usado para gravar as versões de outros pacotes usados neste jupyter notebook.\n",
        "!pip install -q -U watermark"
      ],
      "execution_count": 3,
      "outputs": []
    },
    {
      "cell_type": "code",
      "metadata": {
        "id": "n3WGu7WECtne"
      },
      "source": [
        "# Por enquanto precisaremos somente do NumPy\n",
        "import numpy as np"
      ],
      "execution_count": 4,
      "outputs": []
    },
    {
      "cell_type": "code",
      "metadata": {
        "colab": {
          "base_uri": "https://localhost:8080/"
        },
        "id": "rDQgMixyCtnf",
        "outputId": "05375f72-e519-4f8d-d72d-cdbe3aca306c"
      },
      "source": [
        "# Versões dos pacotes usados neste jupyter notebook\n",
        "%reload_ext watermark\n",
        "%watermark -a \"RNA\" --iversions"
      ],
      "execution_count": 5,
      "outputs": [
        {
          "output_type": "stream",
          "text": [
            "Author: RNA\n",
            "\n",
            "IPython: 5.5.0\n",
            "numpy  : 1.19.5\n",
            "\n"
          ],
          "name": "stdout"
        }
      ]
    },
    {
      "cell_type": "markdown",
      "metadata": {
        "id": "J3Av4BBuCtng"
      },
      "source": [
        "### Parte 1 - Implementando Uma Rede Neural Artificial Somente com Fórmulas Matemáticas (Sem Frameworks)"
      ]
    },
    {
      "cell_type": "markdown",
      "metadata": {
        "id": "KVRg8IyFCtng"
      },
      "source": [
        "Faça a leitura do manual em pdf no próximo item de aprendizagem: Parâmetros x Hiperparâmetros."
      ]
    },
    {
      "cell_type": "markdown",
      "metadata": {
        "id": "vh83snJvCtnh"
      },
      "source": [
        "### Parte 1A - Forward Propagation\n",
        "\n",
        "https://arxiv.org/pdf/1905.07490.pdf"
      ]
    },
    {
      "cell_type": "markdown",
      "metadata": {
        "id": "SrQh0FbrCtni"
      },
      "source": [
        "### Desenvolvendo a Função Para Inicialização de Pesos"
      ]
    },
    {
      "cell_type": "code",
      "metadata": {
        "id": "Ew7s-MO9Ctnj"
      },
      "source": [
        "# Função para inicialização randômica dos parâmetros do modelo\n",
        "def inicializa_parametros(dims_camada_entrada):\n",
        "    \n",
        "    # Dicionário para os parâmetros\n",
        "    parameters = {}\n",
        "    \n",
        "    # Comprimento das dimensões das camadas\n",
        "    comp = len(dims_camada_entrada)\n",
        "    \n",
        "    # Loop pelo comprimento\n",
        "    for i in range(1, comp):\n",
        "        \n",
        "        # Inicialização da matriz de pesos\n",
        "        parameters[\"W\" + str(i)] = np.random.randn(dims_camada_entrada[i], dims_camada_entrada[i - 1]) * 0.01\n",
        "        \n",
        "        # Inicialização do bias\n",
        "        parameters[\"b\" + str(i)] = np.zeros((dims_camada_entrada[i], 1))\n",
        "    \n",
        "    return parameters"
      ],
      "execution_count": 6,
      "outputs": []
    },
    {
      "cell_type": "markdown",
      "metadata": {
        "id": "iDjxlJi4Ctnk"
      },
      "source": [
        "### Desenvolvendo a Função Sigmóide\n",
        "\n",
        "A principal razão pela qual usamos a função sigmóide é porque ela permite converter números para valores entre 0 e 1. \n",
        "\n",
        "Portanto, é especialmente usada para modelos em que temos que prever a probabilidade como uma saída. Como a probabilidade de qualquer coisa existir apenas entre o intervalo de 0 e 1, sigmoide é a escolha certa. Algumas caracterísiticas da função sigmóide:\n",
        "\n",
        "- A função é diferenciável. Isso significa que podemos encontrar a inclinação da curva sigmóide em dois pontos.\n",
        "- A função sigmóide logística pode fazer com que uma rede neural fique presa no momento do treinamento.\n",
        "- A função softmax é uma função de ativação logística mais generalizada, utilizada para a classificação em várias classes."
      ]
    },
    {
      "cell_type": "markdown",
      "metadata": {
        "id": "K4Zf4mrrCtnm"
      },
      "source": [
        "Se a função parecer muito abstrata ou estranha para você, não se preocupe muito com detalhes como o número de Euler e ou como alguém criou essa função. Para aqueles que não são conhecedores de matemática, a única coisa importante sobre a função sigmóide é primeiro, sua curva e, segundo, sua derivada. Aqui estão mais alguns detalhes:\n",
        "\n",
        "- **A função sigmóide produz resultados semelhantes aos da função de passo (Step Function) em que a saída está entre 0 e 1. A curva cruza 0,5 a z = 0, e podemos definir regras para a função de ativação, como: Se a saída do neurônio sigmóide for maior que ou igual a 0,5, gera 1; se a saída for menor que 0,5, gera 0.**\n",
        "\n",
        "\n",
        "- A função sigmóide é suave e possui uma derivada simples de σ(z) * (1 - σ (z)), que é diferenciável em qualquer lugar da curva. \n",
        "\n",
        "\n",
        "- Se z for muito negativo, a saída será aproximadamente 0; se z for muito positivo, a saída é aproximadamente 1; mas em torno de z = 0, onde z não é muito grande nem muito pequeno, temos um desvio relativamente maior à medida que z muda."
      ]
    },
    {
      "cell_type": "markdown",
      "metadata": {
        "id": "5YznqOSeCtnp"
      },
      "source": [
        "No Cálculo, a derivada em um ponto de uma função y = f(x) representa a taxa de variação instantânea de y em relação a x neste ponto. \n",
        "\n",
        "Um exemplo típico é a função velocidade que representa a taxa de variação (derivada) da função espaço. Do mesmo modo, a função aceleração é a derivada da função velocidade. Geometricamente, a derivada no ponto x = a de y = f(x) representa a inclinação da reta tangente ao gráfico desta função no ponto (a, f(a)).\n",
        "\n",
        "A função que a cada ponto x associa a derivada neste ponto de f(x) é chamada de função derivada de f(x)."
      ]
    },
    {
      "cell_type": "markdown",
      "metadata": {
        "id": "CVlTZ5iMCtnq"
      },
      "source": [
        "Em cada ponto, a derivada de f(x) é a tangente do ângulo que a reta tangente à curva faz em relação ao eixo das abscissas. A reta é sempre tangente à curva azul; a tangente do ângulo que ela faz com o eixo das abscissas é a derivada. Note-se que a derivada é positiva quando verde, negativa quando vermelha, e zero quando preta.\n",
        "\n",
        "A derivada de uma função y = f(x) num ponto x = x0, é igual ao valor da tangente trigonométrica do ângulo formado pela tangente geométrica à curva representativa de y=f(x), no ponto x = x0, ou seja, a derivada é o coeficiente angular da reta tangente ao gráfico da função no ponto x0.\n",
        "\n",
        "A função derivada é representada por f'(x)."
      ]
    },
    {
      "cell_type": "code",
      "metadata": {
        "id": "yuHe1P92Ctnr"
      },
      "source": [
        "# Função sigmóide\n",
        "def sigmoid(Z):\n",
        "    A = 1 / (1 + np.exp(-Z))\n",
        "    return A, Z"
      ],
      "execution_count": 7,
      "outputs": []
    },
    {
      "cell_type": "markdown",
      "metadata": {
        "id": "CTFYrZmSCtns"
      },
      "source": [
        "### Desenvolvendo a Função ReLU\n",
        "\n",
        "Para usar a descida de gradiente estocástico com retropropagação de erros para treinar redes neurais profundas, é necessária uma função de ativação que se assemelhe e atue como uma função linear, mas é, de fato, uma função não linear que permite que relacionamentos complexos nos dados sejam aprendidos.\n",
        "\n",
        "A solução é usar a função de ativação linear retificada ou ReL para abreviar. Um nó ou unidade que implementa essa função de ativação é chamado de unidade de ativação linear retificada ou ReLU, para abreviar. Frequentemente, as redes que usam a função retificadora para as camadas ocultas são chamadas de redes retificadas.\n",
        "\n",
        "A função ReLU é definida como 𝑓(𝑥) = max (0, 𝑥). Normalmente, ela é aplicada elemento a elemento à saída de alguma outra função, como um produto de vetor e matriz. \n",
        "\n",
        "A adoção da ReLU pode ser facilmente considerada um dos marcos na revolução do aprendizado profundo, por ex. as técnicas que agora permitem o desenvolvimento rotineiro de redes neurais muito profundas.\n",
        "\n",
        "A derivada da função linear retificada também é fácil de calcular. **A derivada da função de ativação é necessária ao atualizar os pesos de um nó como parte da retropropagação de erro.**\n",
        "\n",
        "A derivada da função é a inclinação. A inclinação para valores negativos é 0,0 e a inclinação para valores positivos é 1,0.\n",
        "\n",
        "Tradicionalmente, o campo das redes neurais evitou qualquer função de ativação que não fosse completamente diferenciável, talvez adiando a adoção da função linear retificada e de outras funções lineares. Tecnicamente, não podemos calcular a derivada quando a entrada é 0,0; portanto, podemos assumir que é zero. Este não é um problema na prática.\n",
        "\n",
        "Os gradientes das ativações tangentes e hiperbólicas são menores que a porção positiva da ReLU. Isso significa que a parte positiva é atualizada mais rapidamente à medida que o treinamento avança. No entanto, isso tem um custo. O gradiente 0 no lado esquerdo tem seu próprio problema, chamado \"neurônios mortos\", no qual uma atualização de gradiente define os valores recebidos para uma ReLU, de modo que a saída é sempre zero; unidades ReLU modificadas, como ELU (ou Leaky ReLU, ou PReLU, etc.) podem melhorar isso."
      ]
    },
    {
      "cell_type": "code",
      "metadata": {
        "id": "uGn0gWpWCtnu"
      },
      "source": [
        "# Função de ativação ReLu (Rectified Linear Unit)\n",
        "def relu(Z):\n",
        "    A = abs(Z * (Z > 0))\n",
        "    return A, Z"
      ],
      "execution_count": 8,
      "outputs": []
    },
    {
      "cell_type": "markdown",
      "metadata": {
        "id": "qQ6unDV0Ctnv"
      },
      "source": [
        "### Desenvolvendo a Ativação Linear"
      ]
    },
    {
      "cell_type": "code",
      "metadata": {
        "id": "momgZhjhCtnv"
      },
      "source": [
        "# Operação de ativação\n",
        "# A é a matriz com os dados de entrada\n",
        "# W é a matriz de pesos\n",
        "# b é o bias\n",
        "def linear_activation(A, W, b):\n",
        "    Z = np.dot(W, A) + b\n",
        "    cache = (A, W, b)\n",
        "    return Z, cache"
      ],
      "execution_count": 9,
      "outputs": []
    },
    {
      "cell_type": "markdown",
      "metadata": {
        "id": "YntSII8XCtnw"
      },
      "source": [
        "### Construindo o Processo de Forward Propagation"
      ]
    },
    {
      "cell_type": "code",
      "metadata": {
        "id": "8kU_lTx2Ctnx"
      },
      "source": [
        "# Movimento para frente (forward)\n",
        "def forward(A_prev, W, b, activation):\n",
        "    \n",
        "    # Se a função de ativação for Sigmoid, entramos neste bloco\n",
        "    if activation == \"sigmoid\":\n",
        "        Z, linear_cache = linear_activation(A_prev, W, b)\n",
        "        A, activation_cache = sigmoid(Z)\n",
        "        \n",
        "    # Se não, se for ReLu, entramos neste bloco    \n",
        "    elif activation == \"relu\":\n",
        "        Z, linear_cache = linear_activation(A_prev, W, b)\n",
        "        A, activation_cache = relu(Z)\n",
        "        \n",
        "    cache = (linear_cache, activation_cache)\n",
        "    \n",
        "    return A, cache"
      ],
      "execution_count": 10,
      "outputs": []
    },
    {
      "cell_type": "markdown",
      "metadata": {
        "id": "MFnjnArOCtny"
      },
      "source": [
        "### Combinando Ativação e Propagação"
      ]
    },
    {
      "cell_type": "code",
      "metadata": {
        "id": "YpDj3jPYCtny"
      },
      "source": [
        "# Propagação para frente\n",
        "def forward_propagation(X, parameters):\n",
        "    \n",
        "    # Lista de valores anteriores (cache)\n",
        "    caches = []\n",
        "    \n",
        "    # Dados de entrada\n",
        "    A = X\n",
        "    \n",
        "    # Comprimento dos parâmetros\n",
        "    L = len(parameters) // 2\n",
        "   \n",
        "    # Loop\n",
        "    for i in range(1, L):\n",
        "      \n",
        "        # Guarda o valor prévio de A\n",
        "        A_prev = A\n",
        "        \n",
        "        # Executa o forward\n",
        "        A, cache = forward(A_prev, parameters[\"W\" + str(i)], parameters[\"b\" + str(i)], activation = \"relu\")\n",
        "        \n",
        "        # Grava o cache\n",
        "        caches.append(cache)\n",
        "    \n",
        "    # Saída na última camada\n",
        "    A_last, cache = forward(A, parameters[\"W\" + str(L)], parameters[\"b\" + str(L)], activation = \"sigmoid\")\n",
        "    \n",
        "    # Grava o cache\n",
        "    caches.append(cache)\n",
        "    \n",
        "    return(A_last, caches)"
      ],
      "execution_count": 11,
      "outputs": []
    },
    {
      "cell_type": "markdown",
      "metadata": {
        "id": "_S0NTIpNCtnz"
      },
      "source": [
        "### Desenvolvendo a Função de Custo"
      ]
    },
    {
      "cell_type": "code",
      "metadata": {
        "id": "LMNNd7MWCtn0"
      },
      "source": [
        "# Função de custo (ou função de erro)\n",
        "def calcula_custo(A_last, Y):\n",
        "    \n",
        "    # Ajusta o shape de Y para obter seu comprimento (total de elementos)\n",
        "    m = Y.shape[1]\n",
        "    \n",
        "    # Calcula o custo comparando valor real e previso\n",
        "    custo = (-1 / m) * np.sum((Y * np.log(A_last)) + ((1 - Y) * np.log(1 - A_last)))\n",
        "    \n",
        "    # Ajusta o shape do custo\n",
        "    custo = np.squeeze(custo)\n",
        "    \n",
        "    return(custo)"
      ],
      "execution_count": 12,
      "outputs": []
    },
    {
      "cell_type": "markdown",
      "metadata": {
        "id": "56D1reYdCtn1"
      },
      "source": [
        "### Parte 1B - Backward Propagation"
      ]
    },
    {
      "cell_type": "markdown",
      "metadata": {
        "id": "vsO1KSZ2Ctn2"
      },
      "source": [
        "### Desenvolvendo o Backward Propagation - Função Sigmóide Backward"
      ]
    },
    {
      "cell_type": "code",
      "metadata": {
        "id": "Eklu8F-8Ctn3"
      },
      "source": [
        "# Função sigmoid para o backpropagation \n",
        "# Fazemos o cálculo da derivada pois não queremos o valor completo da função, mas sim sua variação\n",
        "def sigmoid_backward(da, Z):\n",
        "    \n",
        "    # Calculamos a derivada de Z\n",
        "    dg = (1 / (1 + np.exp(-Z))) * (1 - (1 / (1 + np.exp(-Z))))\n",
        "    \n",
        "    # Encontramos a mudança na derivada de z\n",
        "    dz = da * dg\n",
        "    return dz\n",
        "\n",
        "# Compare com a função sigmoid do forward propagation\n",
        "# A = 1 / (1 + np.exp(-Z))"
      ],
      "execution_count": 13,
      "outputs": []
    },
    {
      "cell_type": "markdown",
      "metadata": {
        "id": "2QYcEuoHCtn4"
      },
      "source": [
        "### Desenvolvendo o Backward Propagation - Função ReLu Backward"
      ]
    },
    {
      "cell_type": "code",
      "metadata": {
        "id": "aqCH_y5mCtn4"
      },
      "source": [
        "# Função relu para o backpropagation \n",
        "# Fazemos o cálculo da derivada pois não queremos o valor completo da função, mas sim sua variação\n",
        "def relu_backward(da, Z):\n",
        "    \n",
        "    dg = 1 * ( Z >= 0)\n",
        "    dz = da * dg\n",
        "    return dz\n",
        "\n",
        "# Compare com a função relu do forward propagation:\n",
        "# A = abs(Z * (Z > 0))"
      ],
      "execution_count": 14,
      "outputs": []
    },
    {
      "cell_type": "markdown",
      "metadata": {
        "id": "QV1B1_vICtn5"
      },
      "source": [
        "### Desenvolvendo o Backward Propagation - Ativação Linear Backward"
      ]
    },
    {
      "cell_type": "code",
      "metadata": {
        "id": "viVc2yZ_Ctn6"
      },
      "source": [
        "# Ativação linear para o backpropagation\n",
        "def linear_backward_function(dz, cache):\n",
        "    \n",
        "    # Recebe os valores do cache (memória)\n",
        "    A_prev, W, b = cache\n",
        "    \n",
        "    # Shape de m\n",
        "    m = A_prev.shape[1]\n",
        "    \n",
        "    # Calcula a derivada de W (resultado da operação com dz)\n",
        "    dW = (1 / m) * np.dot(dz, A_prev.T)\n",
        "    \n",
        "    # Calcula a derivada de b (resultado da operação com dz)\n",
        "    db = (1 / m) * np.sum(dz, axis = 1, keepdims = True)\n",
        "    \n",
        "    # Calcula a derivada da operação\n",
        "    dA_prev = np.dot(W.T, dz)\n",
        "    \n",
        "    return dA_prev, dW, db"
      ],
      "execution_count": 15,
      "outputs": []
    },
    {
      "cell_type": "markdown",
      "metadata": {
        "id": "AMVVSMM1Ctn7"
      },
      "source": [
        "### Desenvolvendo o Backward Propagation - Ativação Linear Backward"
      ]
    },
    {
      "cell_type": "code",
      "metadata": {
        "id": "WduC2LGeCtn8"
      },
      "source": [
        "# Função que define o tipo de ativação (relu ou sigmoid)\n",
        "def linear_activation_backward(dA, cache, activation):\n",
        "    \n",
        "    # Extrai o cache\n",
        "    linear_cache, activation_cache = cache\n",
        "    \n",
        "    # Verifica se a ativação é relu\n",
        "    if activation == \"relu\":\n",
        "        dZ = relu_backward(dA, activation_cache)\n",
        "        dA_prev, dW, db = linear_backward_function(dZ, linear_cache)\n",
        "        \n",
        "    # Verifica se a ativação é sigmoid\n",
        "    if activation == \"sigmoid\":\n",
        "        dZ = sigmoid_backward(dA, activation_cache)\n",
        "        dA_prev, dW, db = linear_backward_function(dZ, linear_cache)\n",
        "        \n",
        "    return dA_prev, dW, db"
      ],
      "execution_count": 16,
      "outputs": []
    },
    {
      "cell_type": "markdown",
      "metadata": {
        "id": "KeLyqlQDCtn8"
      },
      "source": [
        "### Combinando Ativação e Retropropagação - Algoritmo Backpropagation"
      ]
    },
    {
      "cell_type": "code",
      "metadata": {
        "id": "L4tKGbsPCtn9"
      },
      "source": [
        "# Algoritmo Backpropagation (calcula os gradientes para atualização dos pesos)\n",
        "# AL = Valor previsto no Forward\n",
        "# Y = Valor real\n",
        "def backward_propagation(AL, Y, caches):\n",
        "    \n",
        "    # Dicionário para os gradientes\n",
        "    grads = {}\n",
        "    \n",
        "    # Comprimento dos dados (que estão no cache)\n",
        "    L = len(caches)\n",
        "    \n",
        "    # Extrai o comprimento para o valor de m\n",
        "    m = AL.shape[1]\n",
        "    \n",
        "    # Ajusta o shape de Y\n",
        "    Y = Y.reshape(AL.shape)\n",
        "    \n",
        "    # Calcula a derivada da previsão final da rede (feita ao final do Forward Propagation)\n",
        "    dAL = -((Y / AL) - ((1 - Y) / (1 - AL)))\n",
        "    \n",
        "    # Captura o valor corrente do cache\n",
        "    current_cache = caches[L - 1]\n",
        "    \n",
        "    # Gera a lista de gradiente para os dados, os pesos e o bias\n",
        "    # Fazemos isso uma vez, pois estamos na parte final da rede, iniciando o caminho de volta\n",
        "    grads[\"dA\" + str(L - 1)], grads[\"dW\" + str(L)], grads[\"db\" + str(L)] = linear_activation_backward(dAL, current_cache, activation = \"sigmoid\")\n",
        "    \n",
        "    # Loop para calcular a derivada durante as ativações lineares com a relu\n",
        "    for l in reversed(range(L - 1)):\n",
        "        \n",
        "        # Cache atual\n",
        "        current_cache = caches[l]\n",
        "        \n",
        "        # Calcula as derivadas\n",
        "        dA_prev, dW, db = linear_activation_backward(grads[\"dA\" + str(l + 1)], current_cache, activation = \"relu\")\n",
        "        \n",
        "        # Alimenta os gradientes na lista, usando o índice respectivo\n",
        "        grads[\"dA\" + str(l)] = dA_prev\n",
        "        grads[\"dW\" + str(l + 1)] = dW\n",
        "        grads[\"db\" + str(l + 1)] = db\n",
        "        \n",
        "    return grads"
      ],
      "execution_count": 17,
      "outputs": []
    },
    {
      "cell_type": "markdown",
      "metadata": {
        "id": "sm3F900xCtn-"
      },
      "source": [
        "### Gradientes e Atualização dos Pesos"
      ]
    },
    {
      "cell_type": "code",
      "metadata": {
        "id": "6OsOtP-CCtn_"
      },
      "source": [
        "# Função de atualização de pesos\n",
        "def atualiza_pesos(parameters, grads, learning_rate):\n",
        "    \n",
        "    # Comprimento da estrutura de dados com os parâmetros (pesos e bias)\n",
        "    L = len(parameters)//2\n",
        "    \n",
        "    # Loop para atualização dos pesos\n",
        "    for l in range(L):\n",
        "        \n",
        "        # Atualização dos pesos\n",
        "        parameters[\"W\" + str(l + 1)] = parameters[\"W\" + str(l + 1)] - (learning_rate * grads[\"dW\" + str(l + 1)])\n",
        "        \n",
        "        # Atualização do bias\n",
        "        parameters[\"b\" + str(l + 1)] = parameters[\"b\" + str(l + 1)] - (learning_rate * grads[\"db\" + str(l + 1)])\n",
        "    \n",
        "    return parameters"
      ],
      "execution_count": 18,
      "outputs": []
    },
    {
      "cell_type": "markdown",
      "metadata": {
        "id": "fncj-ZCzCtn_"
      },
      "source": [
        "### Implementando a Rede Completa"
      ]
    },
    {
      "cell_type": "code",
      "metadata": {
        "id": "6prNPdqdCtoA"
      },
      "source": [
        "# Modelo completo da rede neural\n",
        "def modeloNN(X, Y, dims_camada_entrada, learning_rate = 0.0075, num_iterations = 100):\n",
        "    \n",
        "    # Lista para receber o custo a cada época de treinamento\n",
        "    custos = []\n",
        "    \n",
        "    # Inicializa os parâmetros\n",
        "    parametros = inicializa_parametros(dims_camada_entrada)\n",
        "    \n",
        "    # Loop pelo número de iterações (épocas)\n",
        "    for i in range(num_iterations):\n",
        "        \n",
        "        # Forward Propagation\n",
        "        AL, caches = forward_propagation(X, parametros)\n",
        "        \n",
        "        # Calcula o custo\n",
        "        custo = calcula_custo(AL, Y)\n",
        "        \n",
        "        # Backward Propagation\n",
        "        # Nota: ao invés de AL e Y, poderíamos passar somente o valor do custo\n",
        "        # Estamos passando o valor de AL e Y para fique claro didaticamente o que está sendo feito\n",
        "        gradientes = backward_propagation(AL, Y, caches)\n",
        "        \n",
        "        # Atualiza os pesos\n",
        "        parametros = atualiza_pesos(parametros, gradientes, learning_rate)\n",
        "        \n",
        "        # Print do valor intermediário do custo\n",
        "        # A redução do custo indica o aprendizado do modelo\n",
        "        if i % 10 == 0:\n",
        "            print(\"Custo Após \" + str(i) + \" iterações é \" + str(custo))\n",
        "            custos.append(custo)\n",
        "            \n",
        "    return parametros, custos "
      ],
      "execution_count": 19,
      "outputs": []
    },
    {
      "cell_type": "code",
      "metadata": {
        "id": "bwCLH2Y7CtoA"
      },
      "source": [
        "# Função para fazer as previsões\n",
        "# Não precisamos do Backpropagation pois ao fazer previsões como o modelo treinado, \n",
        "# teremos os melhores valores de pesos (parametros)\n",
        "def predict(X, parametros):\n",
        "    AL, caches = forward_propagation(X, parametros)\n",
        "    return AL"
      ],
      "execution_count": 20,
      "outputs": []
    },
    {
      "cell_type": "markdown",
      "metadata": {
        "id": "i2WTT-M_CtoB"
      },
      "source": [
        "### Parte 2 - Vamos treinar a rede para Prever a Ocorrência de Câncer"
      ]
    },
    {
      "cell_type": "markdown",
      "metadata": {
        "id": "hMeG8Q59CtoB"
      },
      "source": [
        "### Mini-Projeto 4 - Usando a Rede Neural Para Prever a Ocorrência de Câncer"
      ]
    },
    {
      "cell_type": "code",
      "metadata": {
        "id": "bOgb_ThWCtoB"
      },
      "source": [
        "# Imports\n",
        "import sklearn\n",
        "import numpy as np\n",
        "import pandas as pd\n",
        "import matplotlib\n",
        "import matplotlib.pyplot as plt\n",
        "from sklearn.datasets import load_breast_cancer\n",
        "from sklearn.model_selection import train_test_split\n",
        "from sklearn.metrics import classification_report"
      ],
      "execution_count": 21,
      "outputs": []
    },
    {
      "cell_type": "code",
      "metadata": {
        "colab": {
          "base_uri": "https://localhost:8080/"
        },
        "id": "yiqCJS5LCtoC",
        "outputId": "622720ce-3a87-48ca-cfa7-07213acb74e0"
      },
      "source": [
        "# Versões dos pacotes usados neste jupyter notebook\n",
        "%reload_ext watermark\n",
        "%watermark -a \"Data Science Academy\" --iversions"
      ],
      "execution_count": 22,
      "outputs": [
        {
          "output_type": "stream",
          "text": [
            "Author: Data Science Academy\n",
            "\n",
            "sklearn   : 0.0\n",
            "IPython   : 5.5.0\n",
            "numpy     : 1.19.5\n",
            "matplotlib: 3.2.2\n",
            "pandas    : 1.1.5\n",
            "\n"
          ],
          "name": "stdout"
        }
      ]
    },
    {
      "cell_type": "markdown",
      "metadata": {
        "id": "frx-LCi7CtoC"
      },
      "source": [
        "### Carregando os Dados\n",
        "\n",
        "https://scikit-learn.org/stable/datasets/index.html#breast-cancer-dataset"
      ]
    },
    {
      "cell_type": "code",
      "metadata": {
        "id": "xu5fvLFVCtoD"
      },
      "source": [
        "# Carregamos o objeto completo\n",
        "temp = load_breast_cancer()"
      ],
      "execution_count": 23,
      "outputs": []
    },
    {
      "cell_type": "code",
      "metadata": {
        "colab": {
          "base_uri": "https://localhost:8080/"
        },
        "id": "HWAh1IcpCtoE",
        "outputId": "375f4439-49d6-40e4-dd7a-d24be186ed40"
      },
      "source": [
        "# Tipo do objeto\n",
        "type(temp)"
      ],
      "execution_count": 24,
      "outputs": [
        {
          "output_type": "execute_result",
          "data": {
            "text/plain": [
              "sklearn.utils.Bunch"
            ]
          },
          "metadata": {
            "tags": []
          },
          "execution_count": 24
        }
      ]
    },
    {
      "cell_type": "code",
      "metadata": {
        "colab": {
          "base_uri": "https://localhost:8080/"
        },
        "id": "0Q6sPEtlCtoF",
        "outputId": "3f192a20-9452-4ba0-b1d5-43831fc74dd1"
      },
      "source": [
        "# Visualiza o objeto\n",
        "temp"
      ],
      "execution_count": 25,
      "outputs": [
        {
          "output_type": "execute_result",
          "data": {
            "text/plain": [
              "{'DESCR': '.. _breast_cancer_dataset:\\n\\nBreast cancer wisconsin (diagnostic) dataset\\n--------------------------------------------\\n\\n**Data Set Characteristics:**\\n\\n    :Number of Instances: 569\\n\\n    :Number of Attributes: 30 numeric, predictive attributes and the class\\n\\n    :Attribute Information:\\n        - radius (mean of distances from center to points on the perimeter)\\n        - texture (standard deviation of gray-scale values)\\n        - perimeter\\n        - area\\n        - smoothness (local variation in radius lengths)\\n        - compactness (perimeter^2 / area - 1.0)\\n        - concavity (severity of concave portions of the contour)\\n        - concave points (number of concave portions of the contour)\\n        - symmetry \\n        - fractal dimension (\"coastline approximation\" - 1)\\n\\n        The mean, standard error, and \"worst\" or largest (mean of the three\\n        largest values) of these features were computed for each image,\\n        resulting in 30 features.  For instance, field 3 is Mean Radius, field\\n        13 is Radius SE, field 23 is Worst Radius.\\n\\n        - class:\\n                - WDBC-Malignant\\n                - WDBC-Benign\\n\\n    :Summary Statistics:\\n\\n    ===================================== ====== ======\\n                                           Min    Max\\n    ===================================== ====== ======\\n    radius (mean):                        6.981  28.11\\n    texture (mean):                       9.71   39.28\\n    perimeter (mean):                     43.79  188.5\\n    area (mean):                          143.5  2501.0\\n    smoothness (mean):                    0.053  0.163\\n    compactness (mean):                   0.019  0.345\\n    concavity (mean):                     0.0    0.427\\n    concave points (mean):                0.0    0.201\\n    symmetry (mean):                      0.106  0.304\\n    fractal dimension (mean):             0.05   0.097\\n    radius (standard error):              0.112  2.873\\n    texture (standard error):             0.36   4.885\\n    perimeter (standard error):           0.757  21.98\\n    area (standard error):                6.802  542.2\\n    smoothness (standard error):          0.002  0.031\\n    compactness (standard error):         0.002  0.135\\n    concavity (standard error):           0.0    0.396\\n    concave points (standard error):      0.0    0.053\\n    symmetry (standard error):            0.008  0.079\\n    fractal dimension (standard error):   0.001  0.03\\n    radius (worst):                       7.93   36.04\\n    texture (worst):                      12.02  49.54\\n    perimeter (worst):                    50.41  251.2\\n    area (worst):                         185.2  4254.0\\n    smoothness (worst):                   0.071  0.223\\n    compactness (worst):                  0.027  1.058\\n    concavity (worst):                    0.0    1.252\\n    concave points (worst):               0.0    0.291\\n    symmetry (worst):                     0.156  0.664\\n    fractal dimension (worst):            0.055  0.208\\n    ===================================== ====== ======\\n\\n    :Missing Attribute Values: None\\n\\n    :Class Distribution: 212 - Malignant, 357 - Benign\\n\\n    :Creator:  Dr. William H. Wolberg, W. Nick Street, Olvi L. Mangasarian\\n\\n    :Donor: Nick Street\\n\\n    :Date: November, 1995\\n\\nThis is a copy of UCI ML Breast Cancer Wisconsin (Diagnostic) datasets.\\nhttps://goo.gl/U2Uwz2\\n\\nFeatures are computed from a digitized image of a fine needle\\naspirate (FNA) of a breast mass.  They describe\\ncharacteristics of the cell nuclei present in the image.\\n\\nSeparating plane described above was obtained using\\nMultisurface Method-Tree (MSM-T) [K. P. Bennett, \"Decision Tree\\nConstruction Via Linear Programming.\" Proceedings of the 4th\\nMidwest Artificial Intelligence and Cognitive Science Society,\\npp. 97-101, 1992], a classification method which uses linear\\nprogramming to construct a decision tree.  Relevant features\\nwere selected using an exhaustive search in the space of 1-4\\nfeatures and 1-3 separating planes.\\n\\nThe actual linear program used to obtain the separating plane\\nin the 3-dimensional space is that described in:\\n[K. P. Bennett and O. L. Mangasarian: \"Robust Linear\\nProgramming Discrimination of Two Linearly Inseparable Sets\",\\nOptimization Methods and Software 1, 1992, 23-34].\\n\\nThis database is also available through the UW CS ftp server:\\n\\nftp ftp.cs.wisc.edu\\ncd math-prog/cpo-dataset/machine-learn/WDBC/\\n\\n.. topic:: References\\n\\n   - W.N. Street, W.H. Wolberg and O.L. Mangasarian. Nuclear feature extraction \\n     for breast tumor diagnosis. IS&T/SPIE 1993 International Symposium on \\n     Electronic Imaging: Science and Technology, volume 1905, pages 861-870,\\n     San Jose, CA, 1993.\\n   - O.L. Mangasarian, W.N. Street and W.H. Wolberg. Breast cancer diagnosis and \\n     prognosis via linear programming. Operations Research, 43(4), pages 570-577, \\n     July-August 1995.\\n   - W.H. Wolberg, W.N. Street, and O.L. Mangasarian. Machine learning techniques\\n     to diagnose breast cancer from fine-needle aspirates. Cancer Letters 77 (1994) \\n     163-171.',\n",
              " 'data': array([[1.799e+01, 1.038e+01, 1.228e+02, ..., 2.654e-01, 4.601e-01,\n",
              "         1.189e-01],\n",
              "        [2.057e+01, 1.777e+01, 1.329e+02, ..., 1.860e-01, 2.750e-01,\n",
              "         8.902e-02],\n",
              "        [1.969e+01, 2.125e+01, 1.300e+02, ..., 2.430e-01, 3.613e-01,\n",
              "         8.758e-02],\n",
              "        ...,\n",
              "        [1.660e+01, 2.808e+01, 1.083e+02, ..., 1.418e-01, 2.218e-01,\n",
              "         7.820e-02],\n",
              "        [2.060e+01, 2.933e+01, 1.401e+02, ..., 2.650e-01, 4.087e-01,\n",
              "         1.240e-01],\n",
              "        [7.760e+00, 2.454e+01, 4.792e+01, ..., 0.000e+00, 2.871e-01,\n",
              "         7.039e-02]]),\n",
              " 'feature_names': array(['mean radius', 'mean texture', 'mean perimeter', 'mean area',\n",
              "        'mean smoothness', 'mean compactness', 'mean concavity',\n",
              "        'mean concave points', 'mean symmetry', 'mean fractal dimension',\n",
              "        'radius error', 'texture error', 'perimeter error', 'area error',\n",
              "        'smoothness error', 'compactness error', 'concavity error',\n",
              "        'concave points error', 'symmetry error',\n",
              "        'fractal dimension error', 'worst radius', 'worst texture',\n",
              "        'worst perimeter', 'worst area', 'worst smoothness',\n",
              "        'worst compactness', 'worst concavity', 'worst concave points',\n",
              "        'worst symmetry', 'worst fractal dimension'], dtype='<U23'),\n",
              " 'filename': '/usr/local/lib/python3.7/dist-packages/sklearn/datasets/data/breast_cancer.csv',\n",
              " 'target': array([0, 0, 0, 0, 0, 0, 0, 0, 0, 0, 0, 0, 0, 0, 0, 0, 0, 0, 0, 1, 1, 1,\n",
              "        0, 0, 0, 0, 0, 0, 0, 0, 0, 0, 0, 0, 0, 0, 0, 1, 0, 0, 0, 0, 0, 0,\n",
              "        0, 0, 1, 0, 1, 1, 1, 1, 1, 0, 0, 1, 0, 0, 1, 1, 1, 1, 0, 1, 0, 0,\n",
              "        1, 1, 1, 1, 0, 1, 0, 0, 1, 0, 1, 0, 0, 1, 1, 1, 0, 0, 1, 0, 0, 0,\n",
              "        1, 1, 1, 0, 1, 1, 0, 0, 1, 1, 1, 0, 0, 1, 1, 1, 1, 0, 1, 1, 0, 1,\n",
              "        1, 1, 1, 1, 1, 1, 1, 0, 0, 0, 1, 0, 0, 1, 1, 1, 0, 0, 1, 0, 1, 0,\n",
              "        0, 1, 0, 0, 1, 1, 0, 1, 1, 0, 1, 1, 1, 1, 0, 1, 1, 1, 1, 1, 1, 1,\n",
              "        1, 1, 0, 1, 1, 1, 1, 0, 0, 1, 0, 1, 1, 0, 0, 1, 1, 0, 0, 1, 1, 1,\n",
              "        1, 0, 1, 1, 0, 0, 0, 1, 0, 1, 0, 1, 1, 1, 0, 1, 1, 0, 0, 1, 0, 0,\n",
              "        0, 0, 1, 0, 0, 0, 1, 0, 1, 0, 1, 1, 0, 1, 0, 0, 0, 0, 1, 1, 0, 0,\n",
              "        1, 1, 1, 0, 1, 1, 1, 1, 1, 0, 0, 1, 1, 0, 1, 1, 0, 0, 1, 0, 1, 1,\n",
              "        1, 1, 0, 1, 1, 1, 1, 1, 0, 1, 0, 0, 0, 0, 0, 0, 0, 0, 0, 0, 0, 0,\n",
              "        0, 0, 1, 1, 1, 1, 1, 1, 0, 1, 0, 1, 1, 0, 1, 1, 0, 1, 0, 0, 1, 1,\n",
              "        1, 1, 1, 1, 1, 1, 1, 1, 1, 1, 1, 0, 1, 1, 0, 1, 0, 1, 1, 1, 1, 1,\n",
              "        1, 1, 1, 1, 1, 1, 1, 1, 1, 0, 1, 1, 1, 0, 1, 0, 1, 1, 1, 1, 0, 0,\n",
              "        0, 1, 1, 1, 1, 0, 1, 0, 1, 0, 1, 1, 1, 0, 1, 1, 1, 1, 1, 1, 1, 0,\n",
              "        0, 0, 1, 1, 1, 1, 1, 1, 1, 1, 1, 1, 1, 0, 0, 1, 0, 0, 0, 1, 0, 0,\n",
              "        1, 1, 1, 1, 1, 0, 1, 1, 1, 1, 1, 0, 1, 1, 1, 0, 1, 1, 0, 0, 1, 1,\n",
              "        1, 1, 1, 1, 0, 1, 1, 1, 1, 1, 1, 1, 0, 1, 1, 1, 1, 1, 0, 1, 1, 0,\n",
              "        1, 1, 1, 1, 1, 1, 1, 1, 1, 1, 1, 1, 0, 1, 0, 0, 1, 0, 1, 1, 1, 1,\n",
              "        1, 0, 1, 1, 0, 1, 0, 1, 1, 0, 1, 0, 1, 1, 1, 1, 1, 1, 1, 1, 0, 0,\n",
              "        1, 1, 1, 1, 1, 1, 0, 1, 1, 1, 1, 1, 1, 1, 1, 1, 1, 0, 1, 1, 1, 1,\n",
              "        1, 1, 1, 0, 1, 0, 1, 1, 0, 1, 1, 1, 1, 1, 0, 0, 1, 0, 1, 0, 1, 1,\n",
              "        1, 1, 1, 0, 1, 1, 0, 1, 0, 1, 0, 0, 1, 1, 1, 0, 1, 1, 1, 1, 1, 1,\n",
              "        1, 1, 1, 1, 1, 0, 1, 0, 0, 1, 1, 1, 1, 1, 1, 1, 1, 1, 1, 1, 1, 1,\n",
              "        1, 1, 1, 1, 1, 1, 1, 1, 1, 1, 1, 1, 0, 0, 0, 0, 0, 0, 1]),\n",
              " 'target_names': array(['malignant', 'benign'], dtype='<U9')}"
            ]
          },
          "metadata": {
            "tags": []
          },
          "execution_count": 25
        }
      ]
    },
    {
      "cell_type": "code",
      "metadata": {
        "id": "sunYgpGbCtoG"
      },
      "source": [
        "# Carregamos o dataset\n",
        "dados = pd.DataFrame(columns = load_breast_cancer()[\"feature_names\"], data = load_breast_cancer()[\"data\"])"
      ],
      "execution_count": 26,
      "outputs": []
    },
    {
      "cell_type": "code",
      "metadata": {
        "colab": {
          "base_uri": "https://localhost:8080/"
        },
        "id": "hNLD46GDCtoG",
        "outputId": "2d72d839-1d71-4498-9a7d-33210e927405"
      },
      "source": [
        "# Shape\n",
        "dados.shape"
      ],
      "execution_count": 27,
      "outputs": [
        {
          "output_type": "execute_result",
          "data": {
            "text/plain": [
              "(569, 30)"
            ]
          },
          "metadata": {
            "tags": []
          },
          "execution_count": 27
        }
      ]
    },
    {
      "cell_type": "code",
      "metadata": {
        "colab": {
          "base_uri": "https://localhost:8080/",
          "height": 258
        },
        "id": "IWnLM0DNCtoH",
        "outputId": "cbc67701-1322-4584-b86f-f81ed53ea1ff"
      },
      "source": [
        "# Visualiza os dados\n",
        "dados.head()"
      ],
      "execution_count": 28,
      "outputs": [
        {
          "output_type": "execute_result",
          "data": {
            "text/html": [
              "<div>\n",
              "<style scoped>\n",
              "    .dataframe tbody tr th:only-of-type {\n",
              "        vertical-align: middle;\n",
              "    }\n",
              "\n",
              "    .dataframe tbody tr th {\n",
              "        vertical-align: top;\n",
              "    }\n",
              "\n",
              "    .dataframe thead th {\n",
              "        text-align: right;\n",
              "    }\n",
              "</style>\n",
              "<table border=\"1\" class=\"dataframe\">\n",
              "  <thead>\n",
              "    <tr style=\"text-align: right;\">\n",
              "      <th></th>\n",
              "      <th>mean radius</th>\n",
              "      <th>mean texture</th>\n",
              "      <th>mean perimeter</th>\n",
              "      <th>mean area</th>\n",
              "      <th>mean smoothness</th>\n",
              "      <th>mean compactness</th>\n",
              "      <th>mean concavity</th>\n",
              "      <th>mean concave points</th>\n",
              "      <th>mean symmetry</th>\n",
              "      <th>mean fractal dimension</th>\n",
              "      <th>radius error</th>\n",
              "      <th>texture error</th>\n",
              "      <th>perimeter error</th>\n",
              "      <th>area error</th>\n",
              "      <th>smoothness error</th>\n",
              "      <th>compactness error</th>\n",
              "      <th>concavity error</th>\n",
              "      <th>concave points error</th>\n",
              "      <th>symmetry error</th>\n",
              "      <th>fractal dimension error</th>\n",
              "      <th>worst radius</th>\n",
              "      <th>worst texture</th>\n",
              "      <th>worst perimeter</th>\n",
              "      <th>worst area</th>\n",
              "      <th>worst smoothness</th>\n",
              "      <th>worst compactness</th>\n",
              "      <th>worst concavity</th>\n",
              "      <th>worst concave points</th>\n",
              "      <th>worst symmetry</th>\n",
              "      <th>worst fractal dimension</th>\n",
              "    </tr>\n",
              "  </thead>\n",
              "  <tbody>\n",
              "    <tr>\n",
              "      <th>0</th>\n",
              "      <td>17.99</td>\n",
              "      <td>10.38</td>\n",
              "      <td>122.80</td>\n",
              "      <td>1001.0</td>\n",
              "      <td>0.11840</td>\n",
              "      <td>0.27760</td>\n",
              "      <td>0.3001</td>\n",
              "      <td>0.14710</td>\n",
              "      <td>0.2419</td>\n",
              "      <td>0.07871</td>\n",
              "      <td>1.0950</td>\n",
              "      <td>0.9053</td>\n",
              "      <td>8.589</td>\n",
              "      <td>153.40</td>\n",
              "      <td>0.006399</td>\n",
              "      <td>0.04904</td>\n",
              "      <td>0.05373</td>\n",
              "      <td>0.01587</td>\n",
              "      <td>0.03003</td>\n",
              "      <td>0.006193</td>\n",
              "      <td>25.38</td>\n",
              "      <td>17.33</td>\n",
              "      <td>184.60</td>\n",
              "      <td>2019.0</td>\n",
              "      <td>0.1622</td>\n",
              "      <td>0.6656</td>\n",
              "      <td>0.7119</td>\n",
              "      <td>0.2654</td>\n",
              "      <td>0.4601</td>\n",
              "      <td>0.11890</td>\n",
              "    </tr>\n",
              "    <tr>\n",
              "      <th>1</th>\n",
              "      <td>20.57</td>\n",
              "      <td>17.77</td>\n",
              "      <td>132.90</td>\n",
              "      <td>1326.0</td>\n",
              "      <td>0.08474</td>\n",
              "      <td>0.07864</td>\n",
              "      <td>0.0869</td>\n",
              "      <td>0.07017</td>\n",
              "      <td>0.1812</td>\n",
              "      <td>0.05667</td>\n",
              "      <td>0.5435</td>\n",
              "      <td>0.7339</td>\n",
              "      <td>3.398</td>\n",
              "      <td>74.08</td>\n",
              "      <td>0.005225</td>\n",
              "      <td>0.01308</td>\n",
              "      <td>0.01860</td>\n",
              "      <td>0.01340</td>\n",
              "      <td>0.01389</td>\n",
              "      <td>0.003532</td>\n",
              "      <td>24.99</td>\n",
              "      <td>23.41</td>\n",
              "      <td>158.80</td>\n",
              "      <td>1956.0</td>\n",
              "      <td>0.1238</td>\n",
              "      <td>0.1866</td>\n",
              "      <td>0.2416</td>\n",
              "      <td>0.1860</td>\n",
              "      <td>0.2750</td>\n",
              "      <td>0.08902</td>\n",
              "    </tr>\n",
              "    <tr>\n",
              "      <th>2</th>\n",
              "      <td>19.69</td>\n",
              "      <td>21.25</td>\n",
              "      <td>130.00</td>\n",
              "      <td>1203.0</td>\n",
              "      <td>0.10960</td>\n",
              "      <td>0.15990</td>\n",
              "      <td>0.1974</td>\n",
              "      <td>0.12790</td>\n",
              "      <td>0.2069</td>\n",
              "      <td>0.05999</td>\n",
              "      <td>0.7456</td>\n",
              "      <td>0.7869</td>\n",
              "      <td>4.585</td>\n",
              "      <td>94.03</td>\n",
              "      <td>0.006150</td>\n",
              "      <td>0.04006</td>\n",
              "      <td>0.03832</td>\n",
              "      <td>0.02058</td>\n",
              "      <td>0.02250</td>\n",
              "      <td>0.004571</td>\n",
              "      <td>23.57</td>\n",
              "      <td>25.53</td>\n",
              "      <td>152.50</td>\n",
              "      <td>1709.0</td>\n",
              "      <td>0.1444</td>\n",
              "      <td>0.4245</td>\n",
              "      <td>0.4504</td>\n",
              "      <td>0.2430</td>\n",
              "      <td>0.3613</td>\n",
              "      <td>0.08758</td>\n",
              "    </tr>\n",
              "    <tr>\n",
              "      <th>3</th>\n",
              "      <td>11.42</td>\n",
              "      <td>20.38</td>\n",
              "      <td>77.58</td>\n",
              "      <td>386.1</td>\n",
              "      <td>0.14250</td>\n",
              "      <td>0.28390</td>\n",
              "      <td>0.2414</td>\n",
              "      <td>0.10520</td>\n",
              "      <td>0.2597</td>\n",
              "      <td>0.09744</td>\n",
              "      <td>0.4956</td>\n",
              "      <td>1.1560</td>\n",
              "      <td>3.445</td>\n",
              "      <td>27.23</td>\n",
              "      <td>0.009110</td>\n",
              "      <td>0.07458</td>\n",
              "      <td>0.05661</td>\n",
              "      <td>0.01867</td>\n",
              "      <td>0.05963</td>\n",
              "      <td>0.009208</td>\n",
              "      <td>14.91</td>\n",
              "      <td>26.50</td>\n",
              "      <td>98.87</td>\n",
              "      <td>567.7</td>\n",
              "      <td>0.2098</td>\n",
              "      <td>0.8663</td>\n",
              "      <td>0.6869</td>\n",
              "      <td>0.2575</td>\n",
              "      <td>0.6638</td>\n",
              "      <td>0.17300</td>\n",
              "    </tr>\n",
              "    <tr>\n",
              "      <th>4</th>\n",
              "      <td>20.29</td>\n",
              "      <td>14.34</td>\n",
              "      <td>135.10</td>\n",
              "      <td>1297.0</td>\n",
              "      <td>0.10030</td>\n",
              "      <td>0.13280</td>\n",
              "      <td>0.1980</td>\n",
              "      <td>0.10430</td>\n",
              "      <td>0.1809</td>\n",
              "      <td>0.05883</td>\n",
              "      <td>0.7572</td>\n",
              "      <td>0.7813</td>\n",
              "      <td>5.438</td>\n",
              "      <td>94.44</td>\n",
              "      <td>0.011490</td>\n",
              "      <td>0.02461</td>\n",
              "      <td>0.05688</td>\n",
              "      <td>0.01885</td>\n",
              "      <td>0.01756</td>\n",
              "      <td>0.005115</td>\n",
              "      <td>22.54</td>\n",
              "      <td>16.67</td>\n",
              "      <td>152.20</td>\n",
              "      <td>1575.0</td>\n",
              "      <td>0.1374</td>\n",
              "      <td>0.2050</td>\n",
              "      <td>0.4000</td>\n",
              "      <td>0.1625</td>\n",
              "      <td>0.2364</td>\n",
              "      <td>0.07678</td>\n",
              "    </tr>\n",
              "  </tbody>\n",
              "</table>\n",
              "</div>"
            ],
            "text/plain": [
              "   mean radius  mean texture  ...  worst symmetry  worst fractal dimension\n",
              "0        17.99         10.38  ...          0.4601                  0.11890\n",
              "1        20.57         17.77  ...          0.2750                  0.08902\n",
              "2        19.69         21.25  ...          0.3613                  0.08758\n",
              "3        11.42         20.38  ...          0.6638                  0.17300\n",
              "4        20.29         14.34  ...          0.2364                  0.07678\n",
              "\n",
              "[5 rows x 30 columns]"
            ]
          },
          "metadata": {
            "tags": []
          },
          "execution_count": 28
        }
      ]
    },
    {
      "cell_type": "code",
      "metadata": {
        "colab": {
          "base_uri": "https://localhost:8080/"
        },
        "id": "veL8oYiPCtoI",
        "outputId": "ce48c50d-a883-47e2-8f96-0eda3e430f87"
      },
      "source": [
        "# Verifica se temos valores ausentes\n",
        "dados.isnull().any()"
      ],
      "execution_count": 29,
      "outputs": [
        {
          "output_type": "execute_result",
          "data": {
            "text/plain": [
              "mean radius                False\n",
              "mean texture               False\n",
              "mean perimeter             False\n",
              "mean area                  False\n",
              "mean smoothness            False\n",
              "mean compactness           False\n",
              "mean concavity             False\n",
              "mean concave points        False\n",
              "mean symmetry              False\n",
              "mean fractal dimension     False\n",
              "radius error               False\n",
              "texture error              False\n",
              "perimeter error            False\n",
              "area error                 False\n",
              "smoothness error           False\n",
              "compactness error          False\n",
              "concavity error            False\n",
              "concave points error       False\n",
              "symmetry error             False\n",
              "fractal dimension error    False\n",
              "worst radius               False\n",
              "worst texture              False\n",
              "worst perimeter            False\n",
              "worst area                 False\n",
              "worst smoothness           False\n",
              "worst compactness          False\n",
              "worst concavity            False\n",
              "worst concave points       False\n",
              "worst symmetry             False\n",
              "worst fractal dimension    False\n",
              "dtype: bool"
            ]
          },
          "metadata": {
            "tags": []
          },
          "execution_count": 29
        }
      ]
    },
    {
      "cell_type": "code",
      "metadata": {
        "id": "uc5udI2RCtoJ"
      },
      "source": [
        "# Separa a variável target\n",
        "target = load_breast_cancer()[\"target\"]"
      ],
      "execution_count": 30,
      "outputs": []
    },
    {
      "cell_type": "code",
      "metadata": {
        "colab": {
          "base_uri": "https://localhost:8080/"
        },
        "id": "nY_ZXsXsCtoJ",
        "outputId": "137c1348-444f-4d2d-8f0e-6179487028d3"
      },
      "source": [
        "type(target)"
      ],
      "execution_count": 31,
      "outputs": [
        {
          "output_type": "execute_result",
          "data": {
            "text/plain": [
              "numpy.ndarray"
            ]
          },
          "metadata": {
            "tags": []
          },
          "execution_count": 31
        }
      ]
    },
    {
      "cell_type": "code",
      "metadata": {
        "colab": {
          "base_uri": "https://localhost:8080/"
        },
        "id": "uJxo_8BjCtoK",
        "outputId": "0ddfc234-c059-45da-b47a-bfbbadefbc7d"
      },
      "source": [
        "# Visualiza a variável\n",
        "target"
      ],
      "execution_count": 32,
      "outputs": [
        {
          "output_type": "execute_result",
          "data": {
            "text/plain": [
              "array([0, 0, 0, 0, 0, 0, 0, 0, 0, 0, 0, 0, 0, 0, 0, 0, 0, 0, 0, 1, 1, 1,\n",
              "       0, 0, 0, 0, 0, 0, 0, 0, 0, 0, 0, 0, 0, 0, 0, 1, 0, 0, 0, 0, 0, 0,\n",
              "       0, 0, 1, 0, 1, 1, 1, 1, 1, 0, 0, 1, 0, 0, 1, 1, 1, 1, 0, 1, 0, 0,\n",
              "       1, 1, 1, 1, 0, 1, 0, 0, 1, 0, 1, 0, 0, 1, 1, 1, 0, 0, 1, 0, 0, 0,\n",
              "       1, 1, 1, 0, 1, 1, 0, 0, 1, 1, 1, 0, 0, 1, 1, 1, 1, 0, 1, 1, 0, 1,\n",
              "       1, 1, 1, 1, 1, 1, 1, 0, 0, 0, 1, 0, 0, 1, 1, 1, 0, 0, 1, 0, 1, 0,\n",
              "       0, 1, 0, 0, 1, 1, 0, 1, 1, 0, 1, 1, 1, 1, 0, 1, 1, 1, 1, 1, 1, 1,\n",
              "       1, 1, 0, 1, 1, 1, 1, 0, 0, 1, 0, 1, 1, 0, 0, 1, 1, 0, 0, 1, 1, 1,\n",
              "       1, 0, 1, 1, 0, 0, 0, 1, 0, 1, 0, 1, 1, 1, 0, 1, 1, 0, 0, 1, 0, 0,\n",
              "       0, 0, 1, 0, 0, 0, 1, 0, 1, 0, 1, 1, 0, 1, 0, 0, 0, 0, 1, 1, 0, 0,\n",
              "       1, 1, 1, 0, 1, 1, 1, 1, 1, 0, 0, 1, 1, 0, 1, 1, 0, 0, 1, 0, 1, 1,\n",
              "       1, 1, 0, 1, 1, 1, 1, 1, 0, 1, 0, 0, 0, 0, 0, 0, 0, 0, 0, 0, 0, 0,\n",
              "       0, 0, 1, 1, 1, 1, 1, 1, 0, 1, 0, 1, 1, 0, 1, 1, 0, 1, 0, 0, 1, 1,\n",
              "       1, 1, 1, 1, 1, 1, 1, 1, 1, 1, 1, 0, 1, 1, 0, 1, 0, 1, 1, 1, 1, 1,\n",
              "       1, 1, 1, 1, 1, 1, 1, 1, 1, 0, 1, 1, 1, 0, 1, 0, 1, 1, 1, 1, 0, 0,\n",
              "       0, 1, 1, 1, 1, 0, 1, 0, 1, 0, 1, 1, 1, 0, 1, 1, 1, 1, 1, 1, 1, 0,\n",
              "       0, 0, 1, 1, 1, 1, 1, 1, 1, 1, 1, 1, 1, 0, 0, 1, 0, 0, 0, 1, 0, 0,\n",
              "       1, 1, 1, 1, 1, 0, 1, 1, 1, 1, 1, 0, 1, 1, 1, 0, 1, 1, 0, 0, 1, 1,\n",
              "       1, 1, 1, 1, 0, 1, 1, 1, 1, 1, 1, 1, 0, 1, 1, 1, 1, 1, 0, 1, 1, 0,\n",
              "       1, 1, 1, 1, 1, 1, 1, 1, 1, 1, 1, 1, 0, 1, 0, 0, 1, 0, 1, 1, 1, 1,\n",
              "       1, 0, 1, 1, 0, 1, 0, 1, 1, 0, 1, 0, 1, 1, 1, 1, 1, 1, 1, 1, 0, 0,\n",
              "       1, 1, 1, 1, 1, 1, 0, 1, 1, 1, 1, 1, 1, 1, 1, 1, 1, 0, 1, 1, 1, 1,\n",
              "       1, 1, 1, 0, 1, 0, 1, 1, 0, 1, 1, 1, 1, 1, 0, 0, 1, 0, 1, 0, 1, 1,\n",
              "       1, 1, 1, 0, 1, 1, 0, 1, 0, 1, 0, 0, 1, 1, 1, 0, 1, 1, 1, 1, 1, 1,\n",
              "       1, 1, 1, 1, 1, 0, 1, 0, 0, 1, 1, 1, 1, 1, 1, 1, 1, 1, 1, 1, 1, 1,\n",
              "       1, 1, 1, 1, 1, 1, 1, 1, 1, 1, 1, 1, 0, 0, 0, 0, 0, 0, 1])"
            ]
          },
          "metadata": {
            "tags": []
          },
          "execution_count": 32
        }
      ]
    },
    {
      "cell_type": "code",
      "metadata": {
        "colab": {
          "base_uri": "https://localhost:8080/"
        },
        "id": "TfOyMiX4CtoL",
        "outputId": "3e67f83a-301d-442a-a6a4-e61acea09d6e"
      },
      "source": [
        "# Total de registros por classe - Câncer Benigno\n",
        "np.count_nonzero(target == 1)"
      ],
      "execution_count": 33,
      "outputs": [
        {
          "output_type": "execute_result",
          "data": {
            "text/plain": [
              "357"
            ]
          },
          "metadata": {
            "tags": []
          },
          "execution_count": 33
        }
      ]
    },
    {
      "cell_type": "code",
      "metadata": {
        "colab": {
          "base_uri": "https://localhost:8080/"
        },
        "id": "qeKoDb4ICtoM",
        "outputId": "77a496c8-53dd-4fa8-9af5-595d23801cb9"
      },
      "source": [
        "# Total de registros por classe - Câncer Maligno\n",
        "np.count_nonzero(target == 0)"
      ],
      "execution_count": 34,
      "outputs": [
        {
          "output_type": "execute_result",
          "data": {
            "text/plain": [
              "212"
            ]
          },
          "metadata": {
            "tags": []
          },
          "execution_count": 34
        }
      ]
    },
    {
      "cell_type": "code",
      "metadata": {
        "id": "sH-ffxVjCtoN"
      },
      "source": [
        "# Vamos extrair os labels\n",
        "\n",
        "# Dicionário para os labels\n",
        "labels = {}\n",
        "\n",
        "# Nomes das classes da variável target\n",
        "target_names = load_breast_cancer()[\"target_names\"]\n",
        "\n",
        "# Mapeamento\n",
        "for i in range(len(target_names)):\n",
        "    labels.update({i:target_names[i]})"
      ],
      "execution_count": 35,
      "outputs": []
    },
    {
      "cell_type": "code",
      "metadata": {
        "colab": {
          "base_uri": "https://localhost:8080/"
        },
        "id": "udQwPjyZCtoO",
        "outputId": "87721447-532d-40a0-d7e5-e6544dec3dbd"
      },
      "source": [
        "# Visualiza os labels\n",
        "labels"
      ],
      "execution_count": 36,
      "outputs": [
        {
          "output_type": "execute_result",
          "data": {
            "text/plain": [
              "{0: 'malignant', 1: 'benign'}"
            ]
          },
          "metadata": {
            "tags": []
          },
          "execution_count": 36
        }
      ]
    },
    {
      "cell_type": "code",
      "metadata": {
        "id": "AhXbahYICtoO"
      },
      "source": [
        "# Agora preparamos as variáveis preditoras em X\n",
        "X = np.array(dados)"
      ],
      "execution_count": 37,
      "outputs": []
    },
    {
      "cell_type": "code",
      "metadata": {
        "colab": {
          "base_uri": "https://localhost:8080/"
        },
        "id": "LBLL_9DLCtoP",
        "outputId": "3afeaaf9-cdf2-4c93-9bb9-83dc019a1c03"
      },
      "source": [
        "# Visualiza os dados de entrada\n",
        "X"
      ],
      "execution_count": 38,
      "outputs": [
        {
          "output_type": "execute_result",
          "data": {
            "text/plain": [
              "array([[1.799e+01, 1.038e+01, 1.228e+02, ..., 2.654e-01, 4.601e-01,\n",
              "        1.189e-01],\n",
              "       [2.057e+01, 1.777e+01, 1.329e+02, ..., 1.860e-01, 2.750e-01,\n",
              "        8.902e-02],\n",
              "       [1.969e+01, 2.125e+01, 1.300e+02, ..., 2.430e-01, 3.613e-01,\n",
              "        8.758e-02],\n",
              "       ...,\n",
              "       [1.660e+01, 2.808e+01, 1.083e+02, ..., 1.418e-01, 2.218e-01,\n",
              "        7.820e-02],\n",
              "       [2.060e+01, 2.933e+01, 1.401e+02, ..., 2.650e-01, 4.087e-01,\n",
              "        1.240e-01],\n",
              "       [7.760e+00, 2.454e+01, 4.792e+01, ..., 0.000e+00, 2.871e-01,\n",
              "        7.039e-02]])"
            ]
          },
          "metadata": {
            "tags": []
          },
          "execution_count": 38
        }
      ]
    },
    {
      "cell_type": "code",
      "metadata": {
        "id": "hPGWQO8BCtoQ"
      },
      "source": [
        "# Dividimos os dados de entrada e saída em treino e teste\n",
        "X_treino, X_teste, y_treino, y_teste = train_test_split(X, target, test_size = 0.15, shuffle = True)"
      ],
      "execution_count": 39,
      "outputs": []
    },
    {
      "cell_type": "code",
      "metadata": {
        "colab": {
          "base_uri": "https://localhost:8080/"
        },
        "id": "-sI46UPWCtoQ",
        "outputId": "7942ee6e-52b5-421b-e7f0-a9090c32e6ac"
      },
      "source": [
        "# Shape dos dados de treino\n",
        "print(X_treino.shape)\n",
        "print(y_treino.shape)"
      ],
      "execution_count": 40,
      "outputs": [
        {
          "output_type": "stream",
          "text": [
            "(483, 30)\n",
            "(483,)\n"
          ],
          "name": "stdout"
        }
      ]
    },
    {
      "cell_type": "code",
      "metadata": {
        "colab": {
          "base_uri": "https://localhost:8080/"
        },
        "id": "qjUdP2OBCtoR",
        "outputId": "43634c09-ebd0-49b3-9a2f-2deb70cf3834"
      },
      "source": [
        "# Shape dos dados de teste\n",
        "print(X_teste.shape)\n",
        "print(y_teste.shape)"
      ],
      "execution_count": 41,
      "outputs": [
        {
          "output_type": "stream",
          "text": [
            "(86, 30)\n",
            "(86,)\n"
          ],
          "name": "stdout"
        }
      ]
    },
    {
      "cell_type": "code",
      "metadata": {
        "id": "HmgoI2s-CtoS"
      },
      "source": [
        "# Ajusta o shape dos dados de entrada\n",
        "X_treino = X_treino.T\n",
        "X_teste = X_teste.T"
      ],
      "execution_count": 42,
      "outputs": []
    },
    {
      "cell_type": "code",
      "metadata": {
        "colab": {
          "base_uri": "https://localhost:8080/"
        },
        "id": "z-8VTzXKCtoS",
        "outputId": "ba45770f-e8e0-490b-d0df-43ec3f067782"
      },
      "source": [
        "print(X_treino.shape)\n",
        "print(X_teste.shape)"
      ],
      "execution_count": 43,
      "outputs": [
        {
          "output_type": "stream",
          "text": [
            "(30, 483)\n",
            "(30, 86)\n"
          ],
          "name": "stdout"
        }
      ]
    },
    {
      "cell_type": "code",
      "metadata": {
        "id": "krK5YwNRCtoT"
      },
      "source": [
        "# Precisamos ajustar também os dados de saída\n",
        "y_treino = y_treino.reshape(1, len(y_treino))\n",
        "y_teste = y_teste.reshape(1, len(y_teste))"
      ],
      "execution_count": 44,
      "outputs": []
    },
    {
      "cell_type": "code",
      "metadata": {
        "colab": {
          "base_uri": "https://localhost:8080/"
        },
        "id": "dBSWaoJICtoU",
        "outputId": "bf3de3e6-1975-4c05-c272-e47f9ae1c0d4"
      },
      "source": [
        "print(y_treino.shape)\n",
        "print(y_teste.shape)"
      ],
      "execution_count": 45,
      "outputs": [
        {
          "output_type": "stream",
          "text": [
            "(1, 483)\n",
            "(1, 86)\n"
          ],
          "name": "stdout"
        }
      ]
    },
    {
      "cell_type": "code",
      "metadata": {
        "id": "1Z1nzfvcCtoU"
      },
      "source": [
        "# Variável com as dimensões de entrada para oo número de neurônios \n",
        "dims_camada_entrada = [X_treino.shape[0], 50, 20, 5, 1]"
      ],
      "execution_count": 46,
      "outputs": []
    },
    {
      "cell_type": "code",
      "metadata": {
        "colab": {
          "base_uri": "https://localhost:8080/"
        },
        "id": "87nDw3HhCtoV",
        "outputId": "e3bbefab-4f97-45a9-85e1-00c5a24052e1"
      },
      "source": [
        "dims_camada_entrada"
      ],
      "execution_count": 47,
      "outputs": [
        {
          "output_type": "execute_result",
          "data": {
            "text/plain": [
              "[30, 50, 20, 5, 1]"
            ]
          },
          "metadata": {
            "tags": []
          },
          "execution_count": 47
        }
      ]
    },
    {
      "cell_type": "code",
      "metadata": {
        "colab": {
          "base_uri": "https://localhost:8080/"
        },
        "id": "wE5y4Lj1CtoV",
        "outputId": "2eb04789-6e61-4fb0-a086-f8b50a5b55d2"
      },
      "source": [
        "# Treinamento do modelo\n",
        "\n",
        "print(\"\\nIniciando o Treinamento.\\n\")\n",
        "\n",
        "parametros, custo = modeloNN(X = X_treino, \n",
        "                             Y = y_treino, \n",
        "                             dims_camada_entrada = dims_camada_entrada, \n",
        "                             num_iterations = 3000, \n",
        "                             learning_rate = 0.0075)\n",
        "\n",
        "print(\"\\nTreinamento Concluído.\\n\")"
      ],
      "execution_count": 48,
      "outputs": [
        {
          "output_type": "stream",
          "text": [
            "\n",
            "Iniciando o Treinamento.\n",
            "\n",
            "Custo Após 0 iterações é 0.6931409869443754\n",
            "Custo Após 10 iterações é 0.6919840286028295\n",
            "Custo Após 20 iterações é 0.6908697317900994\n",
            "Custo Após 30 iterações é 0.6897964459088936\n",
            "Custo Após 40 iterações é 0.6887626340731454\n",
            "Custo Após 50 iterações é 0.6877668331900305\n",
            "Custo Após 60 iterações é 0.6868076258205412\n",
            "Custo Após 70 iterações é 0.6858836750262063\n",
            "Custo Após 80 iterações é 0.6849936628703465\n",
            "Custo Após 90 iterações é 0.6841363254665163\n",
            "Custo Após 100 iterações é 0.6833104414426161\n",
            "Custo Após 110 iterações é 0.6825148423835972\n",
            "Custo Após 120 iterações é 0.6817483988369774\n",
            "Custo Após 130 iterações é 0.6810100205942299\n",
            "Custo Após 140 iterações é 0.6802986602976214\n",
            "Custo Após 150 iterações é 0.6796133144541295\n",
            "Custo Após 160 iterações é 0.6789530080244517\n",
            "Custo Após 170 iterações é 0.6783168016884865\n",
            "Custo Após 180 iterações é 0.6777037929069932\n",
            "Custo Após 190 iterações é 0.6771131156731821\n",
            "Custo Após 200 iterações é 0.6765439331814208\n",
            "Custo Após 210 iterações é 0.675995434538968\n",
            "Custo Após 220 iterações é 0.675466840711206\n",
            "Custo Após 230 iterações é 0.6749573994880741\n",
            "Custo Após 240 iterações é 0.6744663902511967\n",
            "Custo Após 250 iterações é 0.6739931143268488\n",
            "Custo Após 260 iterações é 0.6735368973648528\n",
            "Custo Após 270 iterações é 0.6730970923005138\n",
            "Custo Após 280 iterações é 0.6726730707153278\n",
            "Custo Após 290 iterações é 0.6722642293693836\n",
            "Custo Após 300 iterações é 0.6718699837604245\n",
            "Custo Após 310 iterações é 0.6714897688862208\n",
            "Custo Após 320 iterações é 0.6711230399150168\n",
            "Custo Após 330 iterações é 0.6707692669189941\n",
            "Custo Após 340 iterações é 0.6704279381032032\n",
            "Custo Após 350 iterações é 0.6700985565173234\n",
            "Custo Após 360 iterações é 0.669780641480454\n",
            "Custo Após 370 iterações é 0.6694737233459929\n",
            "Custo Após 380 iterações é 0.6691773449693681\n",
            "Custo Após 390 iterações é 0.6688910596828328\n",
            "Custo Após 400 iterações é 0.6686144306425024\n",
            "Custo Após 410 iterações é 0.6683470349331949\n",
            "Custo Após 420 iterações é 0.6680884447489678\n",
            "Custo Após 430 iterações é 0.6678382393303055\n",
            "Custo Após 440 iterações é 0.6675960133535472\n",
            "Custo Após 450 iterações é 0.6673613333420974\n",
            "Custo Após 460 iterações é 0.6671337585515354\n",
            "Custo Após 470 iterações é 0.6669128283867864\n",
            "Custo Após 480 iterações é 0.6666977837997434\n",
            "Custo Após 490 iterações é 0.6664881387194608\n",
            "Custo Após 500 iterações é 0.6662835735467383\n",
            "Custo Após 510 iterações é 0.6660835573651686\n",
            "Custo Após 520 iterações é 0.6658876198172887\n",
            "Custo Após 530 iterações é 0.6656951353587724\n",
            "Custo Após 540 iterações é 0.6655053986477464\n",
            "Custo Após 550 iterações é 0.6653176070069401\n",
            "Custo Após 560 iterações é 0.6651308294694613\n",
            "Custo Após 570 iterações é 0.6649439716541355\n",
            "Custo Após 580 iterações é 0.6647556941710793\n",
            "Custo Após 590 iterações é 0.6645643472757417\n",
            "Custo Após 600 iterações é 0.6643678973674009\n",
            "Custo Após 610 iterações é 0.6641636186988664\n",
            "Custo Após 620 iterações é 0.6639477649846162\n",
            "Custo Após 630 iterações é 0.6637163317717656\n",
            "Custo Após 640 iterações é 0.6634653065871123\n",
            "Custo Após 650 iterações é 0.6631869838302535\n",
            "Custo Após 660 iterações é 0.6628709500549245\n",
            "Custo Após 670 iterações é 0.6625027004188895\n",
            "Custo Após 680 iterações é 0.6620614562803285\n",
            "Custo Após 690 iterações é 0.6615151890160812\n",
            "Custo Após 700 iterações é 0.6608136060077232\n",
            "Custo Após 710 iterações é 0.6598755597397437\n",
            "Custo Após 720 iterações é 0.6585650559946085\n",
            "Custo Após 730 iterações é 0.6566451437056637\n",
            "Custo Após 740 iterações é 0.653691753865743\n",
            "Custo Após 750 iterações é 0.6489347710264034\n",
            "Custo Após 760 iterações é 0.6411670107295625\n",
            "Custo Após 770 iterações é 0.6296358054471064\n",
            "Custo Após 780 iterações é 0.6175301554778314\n",
            "Custo Após 790 iterações é 0.6105571924249412\n",
            "Custo Após 800 iterações é 0.6072519436487351\n",
            "Custo Após 810 iterações é 0.6046773205669109\n",
            "Custo Após 820 iterações é 0.6021606949793888\n",
            "Custo Após 830 iterações é 0.5996308629395917\n",
            "Custo Após 840 iterações é 0.597077521993202\n",
            "Custo Após 850 iterações é 0.5944948280589812\n",
            "Custo Após 860 iterações é 0.5918765607759364\n",
            "Custo Após 870 iterações é 0.5892147286197739\n",
            "Custo Após 880 iterações é 0.5865000780356965\n",
            "Custo Após 890 iterações é 0.5837210998041846\n",
            "Custo Após 900 iterações é 0.580863521989844\n",
            "Custo Após 910 iterações é 0.5779094287852851\n",
            "Custo Após 920 iterações é 0.5748352349559216\n",
            "Custo Após 930 iterações é 0.5716113859430666\n",
            "Custo Após 940 iterações é 0.5681975123343401\n",
            "Custo Após 950 iterações é 0.5645402671430236\n",
            "Custo Após 960 iterações é 0.5605668532297611\n",
            "Custo Após 970 iterações é 0.5561766805428014\n",
            "Custo Após 980 iterações é 0.5512288087879548\n",
            "Custo Após 990 iterações é 0.545524278510058\n",
            "Custo Após 1000 iterações é 0.5387856528956247\n",
            "Custo Após 1010 iterações é 0.5306270212397605\n",
            "Custo Após 1020 iterações é 0.5205131981915928\n",
            "Custo Após 1030 iterações é 0.5077850009791298\n",
            "Custo Após 1040 iterações é 0.4918014311421666\n",
            "Custo Após 1050 iterações é 0.4725257068490949\n",
            "Custo Após 1060 iterações é 0.4516424468274373\n",
            "Custo Após 1070 iterações é 0.43278951088964535\n",
            "Custo Após 1080 iterações é 0.49327043598846704\n",
            "Custo Após 1090 iterações é 0.468267161983958\n",
            "Custo Após 1100 iterações é 0.45666074954940084\n",
            "Custo Após 1110 iterações é 0.454696251335178\n",
            "Custo Após 1120 iterações é 0.45038642660010997\n",
            "Custo Após 1130 iterações é 0.4445465869609273\n",
            "Custo Após 1140 iterações é 0.4411048785321028\n",
            "Custo Após 1150 iterações é 0.4418006379766275\n",
            "Custo Após 1160 iterações é 0.4360713183090146\n",
            "Custo Após 1170 iterações é 0.43267318511021674\n",
            "Custo Após 1180 iterações é 0.42644907135217897\n",
            "Custo Após 1190 iterações é 0.4209868632478628\n",
            "Custo Após 1200 iterações é 0.4150310140529394\n",
            "Custo Após 1210 iterações é 0.4076786378132772\n",
            "Custo Após 1220 iterações é 0.4042011976320337\n",
            "Custo Após 1230 iterações é 0.3986452971645126\n",
            "Custo Após 1240 iterações é 0.3923683737719015\n",
            "Custo Após 1250 iterações é 0.3928795095540866\n",
            "Custo Após 1260 iterações é 0.38738823596604477\n",
            "Custo Após 1270 iterações é 0.38816346629913334\n",
            "Custo Após 1280 iterações é 0.3824217870060469\n",
            "Custo Após 1290 iterações é 0.37624017024141004\n",
            "Custo Após 1300 iterações é 0.3795330551040344\n",
            "Custo Após 1310 iterações é 0.3755459844731533\n",
            "Custo Após 1320 iterações é 0.3673563808828446\n",
            "Custo Após 1330 iterações é 0.36962114281979375\n",
            "Custo Após 1340 iterações é 0.3635964960333305\n",
            "Custo Após 1350 iterações é 0.36215369940503067\n",
            "Custo Após 1360 iterações é 0.3614963935046593\n",
            "Custo Após 1370 iterações é 0.35991723794364644\n",
            "Custo Após 1380 iterações é 0.3568244502687258\n",
            "Custo Após 1390 iterações é 0.3545827801754897\n",
            "Custo Após 1400 iterações é 0.35137779320525775\n",
            "Custo Após 1410 iterações é 0.34741037695181576\n",
            "Custo Após 1420 iterações é 0.3458893637029869\n",
            "Custo Após 1430 iterações é 0.34507478957112847\n",
            "Custo Após 1440 iterações é 0.3431665700698516\n",
            "Custo Após 1450 iterações é 0.34219730748198474\n",
            "Custo Após 1460 iterações é 0.3411212912524741\n",
            "Custo Após 1470 iterações é 0.3382010041013841\n",
            "Custo Após 1480 iterações é 0.3353467322398648\n",
            "Custo Após 1490 iterações é 0.33372323409203636\n",
            "Custo Após 1500 iterações é 0.3355604096012192\n",
            "Custo Após 1510 iterações é 0.32839331853505405\n",
            "Custo Após 1520 iterações é 0.32867139742627643\n",
            "Custo Após 1530 iterações é 0.3289125228035394\n",
            "Custo Após 1540 iterações é 0.32585400166218687\n",
            "Custo Após 1550 iterações é 0.3278735023605789\n",
            "Custo Após 1560 iterações é 0.3262695477548655\n",
            "Custo Após 1570 iterações é 0.32166604703422397\n",
            "Custo Após 1580 iterações é 0.3257207932127831\n",
            "Custo Após 1590 iterações é 0.3257128182865802\n",
            "Custo Após 1600 iterações é 0.31897133726048077\n",
            "Custo Após 1610 iterações é 0.3160852445877301\n",
            "Custo Após 1620 iterações é 0.31849632080023393\n",
            "Custo Após 1630 iterações é 0.31651525156462845\n",
            "Custo Após 1640 iterações é 0.3140406810305853\n",
            "Custo Após 1650 iterações é 0.3137690470206297\n",
            "Custo Após 1660 iterações é 0.31306847387271586\n",
            "Custo Após 1670 iterações é 0.3107475398192076\n",
            "Custo Após 1680 iterações é 0.31305296314504044\n",
            "Custo Após 1690 iterações é 0.30914120997534517\n",
            "Custo Após 1700 iterações é 0.3085458987718397\n",
            "Custo Após 1710 iterações é 0.30500049244425015\n",
            "Custo Após 1720 iterações é 0.30510303766460806\n",
            "Custo Após 1730 iterações é 0.304891407137364\n",
            "Custo Após 1740 iterações é 0.3023282589809407\n",
            "Custo Após 1750 iterações é 0.2950239768607211\n",
            "Custo Após 1760 iterações é 0.28388829894591416\n",
            "Custo Após 1770 iterações é 0.283508811439488\n",
            "Custo Após 1780 iterações é 0.282082336473151\n",
            "Custo Após 1790 iterações é 0.28172921328935013\n",
            "Custo Após 1800 iterações é 0.28066792737248664\n",
            "Custo Após 1810 iterações é 0.2817098196598125\n",
            "Custo Após 1820 iterações é 0.28130766362968207\n",
            "Custo Após 1830 iterações é 0.28120840208142506\n",
            "Custo Após 1840 iterações é 0.2802928232505787\n",
            "Custo Após 1850 iterações é 0.2787288633575816\n",
            "Custo Após 1860 iterações é 0.2789825270011245\n",
            "Custo Após 1870 iterações é 0.2787856762704275\n",
            "Custo Após 1880 iterações é 0.28418032323590603\n",
            "Custo Após 1890 iterações é 0.28787761424181096\n",
            "Custo Após 1900 iterações é 0.2862620142895469\n",
            "Custo Após 1910 iterações é 0.282725273771826\n",
            "Custo Após 1920 iterações é 0.284139176195044\n",
            "Custo Após 1930 iterações é 0.28364759114411875\n",
            "Custo Após 1940 iterações é 0.278643002516164\n",
            "Custo Após 1950 iterações é 0.26857575221647967\n",
            "Custo Após 1960 iterações é 0.26781274341069256\n",
            "Custo Após 1970 iterações é 0.26933624767989767\n",
            "Custo Após 1980 iterações é 0.2704489612396139\n",
            "Custo Após 1990 iterações é 0.2736728936906023\n",
            "Custo Após 2000 iterações é 0.27943904276804127\n",
            "Custo Após 2010 iterações é 0.27925596654844104\n",
            "Custo Após 2020 iterações é 0.2775285767594075\n",
            "Custo Após 2030 iterações é 0.2757143142206849\n",
            "Custo Após 2040 iterações é 0.273443644659006\n",
            "Custo Após 2050 iterações é 0.2733989519737376\n",
            "Custo Após 2060 iterações é 0.2733247490863079\n",
            "Custo Após 2070 iterações é 0.2729296003612927\n",
            "Custo Após 2080 iterações é 0.2723855567111907\n",
            "Custo Após 2090 iterações é 0.2729159012275369\n",
            "Custo Após 2100 iterações é 0.2716960611709768\n",
            "Custo Após 2110 iterações é 0.27140028087171286\n",
            "Custo Após 2120 iterações é 0.2734921567671882\n",
            "Custo Após 2130 iterações é 0.27103121783976264\n",
            "Custo Após 2140 iterações é 0.26899274037256615\n",
            "Custo Após 2150 iterações é 0.25916861152605214\n",
            "Custo Após 2160 iterações é 0.2559544492866517\n",
            "Custo Após 2170 iterações é 0.2552307749954515\n",
            "Custo Após 2180 iterações é 0.2554845495313841\n",
            "Custo Após 2190 iterações é 0.2550512844932397\n",
            "Custo Após 2200 iterações é 0.2547981289411129\n",
            "Custo Após 2210 iterações é 0.25549204865280906\n",
            "Custo Após 2220 iterações é 0.25516506190125887\n",
            "Custo Após 2230 iterações é 0.25787068719588313\n",
            "Custo Após 2240 iterações é 0.266178026912917\n",
            "Custo Após 2250 iterações é 0.26502338285721105\n",
            "Custo Após 2260 iterações é 0.2588134354646185\n",
            "Custo Após 2270 iterações é 0.259565127813142\n",
            "Custo Após 2280 iterações é 0.2582141009003694\n",
            "Custo Após 2290 iterações é 0.2582793119173472\n",
            "Custo Após 2300 iterações é 0.2585251418700259\n",
            "Custo Após 2310 iterações é 0.25791632128394276\n",
            "Custo Após 2320 iterações é 0.25829522113356673\n",
            "Custo Após 2330 iterações é 0.2569013079158541\n",
            "Custo Após 2340 iterações é 0.2568197024990739\n",
            "Custo Após 2350 iterações é 0.25617512313093943\n",
            "Custo Após 2360 iterações é 0.25503235042406425\n",
            "Custo Após 2370 iterações é 0.2540585457827721\n",
            "Custo Após 2380 iterações é 0.25302354996849274\n",
            "Custo Após 2390 iterações é 0.2512788959540865\n",
            "Custo Após 2400 iterações é 0.2480580726339094\n",
            "Custo Após 2410 iterações é 0.24621285592717493\n",
            "Custo Após 2420 iterações é 0.2474247939221329\n",
            "Custo Após 2430 iterações é 0.24847277506442347\n",
            "Custo Após 2440 iterações é 0.2525711059092344\n",
            "Custo Após 2450 iterações é 0.24761847740644252\n",
            "Custo Após 2460 iterações é 0.24553663135033138\n",
            "Custo Após 2470 iterações é 0.2503201559224544\n",
            "Custo Após 2480 iterações é 0.24670836239875546\n",
            "Custo Após 2490 iterações é 0.24690807636700268\n",
            "Custo Após 2500 iterações é 0.24665164336366818\n",
            "Custo Após 2510 iterações é 0.24601302132927455\n",
            "Custo Após 2520 iterações é 0.24667396694498114\n",
            "Custo Após 2530 iterações é 0.2459582974368655\n",
            "Custo Após 2540 iterações é 0.24418398728436788\n",
            "Custo Após 2550 iterações é 0.2445141495645752\n",
            "Custo Após 2560 iterações é 0.24421955659886677\n",
            "Custo Após 2570 iterações é 0.24097132715794667\n",
            "Custo Após 2580 iterações é 0.24678410137293938\n",
            "Custo Após 2590 iterações é 0.24391389214127301\n",
            "Custo Após 2600 iterações é 0.24017215373647458\n",
            "Custo Após 2610 iterações é 0.24485946827314234\n",
            "Custo Após 2620 iterações é 0.24628109694046238\n",
            "Custo Após 2630 iterações é 0.25072309171692686\n",
            "Custo Após 2640 iterações é 0.24753138763970134\n",
            "Custo Após 2650 iterações é 0.2477211481041529\n",
            "Custo Após 2660 iterações é 0.2483504071225207\n",
            "Custo Após 2670 iterações é 0.2477789306146119\n",
            "Custo Após 2680 iterações é 0.2434242756459665\n",
            "Custo Após 2690 iterações é 0.2362905429470157\n",
            "Custo Após 2700 iterações é 0.2368400673471885\n",
            "Custo Após 2710 iterações é 0.24032772195832902\n",
            "Custo Após 2720 iterações é 0.23823442598611275\n",
            "Custo Após 2730 iterações é 0.2356328459574113\n",
            "Custo Após 2740 iterações é 0.23528355800143716\n",
            "Custo Após 2750 iterações é 0.24060894094702925\n",
            "Custo Após 2760 iterações é 0.24025464456630974\n",
            "Custo Após 2770 iterações é 0.23913454263038614\n",
            "Custo Após 2780 iterações é 0.23850369562655022\n",
            "Custo Após 2790 iterações é 0.23940328002773054\n",
            "Custo Após 2800 iterações é 0.23915657833268916\n",
            "Custo Após 2810 iterações é 0.24313129418638146\n",
            "Custo Após 2820 iterações é 0.2395799254724906\n",
            "Custo Após 2830 iterações é 0.24189742128136107\n",
            "Custo Após 2840 iterações é 0.24258926465613448\n",
            "Custo Após 2850 iterações é 0.2410426870508549\n",
            "Custo Após 2860 iterações é 0.2437108225673687\n",
            "Custo Após 2870 iterações é 0.2419266655312476\n",
            "Custo Após 2880 iterações é 0.23809521826637875\n",
            "Custo Após 2890 iterações é 0.23043221822567417\n",
            "Custo Após 2900 iterações é 0.22825448646553473\n",
            "Custo Após 2910 iterações é 0.22817062152706447\n",
            "Custo Após 2920 iterações é 0.22774636929886566\n",
            "Custo Após 2930 iterações é 0.22744128913490194\n",
            "Custo Após 2940 iterações é 0.227126282052014\n",
            "Custo Após 2950 iterações é 0.22694500792882658\n",
            "Custo Após 2960 iterações é 0.2266509927122473\n",
            "Custo Após 2970 iterações é 0.22625962022302706\n",
            "Custo Após 2980 iterações é 0.2257438376539009\n",
            "Custo Após 2990 iterações é 0.2253814261007301\n",
            "\n",
            "Treinamento Concluído.\n",
            "\n"
          ],
          "name": "stdout"
        }
      ]
    },
    {
      "cell_type": "code",
      "metadata": {
        "colab": {
          "base_uri": "https://localhost:8080/",
          "height": 282
        },
        "id": "oykEWzoXCtoW",
        "outputId": "5dfc86dc-041e-4ec3-90a9-1caeff0fa39e"
      },
      "source": [
        "# Plot do erro durante o treinamento\n",
        "plt.plot(custo)"
      ],
      "execution_count": 49,
      "outputs": [
        {
          "output_type": "execute_result",
          "data": {
            "text/plain": [
              "[<matplotlib.lines.Line2D at 0x7f91b3d179d0>]"
            ]
          },
          "metadata": {
            "tags": []
          },
          "execution_count": 49
        },
        {
          "output_type": "display_data",
          "data": {
            "image/png": "[encoded data removed]",
            "text/plain": [
              "<Figure size 432x288 with 1 Axes>"
            ]
          },
          "metadata": {
            "tags": [],
            "needs_background": "light"
          }
        }
      ]
    },
    {
      "cell_type": "code",
      "metadata": {
        "id": "6sxoik6ACtoW"
      },
      "source": [
        "# Previsões com os dados de treino\n",
        "y_pred_treino = predict(X_treino, parametros)"
      ],
      "execution_count": 50,
      "outputs": []
    },
    {
      "cell_type": "code",
      "metadata": {
        "colab": {
          "base_uri": "https://localhost:8080/"
        },
        "id": "6tZZxEh5CtoX",
        "outputId": "76dee876-0a83-42cd-d1f1-9d69062fec12"
      },
      "source": [
        "# Visualiza as previsões\n",
        "y_pred_treino"
      ],
      "execution_count": 51,
      "outputs": [
        {
          "output_type": "execute_result",
          "data": {
            "text/plain": [
              "array([[1.35204968e-02, 8.71346403e-01, 8.74830627e-01, 6.90627538e-01,\n",
              "        8.74831077e-01, 8.74830726e-01, 2.04394466e-02, 8.74830689e-01,\n",
              "        8.74830837e-01, 5.03071184e-02, 8.54695517e-06, 3.22858253e-05,\n",
              "        8.74830813e-01, 3.06114128e-02, 8.74828628e-01, 8.74830725e-01,\n",
              "        2.67422610e-06, 3.62745563e-03, 9.35807003e-02, 7.09332317e-01,\n",
              "        4.71185230e-09, 1.18148110e-01, 8.16315458e-01, 1.41909032e-09,\n",
              "        8.07587459e-01, 1.50305939e-15, 8.74831062e-01, 1.05455165e-05,\n",
              "        8.74830515e-01, 8.05385551e-01, 7.11309223e-05, 8.74830684e-01,\n",
              "        8.23619720e-05, 2.70140617e-01, 8.74830601e-01, 1.74213995e-03,\n",
              "        8.74830589e-01, 8.71781394e-01, 8.74830668e-01, 8.54869119e-01,\n",
              "        1.67520162e-06, 1.11529172e-08, 8.43705928e-02, 8.74828521e-01,\n",
              "        7.32282928e-01, 8.74829570e-01, 5.70478314e-06, 7.05002462e-01,\n",
              "        9.09152062e-06, 8.74830736e-01, 8.74830602e-01, 8.74830841e-01,\n",
              "        7.52430295e-01, 5.08866232e-01, 5.67054899e-01, 4.09667742e-01,\n",
              "        1.68715424e-14, 6.99239228e-01, 8.74830778e-01, 3.62530433e-07,\n",
              "        8.74830800e-01, 8.74151367e-01, 8.74830640e-01, 3.04286426e-01,\n",
              "        1.28296371e-01, 8.74830688e-01, 4.13567106e-05, 8.15254691e-01,\n",
              "        8.74831109e-01, 8.74830507e-01, 8.69727570e-01, 3.35330720e-03,\n",
              "        8.74830920e-01, 8.74830911e-01, 5.74354903e-01, 8.74830549e-01,\n",
              "        8.74830491e-01, 5.21885716e-02, 1.36131044e-05, 2.79238784e-01,\n",
              "        8.74831012e-01, 8.03275412e-01, 8.74828650e-01, 8.74830630e-01,\n",
              "        8.74830558e-01, 4.43391237e-01, 3.17409762e-01, 8.74830987e-01,\n",
              "        8.74830870e-01, 3.65083587e-02, 8.74829874e-01, 8.74830896e-01,\n",
              "        8.74830538e-01, 3.27589961e-12, 8.74830664e-01, 8.74830589e-01,\n",
              "        6.17357938e-06, 1.13322583e-02, 8.74830662e-01, 1.44794710e-09,\n",
              "        8.67350825e-01, 2.68127206e-04, 6.69969093e-03, 8.26671343e-01,\n",
              "        8.74830975e-01, 8.64019626e-01, 8.74830680e-01, 8.74830768e-01,\n",
              "        8.74830533e-01, 7.49739761e-01, 8.74830566e-01, 8.63598826e-01,\n",
              "        8.74830672e-01, 8.25817006e-01, 8.74830606e-01, 2.69241374e-01,\n",
              "        8.74830718e-01, 1.92620996e-01, 8.39141656e-01, 8.74830667e-01,\n",
              "        1.01703032e-16, 7.76671592e-01, 8.74830832e-01, 9.33831931e-13,\n",
              "        8.54148503e-01, 4.46700474e-08, 2.65613927e-09, 8.74830657e-01,\n",
              "        3.21562822e-01, 4.69133729e-03, 6.60104784e-17, 8.63163235e-01,\n",
              "        8.74830701e-01, 8.74830744e-01, 8.74830822e-01, 8.74830591e-01,\n",
              "        8.37773571e-01, 5.99763741e-09, 7.78866917e-01, 3.85527146e-01,\n",
              "        5.75970779e-01, 8.43706463e-01, 8.06148631e-01, 8.13252751e-01,\n",
              "        8.74830949e-01, 8.74830822e-01, 7.86537907e-01, 8.74831007e-01,\n",
              "        8.74830873e-01, 8.74830643e-01, 8.74829851e-01, 8.74830641e-01,\n",
              "        8.94819369e-09, 1.76550419e-02, 1.03110653e-02, 8.74830667e-01,\n",
              "        8.74830963e-01, 2.65081864e-07, 8.74830558e-01, 8.29983635e-01,\n",
              "        8.74830636e-01, 8.74830533e-01, 8.74830807e-01, 8.73881702e-01,\n",
              "        1.03910494e-08, 8.74830595e-01, 3.04460876e-04, 8.74830649e-01,\n",
              "        1.97482711e-04, 8.74830631e-01, 3.80878340e-02, 8.13586076e-01,\n",
              "        8.74830471e-01, 8.74830620e-01, 8.74831003e-01, 2.39124614e-07,\n",
              "        7.95601645e-01, 8.74829218e-01, 8.74830924e-01, 8.74830934e-01,\n",
              "        8.74830683e-01, 8.74830615e-01, 8.72423671e-01, 8.65002796e-01,\n",
              "        1.72268362e-15, 3.62405076e-03, 9.23914122e-05, 1.22269137e-02,\n",
              "        8.16987241e-01, 8.36460053e-01, 1.47593432e-14, 5.05364559e-08,\n",
              "        8.74830799e-01, 1.56259498e-02, 8.74830802e-01, 1.20553436e-27,\n",
              "        8.74830752e-01, 8.74826527e-01, 9.88238328e-04, 8.74830692e-01,\n",
              "        2.49771065e-04, 8.74830531e-01, 8.74830460e-01, 8.74830653e-01,\n",
              "        8.74830828e-01, 1.63871549e-04, 1.43458729e-02, 8.74830701e-01,\n",
              "        4.37084586e-05, 5.16149845e-02, 8.74830624e-01, 1.44932037e-07,\n",
              "        1.16704230e-01, 8.74829343e-01, 8.74830690e-01, 8.74830718e-01,\n",
              "        8.74830580e-01, 1.82439769e-03, 8.74830773e-01, 8.74830927e-01,\n",
              "        8.19275090e-01, 8.74830637e-01, 8.20236652e-01, 8.74830599e-01,\n",
              "        2.93740894e-01, 1.37327330e-02, 8.21169961e-02, 4.19270555e-03,\n",
              "        4.87262373e-03, 3.50864039e-01, 8.74830606e-01, 8.11020322e-01,\n",
              "        3.94269162e-03, 9.60294141e-02, 1.56639931e-03, 8.74830561e-01,\n",
              "        3.12290977e-27, 8.70991242e-01, 8.74830703e-01, 8.74830673e-01,\n",
              "        8.66055950e-01, 8.74830688e-01, 8.74830524e-01, 8.74830946e-01,\n",
              "        8.74830600e-01, 8.74830656e-01, 8.74830717e-01, 8.74830521e-01,\n",
              "        8.74830535e-01, 8.74830923e-01, 8.74830674e-01, 8.74830608e-01,\n",
              "        3.02215197e-04, 4.55137390e-10, 8.74830928e-01, 8.74830600e-01,\n",
              "        5.37609023e-05, 7.87919994e-01, 8.74830819e-01, 8.74830635e-01,\n",
              "        8.74830722e-01, 1.72962840e-05, 8.41935769e-01, 4.13050998e-02,\n",
              "        6.04089530e-01, 8.74830519e-01, 8.74828679e-01, 8.52942525e-01,\n",
              "        3.26748230e-04, 2.18218639e-07, 7.15124524e-01, 8.18834051e-01,\n",
              "        7.57560618e-01, 4.46266547e-01, 8.70175068e-01, 8.74830818e-01,\n",
              "        6.68981392e-04, 7.68402184e-03, 8.74830546e-01, 2.65183553e-08,\n",
              "        2.49218431e-01, 8.74830652e-01, 8.74830878e-01, 8.50018041e-01,\n",
              "        1.33345420e-01, 7.31440408e-02, 7.85137901e-01, 5.33750520e-06,\n",
              "        8.74830973e-01, 8.74830737e-01, 1.98775603e-05, 3.93044664e-05,\n",
              "        8.74830819e-01, 8.74830728e-01, 2.50427334e-05, 8.74830689e-01,\n",
              "        5.97271604e-01, 8.10117563e-04, 8.03555299e-01, 8.74830630e-01,\n",
              "        1.15190992e-12, 8.34582797e-01, 8.74829256e-01, 8.74830984e-01,\n",
              "        8.74830744e-01, 7.76805696e-01, 8.74830873e-01, 8.74830680e-01,\n",
              "        2.70161487e-01, 8.74826563e-01, 8.74830776e-01, 6.16801115e-01,\n",
              "        2.63684251e-11, 3.17296458e-01, 8.74830555e-01, 8.74830478e-01,\n",
              "        8.68374959e-01, 8.74830569e-01, 8.61166910e-01, 7.78446354e-02,\n",
              "        7.00085234e-01, 8.74047122e-01, 7.62400156e-01, 5.87606025e-01,\n",
              "        8.74830561e-01, 8.74830854e-01, 8.74830705e-01, 8.74830823e-01,\n",
              "        8.23469369e-01, 7.79728671e-05, 8.04632971e-04, 1.41322451e-02,\n",
              "        3.46494859e-02, 8.74830483e-01, 8.74830634e-01, 8.57712378e-01,\n",
              "        7.38330324e-01, 7.03571380e-01, 8.74830924e-01, 8.73677472e-01,\n",
              "        1.58964685e-03, 8.74830637e-01, 8.74830818e-01, 1.25621330e-04,\n",
              "        8.41272475e-01, 8.74830093e-01, 8.57439220e-01, 6.04972063e-01,\n",
              "        8.74830799e-01, 8.74830373e-01, 8.43123265e-01, 3.42722489e-01,\n",
              "        7.57289841e-02, 8.74830180e-01, 8.50503549e-01, 2.24290259e-01,\n",
              "        8.69921641e-01, 8.74830667e-01, 8.34659196e-01, 6.22252141e-05,\n",
              "        7.07874356e-01, 4.50679088e-01, 1.63139204e-02, 4.63854573e-06,\n",
              "        4.24335001e-05, 8.44532427e-01, 8.01391436e-01, 8.74830563e-01,\n",
              "        5.60903362e-01, 8.17135678e-01, 1.24537528e-01, 8.74830601e-01,\n",
              "        8.74830691e-01, 1.35979673e-08, 8.41427411e-01, 8.74830561e-01,\n",
              "        8.74332076e-01, 7.91174673e-02, 3.02386438e-03, 6.77557869e-01,\n",
              "        1.02932235e-05, 6.94772300e-01, 8.74830586e-01, 8.74830871e-01,\n",
              "        8.74830699e-01, 1.77576483e-04, 3.44413223e-02, 3.98647206e-05,\n",
              "        8.59488111e-01, 6.64039840e-01, 1.91830428e-10, 8.74830690e-01,\n",
              "        8.74830934e-01, 5.38355795e-01, 1.60549351e-04, 1.54678441e-05,\n",
              "        1.10955422e-06, 8.74830606e-01, 8.73771942e-01, 7.54143904e-01,\n",
              "        8.74830434e-01, 8.74830992e-01, 8.74830666e-01, 3.49854177e-03,\n",
              "        8.02234347e-01, 8.74830772e-01, 8.54960095e-01, 8.74830833e-01,\n",
              "        7.11098928e-01, 8.74830514e-01, 8.74830669e-01, 8.68558532e-01,\n",
              "        7.47664096e-01, 1.97448861e-03, 8.74830937e-01, 8.74830787e-01,\n",
              "        7.46406403e-01, 8.74830533e-01, 8.74830745e-01, 8.74830622e-01,\n",
              "        2.73826614e-02, 3.73915320e-16, 8.74830742e-01, 8.74830601e-01,\n",
              "        8.59080422e-01, 8.74827917e-01, 3.46650071e-16, 8.74830600e-01,\n",
              "        1.08414585e-03, 8.52332724e-01, 4.68194732e-03, 8.43900670e-01,\n",
              "        8.61998223e-01, 8.74830638e-01, 8.74831003e-01, 8.74830881e-01,\n",
              "        4.05192349e-04, 8.74830605e-01, 8.74830882e-01, 8.74830966e-01,\n",
              "        8.74830837e-01, 2.05094599e-01, 7.50640307e-01, 3.04746690e-05,\n",
              "        1.76580733e-01, 8.74830603e-01, 2.34633386e-01, 1.97409607e-03,\n",
              "        5.91560247e-03, 8.65072778e-01, 7.86719195e-07, 8.74829555e-01,\n",
              "        8.74827491e-01, 8.74830642e-01, 8.74830508e-01, 8.74830564e-01,\n",
              "        8.49016941e-01, 7.76648997e-01, 4.02835606e-01, 7.74646795e-01,\n",
              "        2.82072188e-01, 8.74830731e-01, 8.74830990e-01, 8.56315141e-01,\n",
              "        8.96080884e-05, 8.71437937e-01, 8.74830349e-01, 8.44863757e-01,\n",
              "        7.29483733e-01, 8.74831361e-01, 1.42502735e-10, 8.69558568e-01,\n",
              "        8.73453100e-01, 1.67158676e-02, 8.74830508e-01, 7.68900113e-02,\n",
              "        8.74830549e-01, 8.72833962e-01, 8.17334452e-01, 8.49318654e-01,\n",
              "        7.32195986e-01, 5.50140741e-02, 8.74831090e-01]])"
            ]
          },
          "metadata": {
            "tags": []
          },
          "execution_count": 51
        }
      ]
    },
    {
      "cell_type": "code",
      "metadata": {
        "id": "YYZvW_g9CtoX"
      },
      "source": [
        "# Ajustamos o shape em treino\n",
        "y_pred_treino = y_pred_treino.reshape(-1)\n",
        "y_treino = y_treino.reshape(-1)"
      ],
      "execution_count": 52,
      "outputs": []
    },
    {
      "cell_type": "code",
      "metadata": {
        "colab": {
          "base_uri": "https://localhost:8080/"
        },
        "id": "WXppAI3sCtoY",
        "outputId": "63678c7c-5776-40c3-9462-083cf0dc9d9b"
      },
      "source": [
        "y_pred_treino > 0.5"
      ],
      "execution_count": 53,
      "outputs": [
        {
          "output_type": "execute_result",
          "data": {
            "text/plain": [
              "array([False,  True,  True,  True,  True,  True, False,  True,  True,\n",
              "       False, False, False,  True, False,  True,  True, False, False,\n",
              "       False,  True, False, False,  True, False,  True, False,  True,\n",
              "       False,  True,  True, False,  True, False, False,  True, False,\n",
              "        True,  True,  True,  True, False, False, False,  True,  True,\n",
              "        True, False,  True, False,  True,  True,  True,  True,  True,\n",
              "        True, False, False,  True,  True, False,  True,  True,  True,\n",
              "       False, False,  True, False,  True,  True,  True,  True, False,\n",
              "        True,  True,  True,  True,  True, False, False, False,  True,\n",
              "        True,  True,  True,  True, False, False,  True,  True, False,\n",
              "        True,  True,  True, False,  True,  True, False, False,  True,\n",
              "       False,  True, False, False,  True,  True,  True,  True,  True,\n",
              "        True,  True,  True,  True,  True,  True,  True, False,  True,\n",
              "       False,  True,  True, False,  True,  True, False,  True, False,\n",
              "       False,  True, False, False, False,  True,  True,  True,  True,\n",
              "        True,  True, False,  True, False,  True,  True,  True,  True,\n",
              "        True,  True,  True,  True,  True,  True,  True,  True, False,\n",
              "       False, False,  True,  True, False,  True,  True,  True,  True,\n",
              "        True,  True, False,  True, False,  True, False,  True, False,\n",
              "        True,  True,  True,  True, False,  True,  True,  True,  True,\n",
              "        True,  True,  True,  True, False, False, False, False,  True,\n",
              "        True, False, False,  True, False,  True, False,  True,  True,\n",
              "       False,  True, False,  True,  True,  True,  True, False, False,\n",
              "        True, False, False,  True, False, False,  True,  True,  True,\n",
              "        True, False,  True,  True,  True,  True,  True,  True, False,\n",
              "       False, False, False, False, False,  True,  True, False, False,\n",
              "       False,  True, False,  True,  True,  True,  True,  True,  True,\n",
              "        True,  True,  True,  True,  True,  True,  True,  True,  True,\n",
              "       False, False,  True,  True, False,  True,  True,  True,  True,\n",
              "       False,  True, False,  True,  True,  True,  True, False, False,\n",
              "        True,  True,  True, False,  True,  True, False, False,  True,\n",
              "       False, False,  True,  True,  True, False, False,  True, False,\n",
              "        True,  True, False, False,  True,  True, False,  True,  True,\n",
              "       False,  True,  True, False,  True,  True,  True,  True,  True,\n",
              "        True,  True, False,  True,  True,  True, False, False,  True,\n",
              "        True,  True,  True,  True, False,  True,  True,  True,  True,\n",
              "        True,  True,  True,  True,  True, False, False, False, False,\n",
              "        True,  True,  True,  True,  True,  True,  True, False,  True,\n",
              "        True, False,  True,  True,  True,  True,  True,  True,  True,\n",
              "       False, False,  True,  True, False,  True,  True,  True, False,\n",
              "        True, False, False, False, False,  True,  True,  True,  True,\n",
              "        True, False,  True,  True, False,  True,  True,  True, False,\n",
              "       False,  True, False,  True,  True,  True,  True, False, False,\n",
              "       False,  True,  True, False,  True,  True,  True, False, False,\n",
              "       False,  True,  True,  True,  True,  True,  True, False,  True,\n",
              "        True,  True,  True,  True,  True,  True,  True,  True, False,\n",
              "        True,  True,  True,  True,  True,  True, False, False,  True,\n",
              "        True,  True,  True, False,  True, False,  True, False,  True,\n",
              "        True,  True,  True,  True, False,  True,  True,  True,  True,\n",
              "       False,  True, False, False,  True, False, False, False,  True,\n",
              "       False,  True,  True,  True,  True,  True,  True,  True, False,\n",
              "        True, False,  True,  True,  True, False,  True,  True,  True,\n",
              "        True,  True, False,  True,  True, False,  True, False,  True,\n",
              "        True,  True,  True,  True, False,  True])"
            ]
          },
          "metadata": {
            "tags": []
          },
          "execution_count": 53
        }
      ]
    },
    {
      "cell_type": "code",
      "metadata": {
        "id": "CWrGY_VfCtoY"
      },
      "source": [
        "# Convertemos as previsões para o valor binário de classe \n",
        "# (0 ou 1, usando como threshold o valor de 0.5 da probabilidade)\n",
        "y_pred_treino = 1 * (y_pred_treino > 0.5)"
      ],
      "execution_count": 54,
      "outputs": []
    },
    {
      "cell_type": "code",
      "metadata": {
        "colab": {
          "base_uri": "https://localhost:8080/"
        },
        "id": "kT7aNmeHCtoZ",
        "outputId": "79aa38e8-40fe-4999-9149-1310a7af9216"
      },
      "source": [
        "y_pred_treino"
      ],
      "execution_count": 55,
      "outputs": [
        {
          "output_type": "execute_result",
          "data": {
            "text/plain": [
              "array([0, 1, 1, 1, 1, 1, 0, 1, 1, 0, 0, 0, 1, 0, 1, 1, 0, 0, 0, 1, 0, 0,\n",
              "       1, 0, 1, 0, 1, 0, 1, 1, 0, 1, 0, 0, 1, 0, 1, 1, 1, 1, 0, 0, 0, 1,\n",
              "       1, 1, 0, 1, 0, 1, 1, 1, 1, 1, 1, 0, 0, 1, 1, 0, 1, 1, 1, 0, 0, 1,\n",
              "       0, 1, 1, 1, 1, 0, 1, 1, 1, 1, 1, 0, 0, 0, 1, 1, 1, 1, 1, 0, 0, 1,\n",
              "       1, 0, 1, 1, 1, 0, 1, 1, 0, 0, 1, 0, 1, 0, 0, 1, 1, 1, 1, 1, 1, 1,\n",
              "       1, 1, 1, 1, 1, 0, 1, 0, 1, 1, 0, 1, 1, 0, 1, 0, 0, 1, 0, 0, 0, 1,\n",
              "       1, 1, 1, 1, 1, 0, 1, 0, 1, 1, 1, 1, 1, 1, 1, 1, 1, 1, 1, 1, 0, 0,\n",
              "       0, 1, 1, 0, 1, 1, 1, 1, 1, 1, 0, 1, 0, 1, 0, 1, 0, 1, 1, 1, 1, 0,\n",
              "       1, 1, 1, 1, 1, 1, 1, 1, 0, 0, 0, 0, 1, 1, 0, 0, 1, 0, 1, 0, 1, 1,\n",
              "       0, 1, 0, 1, 1, 1, 1, 0, 0, 1, 0, 0, 1, 0, 0, 1, 1, 1, 1, 0, 1, 1,\n",
              "       1, 1, 1, 1, 0, 0, 0, 0, 0, 0, 1, 1, 0, 0, 0, 1, 0, 1, 1, 1, 1, 1,\n",
              "       1, 1, 1, 1, 1, 1, 1, 1, 1, 1, 0, 0, 1, 1, 0, 1, 1, 1, 1, 0, 1, 0,\n",
              "       1, 1, 1, 1, 0, 0, 1, 1, 1, 0, 1, 1, 0, 0, 1, 0, 0, 1, 1, 1, 0, 0,\n",
              "       1, 0, 1, 1, 0, 0, 1, 1, 0, 1, 1, 0, 1, 1, 0, 1, 1, 1, 1, 1, 1, 1,\n",
              "       0, 1, 1, 1, 0, 0, 1, 1, 1, 1, 1, 0, 1, 1, 1, 1, 1, 1, 1, 1, 1, 0,\n",
              "       0, 0, 0, 1, 1, 1, 1, 1, 1, 1, 0, 1, 1, 0, 1, 1, 1, 1, 1, 1, 1, 0,\n",
              "       0, 1, 1, 0, 1, 1, 1, 0, 1, 0, 0, 0, 0, 1, 1, 1, 1, 1, 0, 1, 1, 0,\n",
              "       1, 1, 1, 0, 0, 1, 0, 1, 1, 1, 1, 0, 0, 0, 1, 1, 0, 1, 1, 1, 0, 0,\n",
              "       0, 1, 1, 1, 1, 1, 1, 0, 1, 1, 1, 1, 1, 1, 1, 1, 1, 0, 1, 1, 1, 1,\n",
              "       1, 1, 0, 0, 1, 1, 1, 1, 0, 1, 0, 1, 0, 1, 1, 1, 1, 1, 0, 1, 1, 1,\n",
              "       1, 0, 1, 0, 0, 1, 0, 0, 0, 1, 0, 1, 1, 1, 1, 1, 1, 1, 0, 1, 0, 1,\n",
              "       1, 1, 0, 1, 1, 1, 1, 1, 0, 1, 1, 0, 1, 0, 1, 1, 1, 1, 1, 0, 1])"
            ]
          },
          "metadata": {
            "tags": []
          },
          "execution_count": 55
        }
      ]
    },
    {
      "cell_type": "code",
      "metadata": {
        "id": "k52B9FONCtoZ"
      },
      "source": [
        "# Calculamos a acurácia comparando valor real com valor previsto\n",
        "acc_treino = sum(1 * (y_pred_treino == y_treino)) / len(y_pred_treino) * 100"
      ],
      "execution_count": 56,
      "outputs": []
    },
    {
      "cell_type": "code",
      "metadata": {
        "colab": {
          "base_uri": "https://localhost:8080/"
        },
        "id": "BZ1mhwmNCtoZ",
        "outputId": "2c7d7b02-dbd4-4612-f7d4-27c74609d175"
      },
      "source": [
        "print(\"Acurácia nos dados de treino: \" + str(acc_treino))"
      ],
      "execution_count": 57,
      "outputs": [
        {
          "output_type": "stream",
          "text": [
            "Acurácia nos dados de treino: 92.54658385093167\n"
          ],
          "name": "stdout"
        }
      ]
    },
    {
      "cell_type": "code",
      "metadata": {
        "colab": {
          "base_uri": "https://localhost:8080/"
        },
        "id": "zZAq-XtxCtoa",
        "outputId": "329ab5af-5f49-4880-eda5-884ebca77d43"
      },
      "source": [
        "print(classification_report(y_treino, y_pred_treino, target_names = ['Maligno', 'Benigno']))"
      ],
      "execution_count": 58,
      "outputs": [
        {
          "output_type": "stream",
          "text": [
            "              precision    recall  f1-score   support\n",
            "\n",
            "     Maligno       0.95      0.85      0.89       181\n",
            "     Benigno       0.91      0.97      0.94       302\n",
            "\n",
            "    accuracy                           0.93       483\n",
            "   macro avg       0.93      0.91      0.92       483\n",
            "weighted avg       0.93      0.93      0.92       483\n",
            "\n"
          ],
          "name": "stdout"
        }
      ]
    },
    {
      "cell_type": "code",
      "metadata": {
        "id": "FdCqZN-DCtoa"
      },
      "source": [
        "# Previsões com o modelo usando dados de teste\n",
        "y_pred_teste = predict(X_teste, parametros)"
      ],
      "execution_count": 59,
      "outputs": []
    },
    {
      "cell_type": "code",
      "metadata": {
        "colab": {
          "base_uri": "https://localhost:8080/"
        },
        "id": "_GJEG2qkCtob",
        "outputId": "473814a7-5abc-47ed-ca33-c7b8fa69dede"
      },
      "source": [
        "# Visualiza os dados\n",
        "y_pred_teste"
      ],
      "execution_count": 60,
      "outputs": [
        {
          "output_type": "execute_result",
          "data": {
            "text/plain": [
              "array([[8.11015599e-01, 4.42242450e-01, 2.89685996e-05, 8.74830975e-01,\n",
              "        4.53984756e-02, 8.74830785e-01, 3.38961333e-01, 5.43834820e-01,\n",
              "        7.78421485e-01, 8.74830619e-01, 1.23477822e-02, 4.06819431e-01,\n",
              "        3.42340213e-05, 8.74830114e-01, 8.01859934e-01, 8.74831012e-01,\n",
              "        8.74830955e-01, 2.28616922e-06, 8.74830963e-01, 8.74830801e-01,\n",
              "        8.74830761e-01, 7.44711423e-01, 8.74830847e-01, 8.74830461e-01,\n",
              "        5.05177569e-06, 8.74830846e-01, 8.52183243e-01, 8.64156120e-01,\n",
              "        7.07694250e-01, 3.84312973e-04, 1.92105227e-12, 8.74830610e-01,\n",
              "        7.17070935e-02, 8.74830953e-01, 7.40701893e-01, 8.74830557e-01,\n",
              "        8.74830727e-01, 6.01983527e-05, 1.06311688e-08, 1.59017165e-01,\n",
              "        5.88034889e-07, 1.66592685e-05, 8.15776566e-01, 8.74830799e-01,\n",
              "        1.84843206e-04, 8.74830596e-01, 8.76357141e-08, 8.74830637e-01,\n",
              "        5.23215575e-04, 8.65401808e-01, 8.74830708e-01, 8.74830673e-01,\n",
              "        8.74830924e-01, 8.74830534e-01, 8.74830628e-01, 8.74830799e-01,\n",
              "        3.51777009e-01, 8.80809125e-04, 1.41671103e-04, 3.15713476e-22,\n",
              "        8.74830675e-01, 2.66099630e-02, 8.74828290e-01, 9.95137229e-13,\n",
              "        8.74830618e-01, 1.04693928e-02, 6.28040243e-08, 5.06277876e-01,\n",
              "        2.05801911e-04, 8.74830845e-01, 8.74830918e-01, 8.74830524e-01,\n",
              "        8.74830538e-01, 8.74830589e-01, 8.74830606e-01, 8.59099748e-01,\n",
              "        8.11102089e-01, 8.74830666e-01, 8.74830780e-01, 8.74830830e-01,\n",
              "        4.56224353e-04, 7.33444126e-01, 7.47418344e-01, 8.06094009e-01,\n",
              "        1.12416783e-05, 8.74830946e-01]])"
            ]
          },
          "metadata": {
            "tags": []
          },
          "execution_count": 60
        }
      ]
    },
    {
      "cell_type": "code",
      "metadata": {
        "id": "iZBQx8wgCtob"
      },
      "source": [
        "# Ajustamos os shapes\n",
        "y_pred_teste = y_pred_teste.reshape(-1)\n",
        "y_teste = y_teste.reshape(-1)"
      ],
      "execution_count": 61,
      "outputs": []
    },
    {
      "cell_type": "code",
      "metadata": {
        "id": "XpifeW40Ctob"
      },
      "source": [
        "# Convertemos as previsões para o valor binário de classe\n",
        "y_pred_teste = 1 * (y_pred_teste > 0.5)"
      ],
      "execution_count": 62,
      "outputs": []
    },
    {
      "cell_type": "code",
      "metadata": {
        "colab": {
          "base_uri": "https://localhost:8080/"
        },
        "id": "CYUozoFdCtoc",
        "outputId": "00220a25-7ea6-483a-83af-ed8d51704aad"
      },
      "source": [
        "# Visualizamos as previsões\n",
        "y_pred_teste"
      ],
      "execution_count": 63,
      "outputs": [
        {
          "output_type": "execute_result",
          "data": {
            "text/plain": [
              "array([1, 0, 0, 1, 0, 1, 0, 1, 1, 1, 0, 0, 0, 1, 1, 1, 1, 0, 1, 1, 1, 1,\n",
              "       1, 1, 0, 1, 1, 1, 1, 0, 0, 1, 0, 1, 1, 1, 1, 0, 0, 0, 0, 0, 1, 1,\n",
              "       0, 1, 0, 1, 0, 1, 1, 1, 1, 1, 1, 1, 0, 0, 0, 0, 1, 0, 1, 0, 1, 0,\n",
              "       0, 1, 0, 1, 1, 1, 1, 1, 1, 1, 1, 1, 1, 1, 0, 1, 1, 1, 0, 1])"
            ]
          },
          "metadata": {
            "tags": []
          },
          "execution_count": 63
        }
      ]
    },
    {
      "cell_type": "code",
      "metadata": {
        "id": "medMx-5KCtod"
      },
      "source": [
        "# Calculamos a acurácia\n",
        "acuracia = sum(1 * (y_pred_teste == y_teste)) / len(y_pred_teste) * 100"
      ],
      "execution_count": 64,
      "outputs": []
    },
    {
      "cell_type": "code",
      "metadata": {
        "colab": {
          "base_uri": "https://localhost:8080/"
        },
        "id": "ZA9ozoWSCtod",
        "outputId": "478f1062-6dab-4406-9db5-5ef81e75590d"
      },
      "source": [
        "print(\"Acurácia nos dados de teste: \" + str(acuracia))"
      ],
      "execution_count": 65,
      "outputs": [
        {
          "output_type": "stream",
          "text": [
            "Acurácia nos dados de teste: 93.02325581395348\n"
          ],
          "name": "stdout"
        }
      ]
    },
    {
      "cell_type": "code",
      "metadata": {
        "colab": {
          "base_uri": "https://localhost:8080/"
        },
        "id": "EO3g8R8pCtoe",
        "outputId": "dd47d151-1871-42d4-debd-5b722bb370c6"
      },
      "source": [
        "print(classification_report(y_teste, y_pred_teste, target_names = ['Maligno', 'Benigno']))"
      ],
      "execution_count": 66,
      "outputs": [
        {
          "output_type": "stream",
          "text": [
            "              precision    recall  f1-score   support\n",
            "\n",
            "     Maligno       0.90      0.90      0.90        31\n",
            "     Benigno       0.95      0.95      0.95        55\n",
            "\n",
            "    accuracy                           0.93        86\n",
            "   macro avg       0.92      0.92      0.92        86\n",
            "weighted avg       0.93      0.93      0.93        86\n",
            "\n"
          ],
          "name": "stdout"
        }
      ]
    }
  ]
}