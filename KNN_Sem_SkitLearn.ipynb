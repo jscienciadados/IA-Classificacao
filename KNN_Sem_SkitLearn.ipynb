{
  "nbformat": 4,
  "nbformat_minor": 0,
  "metadata": {
    "colab": {
      "name": "KNN-Sem-SkitLearn.ipynb",
      "provenance": [],
      "collapsed_sections": [],
      "authorship_tag": "ABX9TyPh7UZSq7Uyj5Fnnr8uJk1q",
      "include_colab_link": true
    },
    "kernelspec": {
      "name": "python3",
      "display_name": "Python 3"
    },
    "language_info": {
      "name": "python"
    }
  },
  "cells": [
    {
      "cell_type": "markdown",
      "metadata": {
        "id": "view-in-github",
        "colab_type": "text"
      },
      "source": [
        "<a href=\"https://colab.research.google.com/github/jscienciadados/IA-Classificacao/blob/main/KNN_Sem_SkitLearn.ipynb\" target=\"_parent\"><img src=\"https://colab.research.google.com/assets/colab-badge.svg\" alt=\"Open In Colab\"/></a>"
      ]
    },
    {
      "cell_type": "markdown",
      "metadata": {
        "id": "Vxh4NH8pLzys"
      },
      "source": [
        "# <font color='blue'>Problema:</font>\n",
        "\n",
        "Desenvolver o algoritmo KNN usando apenas a linguagem python e numpy, usando como referencia este paper: http://citeseerx.ist.psu.edu/viewdoc/download?doi=10.1.1.2.815&rep=rep1&type=pdf."
      ]
    },
    {
      "cell_type": "markdown",
      "metadata": {
        "id": "1MYD2pt6NZj-"
      },
      "source": [
        "Classificar espécies de plantas em 3  categorias, o dataset possui 4 variaveis preditoras representando caracteristicas da planta e uma variavel representando a classe. O algoritmo knn deve prever a classe de uma nova planta."
      ]
    },
    {
      "cell_type": "code",
      "metadata": {
        "id": "JKB5FtDMLsSg"
      },
      "source": [
        "# Imports\n",
        "import numpy as np\n",
        "import pandas as pd\n",
        "from sklearn.model_selection import train_test_split"
      ],
      "execution_count": 1,
      "outputs": []
    },
    {
      "cell_type": "code",
      "metadata": {
        "colab": {
          "base_uri": "https://localhost:8080/",
          "height": 204
        },
        "id": "bzj2YreTOJNP",
        "outputId": "4f3ad846-ac48-49e5-bf36-0d9a71d20086"
      },
      "source": [
        "# Carregando o dataset\n",
        "names = ['sepal_length', 'sepal_width', 'petal_length', 'petal_width', 'classe']\n",
        "iris_data = pd.read_csv('iris.data', names = names)\n",
        "iris_data.head()"
      ],
      "execution_count": 2,
      "outputs": [
        {
          "output_type": "execute_result",
          "data": {
            "text/html": [
              "<div>\n",
              "<style scoped>\n",
              "    .dataframe tbody tr th:only-of-type {\n",
              "        vertical-align: middle;\n",
              "    }\n",
              "\n",
              "    .dataframe tbody tr th {\n",
              "        vertical-align: top;\n",
              "    }\n",
              "\n",
              "    .dataframe thead th {\n",
              "        text-align: right;\n",
              "    }\n",
              "</style>\n",
              "<table border=\"1\" class=\"dataframe\">\n",
              "  <thead>\n",
              "    <tr style=\"text-align: right;\">\n",
              "      <th></th>\n",
              "      <th>sepal_length</th>\n",
              "      <th>sepal_width</th>\n",
              "      <th>petal_length</th>\n",
              "      <th>petal_width</th>\n",
              "      <th>classe</th>\n",
              "    </tr>\n",
              "  </thead>\n",
              "  <tbody>\n",
              "    <tr>\n",
              "      <th>0</th>\n",
              "      <td>5.1</td>\n",
              "      <td>3.5</td>\n",
              "      <td>1.4</td>\n",
              "      <td>0.2</td>\n",
              "      <td>Iris-setosa</td>\n",
              "    </tr>\n",
              "    <tr>\n",
              "      <th>1</th>\n",
              "      <td>4.9</td>\n",
              "      <td>3.0</td>\n",
              "      <td>1.4</td>\n",
              "      <td>0.2</td>\n",
              "      <td>Iris-setosa</td>\n",
              "    </tr>\n",
              "    <tr>\n",
              "      <th>2</th>\n",
              "      <td>4.7</td>\n",
              "      <td>3.2</td>\n",
              "      <td>1.3</td>\n",
              "      <td>0.2</td>\n",
              "      <td>Iris-setosa</td>\n",
              "    </tr>\n",
              "    <tr>\n",
              "      <th>3</th>\n",
              "      <td>4.6</td>\n",
              "      <td>3.1</td>\n",
              "      <td>1.5</td>\n",
              "      <td>0.2</td>\n",
              "      <td>Iris-setosa</td>\n",
              "    </tr>\n",
              "    <tr>\n",
              "      <th>4</th>\n",
              "      <td>5.0</td>\n",
              "      <td>3.6</td>\n",
              "      <td>1.4</td>\n",
              "      <td>0.2</td>\n",
              "      <td>Iris-setosa</td>\n",
              "    </tr>\n",
              "  </tbody>\n",
              "</table>\n",
              "</div>"
            ],
            "text/plain": [
              "   sepal_length  sepal_width  petal_length  petal_width       classe\n",
              "0           5.1          3.5           1.4          0.2  Iris-setosa\n",
              "1           4.9          3.0           1.4          0.2  Iris-setosa\n",
              "2           4.7          3.2           1.3          0.2  Iris-setosa\n",
              "3           4.6          3.1           1.5          0.2  Iris-setosa\n",
              "4           5.0          3.6           1.4          0.2  Iris-setosa"
            ]
          },
          "metadata": {
            "tags": []
          },
          "execution_count": 2
        }
      ]
    },
    {
      "cell_type": "code",
      "metadata": {
        "id": "m-8XWjmoOdKS"
      },
      "source": [
        "# Separando variáveis preditoras e variável target\n",
        "X = iris_data.iloc[:,:4].values\n",
        "y = iris_data.iloc[:,4]\n",
        "\n",
        "# Labels da variável target\n",
        "target_class = pd.get_dummies(iris_data['classe']).columns\n",
        "target_names = np.array(target_class)\n"
      ],
      "execution_count": 3,
      "outputs": []
    },
    {
      "cell_type": "code",
      "metadata": {
        "id": "60zGLmk_Ozba"
      },
      "source": [
        "# Convertendo as classes para valores numéricos correspondentes\n",
        "y = y.replace(target_names[0], 0)\n",
        "y = y.replace(target_names[1], 1)\n",
        "y = y.replace(target_names[2], 2)\n",
        "y = np.array(y)\n"
      ],
      "execution_count": 4,
      "outputs": []
    },
    {
      "cell_type": "code",
      "metadata": {
        "colab": {
          "base_uri": "https://localhost:8080/"
        },
        "id": "Jolf3yx9PFkh",
        "outputId": "1b5422fb-f522-4388-bf39-324c43785df5"
      },
      "source": [
        "# Separando os dados em conjuntos de treino e teste\n",
        "X_train, X_test, y_train, y_test = train_test_split(X, y, test_size = 0.30, random_state = 33)\n",
        "print(X_train.shape, y_train.shape)"
      ],
      "execution_count": 5,
      "outputs": [
        {
          "output_type": "stream",
          "text": [
            "(105, 4) (105,)\n"
          ],
          "name": "stdout"
        }
      ]
    },
    {
      "cell_type": "code",
      "metadata": {
        "id": "BUJRR8h2PWqk"
      },
      "source": [
        "# Função para calcular a distância euclidiana\n",
        "def distancia_euclidiana(att1, att2):\n",
        "    dist = 0\n",
        "    for i in range(len(att1)):\n",
        "        dist += pow((att1[i] - att2[i]),2)\n",
        "    return np.sqrt(dist)\n"
      ],
      "execution_count": 6,
      "outputs": []
    },
    {
      "cell_type": "markdown",
      "metadata": {
        "id": "69kJ38-uPwIA"
      },
      "source": [
        "# Criando a função para criação do modelo Knn"
      ]
    },
    {
      "cell_type": "code",
      "metadata": {
        "id": "Q_mT_FSEPt20"
      },
      "source": [
        "# Algoritmo KNN\n",
        "def KNN(array, k):\n",
        "   \n",
        "    # Array para o resultado final\n",
        "    resultado = []\n",
        "   \n",
        "    # Loop por todos os elementos do array recebido como entrada\n",
        "    for i in range(len(array)):\n",
        "        valor = array[i]\n",
        "       \n",
        "        # Votação\n",
        "        def vote(item):\n",
        "            val = []\n",
        "            for i in range(len(knn)):\n",
        "                temp = item[i][1]\n",
        "                val.append(temp)\n",
        "            class_val = max(set(val), key = val.count)\n",
        "            return class_val\n",
        "       \n",
        "        # Aplicando a função de distância aos dados\n",
        "        distance = []\n",
        "        for j in range(len(X_train)) :\n",
        "           \n",
        "            # Calcula a distância de cada ponto de dado de entrada (array) para cada ponto de dado de treino\n",
        "            euclidean_distance = distancia_euclidiana(valor, X_train[j])\n",
        "           \n",
        "            # Cria uma lista contendo a distância calculada e o valor do label do dado de treino em j\n",
        "            temp = [euclidean_distance, y_train[j]]\n",
        "           \n",
        "            # Adiciona o item anterior à lista de distâncias\n",
        "            distance.append(temp)\n",
        "           \n",
        "        # Ordena    \n",
        "        distance.sort()\n",
        "       \n",
        "        # Obtém o valor de k para os vizinhos mais próximos\n",
        "        knn = distance[:k]\n",
        "\n",
        "        # Faz a votação\n",
        "        resultado.append(vote(knn))\n",
        "    return resultado"
      ],
      "execution_count": 7,
      "outputs": []
    },
    {
      "cell_type": "code",
      "metadata": {
        "id": "hecZ3-EZQoBu"
      },
      "source": [
        "# Avaliando o modelo\n",
        "y_test_pred = KNN(X_test, 5)\n",
        "y_test_prediction = np.asarray(y_test_pred)\n"
      ],
      "execution_count": 8,
      "outputs": []
    },
    {
      "cell_type": "code",
      "metadata": {
        "colab": {
          "base_uri": "https://localhost:8080/"
        },
        "id": "tSE-TvyWQ7KT",
        "outputId": "c20f7b58-2212-44fc-aa62-9eddca06738b"
      },
      "source": [
        "# Calculando a acurácia\n",
        "acc = y_test - y_test_prediction\n",
        "err = np.count_nonzero(acc)\n",
        "acuracia = ((len(y_test) - err) / len(y_test)) * 100\n",
        "print(f'A Acuracia do modelo foi de {acuracia:.2f}')"
      ],
      "execution_count": 10,
      "outputs": [
        {
          "output_type": "stream",
          "text": [
            "A Acuracia do modelo foi de 95.56\n"
          ],
          "name": "stdout"
        }
      ]
    },
    {
      "cell_type": "markdown",
      "metadata": {
        "id": "wt-4THWZRk6r"
      },
      "source": [
        "Gerando Previsões com novos dados"
      ]
    },
    {
      "cell_type": "code",
      "metadata": {
        "colab": {
          "base_uri": "https://localhost:8080/"
        },
        "id": "X5SAlO_xRTWz",
        "outputId": "0153a74f-e981-401e-c7e7-36155b1a2451"
      },
      "source": [
        "# Fazendo previsões para 5 novas plantas com K igual a 3\n",
        "previsoes = KNN([[6.7,3.1,4.4,1.4],[4.6,3.2,1.4,0.2],[4.6,3.2,1.4,0.2],[6.4,3.1,5.5,1.8],[6.3,3.2,5.6,1.9]], 3)\n",
        "previsoes\n"
      ],
      "execution_count": 11,
      "outputs": [
        {
          "output_type": "execute_result",
          "data": {
            "text/plain": [
              "[1, 0, 0, 2, 2]"
            ]
          },
          "metadata": {
            "tags": []
          },
          "execution_count": 11
        }
      ]
    },
    {
      "cell_type": "code",
      "metadata": {
        "colab": {
          "base_uri": "https://localhost:8080/"
        },
        "id": "HdC5hNHcRzSD",
        "outputId": "2a258339-c00e-4e2d-845c-01ac093b5f3d"
      },
      "source": [
        "# Fazendo previsões para 5 novas plantas com K igual a 5\n",
        "previsoes = KNN([[6.7,3.1,4.4,1.4],[4.6,3.2,1.4,0.2],[4.6,3.2,1.4,0.2],[6.4,3.1,5.5,1.8],[6.3,3.2,5.6,1.9]], 5)\n",
        "previsoes"
      ],
      "execution_count": 12,
      "outputs": [
        {
          "output_type": "execute_result",
          "data": {
            "text/plain": [
              "[1, 0, 0, 2, 2]"
            ]
          },
          "metadata": {
            "tags": []
          },
          "execution_count": 12
        }
      ]
    },
    {
      "cell_type": "code",
      "metadata": {
        "id": "qQrrrp_SR8Wi"
      },
      "source": [
        ""
      ],
      "execution_count": null,
      "outputs": []
    }
  ]
}